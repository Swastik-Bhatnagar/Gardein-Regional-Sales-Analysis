{
  "nbformat": 4,
  "nbformat_minor": 0,
  "metadata": {
    "colab": {
      "provenance": [],
      "machine_shape": "hm",
      "gpuType": "L4"
    },
    "kernelspec": {
      "name": "python3",
      "display_name": "Python 3"
    },
    "language_info": {
      "name": "python"
    },
    "accelerator": "GPU"
  },
  "cells": [
    {
      "cell_type": "code",
      "execution_count": null,
      "metadata": {
        "id": "HBkuD_AFK9K_"
      },
      "outputs": [],
      "source": [
        "import pandas as pd\n",
        "import numpy as np\n",
        "import statsmodels.api as sm\n",
        "from sklearn.model_selection import train_test_split\n",
        "import statsmodels.formula.api as smf"
      ]
    },
    {
      "cell_type": "code",
      "source": [
        "data = pd.read_excel(\"/content/drive/MyDrive/data.xlsx\")"
      ],
      "metadata": {
        "id": "5avlvIBoLJlG"
      },
      "execution_count": null,
      "outputs": []
    },
    {
      "cell_type": "code",
      "source": [
        "data.shape"
      ],
      "metadata": {
        "id": "tcZpUXZlLPDe",
        "colab": {
          "base_uri": "https://localhost:8080/"
        },
        "outputId": "6e9d5358-b3a9-4fd3-ade4-914cc7888692"
      },
      "execution_count": null,
      "outputs": [
        {
          "output_type": "execute_result",
          "data": {
            "text/plain": [
              "(991780, 69)"
            ]
          },
          "metadata": {},
          "execution_count": 4
        }
      ]
    },
    {
      "cell_type": "code",
      "source": [
        "data.info()"
      ],
      "metadata": {
        "colab": {
          "base_uri": "https://localhost:8080/"
        },
        "id": "pHD_SpdOabjp",
        "outputId": "3b896c8e-18aa-4f9a-fb14-7b5b45e13fde"
      },
      "execution_count": null,
      "outputs": [
        {
          "output_type": "stream",
          "name": "stdout",
          "text": [
            "<class 'pandas.core.frame.DataFrame'>\n",
            "RangeIndex: 991780 entries, 0 to 991779\n",
            "Data columns (total 69 columns):\n",
            " #   Column                                           Non-Null Count   Dtype         \n",
            "---  ------                                           --------------   -----         \n",
            " 0   Product_x                                        991780 non-null  object        \n",
            " 1   UPC 13 digit                                     991780 non-null  int64         \n",
            " 2   Unit Sales                                       991780 non-null  int64         \n",
            " 3   Unit Sales No Merch                              991780 non-null  int64         \n",
            " 4   Unit Sales Any Merch                             991780 non-null  int64         \n",
            " 5   Unit Sales Price Reductions Only                 991780 non-null  int64         \n",
            " 6   Unit Sales Feature Only                          991780 non-null  int64         \n",
            " 7   Unit Sales Display Only                          991780 non-null  int64         \n",
            " 8   Unit Sales Feature and Display                   991780 non-null  int64         \n",
            " 9   Volume Sales                                     991780 non-null  float64       \n",
            " 10  Volume Sales No Merch                            991780 non-null  int64         \n",
            " 11  Volume Sales Any Merch                           991780 non-null  int64         \n",
            " 12  Volume Sales Price Reductions Only               991780 non-null  int64         \n",
            " 13  Volume Sales Feature Only                        991780 non-null  int64         \n",
            " 14  Volume Sales Display Only                        991780 non-null  int64         \n",
            " 15  Volume Sales Feature and Display                 991780 non-null  int64         \n",
            " 16  Dollar Sales                                     991780 non-null  float64       \n",
            " 17  Dollar Sales No Merch                            971731 non-null  float64       \n",
            " 18  Dollar Sales Any Merch                           660538 non-null  float64       \n",
            " 19  Dollar Sales Price Reductions Only               623096 non-null  float64       \n",
            " 20  Dollar Sales Feature Only                        119887 non-null  float64       \n",
            " 21  Dollar Sales Display Only                        243480 non-null  float64       \n",
            " 22  Dollar Sales Special Pack Only                   0 non-null       float64       \n",
            " 23  Dollar Sales Feature and Display                 30497 non-null   float64       \n",
            " 24  Price per Unit                                   991780 non-null  float64       \n",
            " 25  Price per Unit No Merch                          971731 non-null  float64       \n",
            " 26  Price per Unit Any Merch                         660538 non-null  float64       \n",
            " 27  Price per Unit Price Reductions Only             623096 non-null  float64       \n",
            " 28  Price per Unit Feature Only                      119887 non-null  float64       \n",
            " 29  Price per Unit Display Only                      243480 non-null  float64       \n",
            " 30  Price per Unit Feature and Display               30497 non-null   float64       \n",
            " 31  Price per Volume                                 991780 non-null  float64       \n",
            " 32  Price per Volume No Merch                        971731 non-null  float64       \n",
            " 33  Price per Volume Any Merch                       660538 non-null  float64       \n",
            " 34  Price per Volume Price Reductions Only           623096 non-null  float64       \n",
            " 35  Price per Volume Feature Only                    119887 non-null  float64       \n",
            " 36  Price per Volume Display Only                    243480 non-null  float64       \n",
            " 37  Price per Volume Special Pack Only               0 non-null       float64       \n",
            " 38  Price per Volume Feature and Display             30497 non-null   float64       \n",
            " 39  Base Unit Sales                                  991780 non-null  int64         \n",
            " 40  Base Volume Sales                                991780 non-null  int64         \n",
            " 41  Base Dollar Sales                                991780 non-null  float64       \n",
            " 42  Incremental Units                                660538 non-null  float64       \n",
            " 43  Incremental Volume                               660538 non-null  float64       \n",
            " 44  Incremental Dollars                              660538 non-null  float64       \n",
            " 45  ACV Weighted Distribution                        991780 non-null  float64       \n",
            " 46  ACV Weighted Distribution No Merch               971731 non-null  float64       \n",
            " 47  ACV Weighted Distribution Any Merch              660538 non-null  float64       \n",
            " 48  ACV Weighted Distribution Price Reductions Only  623096 non-null  float64       \n",
            " 49  ACV Weighted Distribution Feature Only           119887 non-null  float64       \n",
            " 50  ACV Weighted Distribution Display Only           243480 non-null  float64       \n",
            " 51  ACV Weighted Distribution Feature and Display    30497 non-null   float64       \n",
            " 52  Aisle Name                                       991780 non-null  object        \n",
            " 53  Category Name                                    991780 non-null  object        \n",
            " 54  Sub-Category Name                                991780 non-null  object        \n",
            " 55  Manufacturer Name                                991780 non-null  object        \n",
            " 56  Brand Franchise Name                             991780 non-null  object        \n",
            " 57  Brand Name                                       991780 non-null  object        \n",
            " 58  Package                                          991780 non-null  object        \n",
            " 59  Total Count                                      991780 non-null  int64         \n",
            " 60  Total Ounces                                     991780 non-null  float64       \n",
            " 61  Form                                             991780 non-null  object        \n",
            " 62  Flavor / Scent                                   991780 non-null  object        \n",
            " 63  Product Type                                     991780 non-null  object        \n",
            " 64  Type Of Meat Substituted                         733238 non-null  object        \n",
            " 65  Type Of Substitute                               733238 non-null  object        \n",
            " 66  Cooked Info                                      991780 non-null  object        \n",
            " 67  Date                                             991780 non-null  datetime64[ns]\n",
            " 68  Region                                           991780 non-null  object        \n",
            "dtypes: datetime64[ns](1), float64(36), int64(17), object(15)\n",
            "memory usage: 522.1+ MB\n"
          ]
        }
      ]
    },
    {
      "cell_type": "code",
      "source": [
        "ppu = data.groupby('Brand Name')[['Price per Unit', 'Unit Sales', 'Volume Sales', 'Dollar Sales', 'Price per Volume']].sum().reset_index()"
      ],
      "metadata": {
        "id": "Pm2Ngi0ma0Hw"
      },
      "execution_count": null,
      "outputs": []
    },
    {
      "cell_type": "code",
      "source": [
        "ppu = ppu[ppu['Brand Name'] != \"PRIVATE LABEL\"]"
      ],
      "metadata": {
        "id": "A0Us41h9cPKd"
      },
      "execution_count": null,
      "outputs": []
    },
    {
      "cell_type": "code",
      "source": [
        "ppu.sort_values(by=\"Dollar Sales\", ascending=False).head(10)"
      ],
      "metadata": {
        "colab": {
          "base_uri": "https://localhost:8080/",
          "height": 363
        },
        "id": "NTFeDVG1g9RS",
        "outputId": "bf351ee9-68ac-4c8e-d14f-874e53e80c44"
      },
      "execution_count": null,
      "outputs": [
        {
          "output_type": "execute_result",
          "data": {
            "text/plain": [
              "                     Brand Name  Price per Unit  Unit Sales  Volume Sales  \\\n",
              "120           MORNINGSTAR FARMS   364412.138517   426113124  2.809315e+08   \n",
              "91                   IMPOSSIBLE   159024.742665   141971772  1.099315e+08   \n",
              "66                      GARDEIN   383076.399487   195622201  1.455550e+08   \n",
              "15    BEYOND MEAT BEYOND BURGER    37414.689097    85121181  5.079289e+07   \n",
              "13                  BEYOND MEAT    87534.903420    63255071  5.787699e+07   \n",
              "16   BEYOND MEAT BEYOND SAUSAGE    44061.232856    46290870  4.050692e+07   \n",
              "190                     TOFURKY   216693.352103    84177343  4.221858e+07   \n",
              "54                  FIELD ROAST   179603.214026    50352061  3.851213e+07   \n",
              "23                         BOCA   159285.834235    72270200  4.921962e+07   \n",
              "123  MORNINGSTAR FARMS GRILLERS    30183.444962    50783248  3.783811e+07   \n",
              "\n",
              "     Dollar Sales  Price per Volume  \n",
              "120  2.059644e+09     463476.629765  \n",
              "91   1.015503e+09     182237.025310  \n",
              "66   9.404258e+08     484824.813519  \n",
              "15   4.844174e+08      39140.157664  \n",
              "13   4.811132e+08     102625.711542  \n",
              "16   3.660306e+08      50355.694693  \n",
              "190  3.533746e+08     355157.539947  \n",
              "54   2.938434e+08     268884.709455  \n",
              "23   2.850745e+08     181443.607858  \n",
              "123  2.492869e+08      37405.350358  "
            ],
            "text/html": [
              "\n",
              "  <div id=\"df-fe90e4d9-e496-4c76-b4a9-1259ad28c713\" class=\"colab-df-container\">\n",
              "    <div>\n",
              "<style scoped>\n",
              "    .dataframe tbody tr th:only-of-type {\n",
              "        vertical-align: middle;\n",
              "    }\n",
              "\n",
              "    .dataframe tbody tr th {\n",
              "        vertical-align: top;\n",
              "    }\n",
              "\n",
              "    .dataframe thead th {\n",
              "        text-align: right;\n",
              "    }\n",
              "</style>\n",
              "<table border=\"1\" class=\"dataframe\">\n",
              "  <thead>\n",
              "    <tr style=\"text-align: right;\">\n",
              "      <th></th>\n",
              "      <th>Brand Name</th>\n",
              "      <th>Price per Unit</th>\n",
              "      <th>Unit Sales</th>\n",
              "      <th>Volume Sales</th>\n",
              "      <th>Dollar Sales</th>\n",
              "      <th>Price per Volume</th>\n",
              "    </tr>\n",
              "  </thead>\n",
              "  <tbody>\n",
              "    <tr>\n",
              "      <th>120</th>\n",
              "      <td>MORNINGSTAR FARMS</td>\n",
              "      <td>364412.138517</td>\n",
              "      <td>426113124</td>\n",
              "      <td>2.809315e+08</td>\n",
              "      <td>2.059644e+09</td>\n",
              "      <td>463476.629765</td>\n",
              "    </tr>\n",
              "    <tr>\n",
              "      <th>91</th>\n",
              "      <td>IMPOSSIBLE</td>\n",
              "      <td>159024.742665</td>\n",
              "      <td>141971772</td>\n",
              "      <td>1.099315e+08</td>\n",
              "      <td>1.015503e+09</td>\n",
              "      <td>182237.025310</td>\n",
              "    </tr>\n",
              "    <tr>\n",
              "      <th>66</th>\n",
              "      <td>GARDEIN</td>\n",
              "      <td>383076.399487</td>\n",
              "      <td>195622201</td>\n",
              "      <td>1.455550e+08</td>\n",
              "      <td>9.404258e+08</td>\n",
              "      <td>484824.813519</td>\n",
              "    </tr>\n",
              "    <tr>\n",
              "      <th>15</th>\n",
              "      <td>BEYOND MEAT BEYOND BURGER</td>\n",
              "      <td>37414.689097</td>\n",
              "      <td>85121181</td>\n",
              "      <td>5.079289e+07</td>\n",
              "      <td>4.844174e+08</td>\n",
              "      <td>39140.157664</td>\n",
              "    </tr>\n",
              "    <tr>\n",
              "      <th>13</th>\n",
              "      <td>BEYOND MEAT</td>\n",
              "      <td>87534.903420</td>\n",
              "      <td>63255071</td>\n",
              "      <td>5.787699e+07</td>\n",
              "      <td>4.811132e+08</td>\n",
              "      <td>102625.711542</td>\n",
              "    </tr>\n",
              "    <tr>\n",
              "      <th>16</th>\n",
              "      <td>BEYOND MEAT BEYOND SAUSAGE</td>\n",
              "      <td>44061.232856</td>\n",
              "      <td>46290870</td>\n",
              "      <td>4.050692e+07</td>\n",
              "      <td>3.660306e+08</td>\n",
              "      <td>50355.694693</td>\n",
              "    </tr>\n",
              "    <tr>\n",
              "      <th>190</th>\n",
              "      <td>TOFURKY</td>\n",
              "      <td>216693.352103</td>\n",
              "      <td>84177343</td>\n",
              "      <td>4.221858e+07</td>\n",
              "      <td>3.533746e+08</td>\n",
              "      <td>355157.539947</td>\n",
              "    </tr>\n",
              "    <tr>\n",
              "      <th>54</th>\n",
              "      <td>FIELD ROAST</td>\n",
              "      <td>179603.214026</td>\n",
              "      <td>50352061</td>\n",
              "      <td>3.851213e+07</td>\n",
              "      <td>2.938434e+08</td>\n",
              "      <td>268884.709455</td>\n",
              "    </tr>\n",
              "    <tr>\n",
              "      <th>23</th>\n",
              "      <td>BOCA</td>\n",
              "      <td>159285.834235</td>\n",
              "      <td>72270200</td>\n",
              "      <td>4.921962e+07</td>\n",
              "      <td>2.850745e+08</td>\n",
              "      <td>181443.607858</td>\n",
              "    </tr>\n",
              "    <tr>\n",
              "      <th>123</th>\n",
              "      <td>MORNINGSTAR FARMS GRILLERS</td>\n",
              "      <td>30183.444962</td>\n",
              "      <td>50783248</td>\n",
              "      <td>3.783811e+07</td>\n",
              "      <td>2.492869e+08</td>\n",
              "      <td>37405.350358</td>\n",
              "    </tr>\n",
              "  </tbody>\n",
              "</table>\n",
              "</div>\n",
              "    <div class=\"colab-df-buttons\">\n",
              "\n",
              "  <div class=\"colab-df-container\">\n",
              "    <button class=\"colab-df-convert\" onclick=\"convertToInteractive('df-fe90e4d9-e496-4c76-b4a9-1259ad28c713')\"\n",
              "            title=\"Convert this dataframe to an interactive table.\"\n",
              "            style=\"display:none;\">\n",
              "\n",
              "  <svg xmlns=\"http://www.w3.org/2000/svg\" height=\"24px\" viewBox=\"0 -960 960 960\">\n",
              "    <path d=\"M120-120v-720h720v720H120Zm60-500h600v-160H180v160Zm220 220h160v-160H400v160Zm0 220h160v-160H400v160ZM180-400h160v-160H180v160Zm440 0h160v-160H620v160ZM180-180h160v-160H180v160Zm440 0h160v-160H620v160Z\"/>\n",
              "  </svg>\n",
              "    </button>\n",
              "\n",
              "  <style>\n",
              "    .colab-df-container {\n",
              "      display:flex;\n",
              "      gap: 12px;\n",
              "    }\n",
              "\n",
              "    .colab-df-convert {\n",
              "      background-color: #E8F0FE;\n",
              "      border: none;\n",
              "      border-radius: 50%;\n",
              "      cursor: pointer;\n",
              "      display: none;\n",
              "      fill: #1967D2;\n",
              "      height: 32px;\n",
              "      padding: 0 0 0 0;\n",
              "      width: 32px;\n",
              "    }\n",
              "\n",
              "    .colab-df-convert:hover {\n",
              "      background-color: #E2EBFA;\n",
              "      box-shadow: 0px 1px 2px rgba(60, 64, 67, 0.3), 0px 1px 3px 1px rgba(60, 64, 67, 0.15);\n",
              "      fill: #174EA6;\n",
              "    }\n",
              "\n",
              "    .colab-df-buttons div {\n",
              "      margin-bottom: 4px;\n",
              "    }\n",
              "\n",
              "    [theme=dark] .colab-df-convert {\n",
              "      background-color: #3B4455;\n",
              "      fill: #D2E3FC;\n",
              "    }\n",
              "\n",
              "    [theme=dark] .colab-df-convert:hover {\n",
              "      background-color: #434B5C;\n",
              "      box-shadow: 0px 1px 3px 1px rgba(0, 0, 0, 0.15);\n",
              "      filter: drop-shadow(0px 1px 2px rgba(0, 0, 0, 0.3));\n",
              "      fill: #FFFFFF;\n",
              "    }\n",
              "  </style>\n",
              "\n",
              "    <script>\n",
              "      const buttonEl =\n",
              "        document.querySelector('#df-fe90e4d9-e496-4c76-b4a9-1259ad28c713 button.colab-df-convert');\n",
              "      buttonEl.style.display =\n",
              "        google.colab.kernel.accessAllowed ? 'block' : 'none';\n",
              "\n",
              "      async function convertToInteractive(key) {\n",
              "        const element = document.querySelector('#df-fe90e4d9-e496-4c76-b4a9-1259ad28c713');\n",
              "        const dataTable =\n",
              "          await google.colab.kernel.invokeFunction('convertToInteractive',\n",
              "                                                    [key], {});\n",
              "        if (!dataTable) return;\n",
              "\n",
              "        const docLinkHtml = 'Like what you see? Visit the ' +\n",
              "          '<a target=\"_blank\" href=https://colab.research.google.com/notebooks/data_table.ipynb>data table notebook</a>'\n",
              "          + ' to learn more about interactive tables.';\n",
              "        element.innerHTML = '';\n",
              "        dataTable['output_type'] = 'display_data';\n",
              "        await google.colab.output.renderOutput(dataTable, element);\n",
              "        const docLink = document.createElement('div');\n",
              "        docLink.innerHTML = docLinkHtml;\n",
              "        element.appendChild(docLink);\n",
              "      }\n",
              "    </script>\n",
              "  </div>\n",
              "\n",
              "\n",
              "<div id=\"df-a22e4563-4994-48bd-a0e1-1a1695df936f\">\n",
              "  <button class=\"colab-df-quickchart\" onclick=\"quickchart('df-a22e4563-4994-48bd-a0e1-1a1695df936f')\"\n",
              "            title=\"Suggest charts\"\n",
              "            style=\"display:none;\">\n",
              "\n",
              "<svg xmlns=\"http://www.w3.org/2000/svg\" height=\"24px\"viewBox=\"0 0 24 24\"\n",
              "     width=\"24px\">\n",
              "    <g>\n",
              "        <path d=\"M19 3H5c-1.1 0-2 .9-2 2v14c0 1.1.9 2 2 2h14c1.1 0 2-.9 2-2V5c0-1.1-.9-2-2-2zM9 17H7v-7h2v7zm4 0h-2V7h2v10zm4 0h-2v-4h2v4z\"/>\n",
              "    </g>\n",
              "</svg>\n",
              "  </button>\n",
              "\n",
              "<style>\n",
              "  .colab-df-quickchart {\n",
              "      --bg-color: #E8F0FE;\n",
              "      --fill-color: #1967D2;\n",
              "      --hover-bg-color: #E2EBFA;\n",
              "      --hover-fill-color: #174EA6;\n",
              "      --disabled-fill-color: #AAA;\n",
              "      --disabled-bg-color: #DDD;\n",
              "  }\n",
              "\n",
              "  [theme=dark] .colab-df-quickchart {\n",
              "      --bg-color: #3B4455;\n",
              "      --fill-color: #D2E3FC;\n",
              "      --hover-bg-color: #434B5C;\n",
              "      --hover-fill-color: #FFFFFF;\n",
              "      --disabled-bg-color: #3B4455;\n",
              "      --disabled-fill-color: #666;\n",
              "  }\n",
              "\n",
              "  .colab-df-quickchart {\n",
              "    background-color: var(--bg-color);\n",
              "    border: none;\n",
              "    border-radius: 50%;\n",
              "    cursor: pointer;\n",
              "    display: none;\n",
              "    fill: var(--fill-color);\n",
              "    height: 32px;\n",
              "    padding: 0;\n",
              "    width: 32px;\n",
              "  }\n",
              "\n",
              "  .colab-df-quickchart:hover {\n",
              "    background-color: var(--hover-bg-color);\n",
              "    box-shadow: 0 1px 2px rgba(60, 64, 67, 0.3), 0 1px 3px 1px rgba(60, 64, 67, 0.15);\n",
              "    fill: var(--button-hover-fill-color);\n",
              "  }\n",
              "\n",
              "  .colab-df-quickchart-complete:disabled,\n",
              "  .colab-df-quickchart-complete:disabled:hover {\n",
              "    background-color: var(--disabled-bg-color);\n",
              "    fill: var(--disabled-fill-color);\n",
              "    box-shadow: none;\n",
              "  }\n",
              "\n",
              "  .colab-df-spinner {\n",
              "    border: 2px solid var(--fill-color);\n",
              "    border-color: transparent;\n",
              "    border-bottom-color: var(--fill-color);\n",
              "    animation:\n",
              "      spin 1s steps(1) infinite;\n",
              "  }\n",
              "\n",
              "  @keyframes spin {\n",
              "    0% {\n",
              "      border-color: transparent;\n",
              "      border-bottom-color: var(--fill-color);\n",
              "      border-left-color: var(--fill-color);\n",
              "    }\n",
              "    20% {\n",
              "      border-color: transparent;\n",
              "      border-left-color: var(--fill-color);\n",
              "      border-top-color: var(--fill-color);\n",
              "    }\n",
              "    30% {\n",
              "      border-color: transparent;\n",
              "      border-left-color: var(--fill-color);\n",
              "      border-top-color: var(--fill-color);\n",
              "      border-right-color: var(--fill-color);\n",
              "    }\n",
              "    40% {\n",
              "      border-color: transparent;\n",
              "      border-right-color: var(--fill-color);\n",
              "      border-top-color: var(--fill-color);\n",
              "    }\n",
              "    60% {\n",
              "      border-color: transparent;\n",
              "      border-right-color: var(--fill-color);\n",
              "    }\n",
              "    80% {\n",
              "      border-color: transparent;\n",
              "      border-right-color: var(--fill-color);\n",
              "      border-bottom-color: var(--fill-color);\n",
              "    }\n",
              "    90% {\n",
              "      border-color: transparent;\n",
              "      border-bottom-color: var(--fill-color);\n",
              "    }\n",
              "  }\n",
              "</style>\n",
              "\n",
              "  <script>\n",
              "    async function quickchart(key) {\n",
              "      const quickchartButtonEl =\n",
              "        document.querySelector('#' + key + ' button');\n",
              "      quickchartButtonEl.disabled = true;  // To prevent multiple clicks.\n",
              "      quickchartButtonEl.classList.add('colab-df-spinner');\n",
              "      try {\n",
              "        const charts = await google.colab.kernel.invokeFunction(\n",
              "            'suggestCharts', [key], {});\n",
              "      } catch (error) {\n",
              "        console.error('Error during call to suggestCharts:', error);\n",
              "      }\n",
              "      quickchartButtonEl.classList.remove('colab-df-spinner');\n",
              "      quickchartButtonEl.classList.add('colab-df-quickchart-complete');\n",
              "    }\n",
              "    (() => {\n",
              "      let quickchartButtonEl =\n",
              "        document.querySelector('#df-a22e4563-4994-48bd-a0e1-1a1695df936f button');\n",
              "      quickchartButtonEl.style.display =\n",
              "        google.colab.kernel.accessAllowed ? 'block' : 'none';\n",
              "    })();\n",
              "  </script>\n",
              "</div>\n",
              "\n",
              "    </div>\n",
              "  </div>\n"
            ],
            "application/vnd.google.colaboratory.intrinsic+json": {
              "type": "dataframe",
              "summary": "{\n  \"name\": \"ppu\",\n  \"rows\": 10,\n  \"fields\": [\n    {\n      \"column\": \"Brand Name\",\n      \"properties\": {\n        \"dtype\": \"string\",\n        \"num_unique_values\": 10,\n        \"samples\": [\n          \"BOCA\",\n          \"IMPOSSIBLE\",\n          \"BEYOND MEAT BEYOND SAUSAGE\"\n        ],\n        \"semantic_type\": \"\",\n        \"description\": \"\"\n      }\n    },\n    {\n      \"column\": \"Price per Unit\",\n      \"properties\": {\n        \"dtype\": \"number\",\n        \"std\": 127080.08160219889,\n        \"min\": 30183.444961755096,\n        \"max\": 383076.399487254,\n        \"num_unique_values\": 10,\n        \"samples\": [\n          159285.83423456064,\n          159024.74266505125,\n          44061.23285636863\n        ],\n        \"semantic_type\": \"\",\n        \"description\": \"\"\n      }\n    },\n    {\n      \"column\": \"Unit Sales\",\n      \"properties\": {\n        \"dtype\": \"number\",\n        \"std\": 116882658,\n        \"min\": 46290870,\n        \"max\": 426113124,\n        \"num_unique_values\": 10,\n        \"samples\": [\n          72270200,\n          141971772,\n          46290870\n        ],\n        \"semantic_type\": \"\",\n        \"description\": \"\"\n      }\n    },\n    {\n      \"column\": \"Volume Sales\",\n      \"properties\": {\n        \"dtype\": \"number\",\n        \"std\": 77501083.57637449,\n        \"min\": 37838110.13921722,\n        \"max\": 280931507.0379521,\n        \"num_unique_values\": 10,\n        \"samples\": [\n          49219623.48245441,\n          109931454.52164318,\n          40506917.07067589\n        ],\n        \"semantic_type\": \"\",\n        \"description\": \"\"\n      }\n    },\n    {\n      \"column\": \"Dollar Sales\",\n      \"properties\": {\n        \"dtype\": \"number\",\n        \"std\": 562742015.5156795,\n        \"min\": 249286889.46069163,\n        \"max\": 2059643706.1741667,\n        \"num_unique_values\": 10,\n        \"samples\": [\n          285074480.17774,\n          1015502860.4630756,\n          366030552.4104702\n        ],\n        \"semantic_type\": \"\",\n        \"description\": \"\"\n      }\n    },\n    {\n      \"column\": \"Price per Volume\",\n      \"properties\": {\n        \"dtype\": \"number\",\n        \"std\": 170447.5465123365,\n        \"min\": 37405.35035778606,\n        \"max\": 484824.81351883785,\n        \"num_unique_values\": 10,\n        \"samples\": [\n          181443.6078579831,\n          182237.0253095293,\n          50355.69469299272\n        ],\n        \"semantic_type\": \"\",\n        \"description\": \"\"\n      }\n    }\n  ]\n}"
            }
          },
          "metadata": {},
          "execution_count": 8
        }
      ]
    },
    {
      "cell_type": "code",
      "source": [
        "import plotly.express as px\n",
        "import plotly.io as pio\n",
        "\n",
        "# Set a specific theme (e.g., ggplot2)\n",
        "pio.templates.default = \"seaborn\"\n",
        "\n",
        "# Create the bar chart\n",
        "fig = px.bar(\n",
        "    ppu.sort_values(by=\"Price per Unit\", ascending=False).head(5),\n",
        "    x=\"Brand Name\",\n",
        "    y=\"Price per Unit\",\n",
        "    title=\"Top 5 Brands by Price per Unit\",\n",
        "    labels={\"Price per Unit\": \"Price per Unit ($)\", \"Brand Name\": \"Brand Name\"},\n",
        "    text=\"Price per Unit\"\n",
        ")\n",
        "\n",
        "# Update layout for better visuals\n",
        "fig.update_traces(texttemplate='%{text:.2s}', textposition='outside')\n",
        "fig.update_layout(\n",
        "    xaxis_title=\"Brand Name\",\n",
        "    yaxis_title=\"Price per Unit ($)\",\n",
        "    showlegend=False\n",
        ")\n",
        "\n",
        "fig.show()\n"
      ],
      "metadata": {
        "colab": {
          "base_uri": "https://localhost:8080/",
          "height": 542
        },
        "id": "gSmI97elciYi",
        "outputId": "bc7b4f15-6de5-47a6-9397-173aae2b70db"
      },
      "execution_count": null,
      "outputs": [
        {
          "output_type": "display_data",
          "data": {
            "text/html": [
              "<html>\n",
              "<head><meta charset=\"utf-8\" /></head>\n",
              "<body>\n",
              "    <div>            <script src=\"https://cdnjs.cloudflare.com/ajax/libs/mathjax/2.7.5/MathJax.js?config=TeX-AMS-MML_SVG\"></script><script type=\"text/javascript\">if (window.MathJax && window.MathJax.Hub && window.MathJax.Hub.Config) {window.MathJax.Hub.Config({SVG: {font: \"STIX-Web\"}});}</script>                <script type=\"text/javascript\">window.PlotlyConfig = {MathJaxConfig: 'local'};</script>\n",
              "        <script charset=\"utf-8\" src=\"https://cdn.plot.ly/plotly-2.35.2.min.js\"></script>                <div id=\"4f786729-1d69-4544-8942-88a8845ba620\" class=\"plotly-graph-div\" style=\"height:525px; width:100%;\"></div>            <script type=\"text/javascript\">                                    window.PLOTLYENV=window.PLOTLYENV || {};                                    if (document.getElementById(\"4f786729-1d69-4544-8942-88a8845ba620\")) {                    Plotly.newPlot(                        \"4f786729-1d69-4544-8942-88a8845ba620\",                        [{\"alignmentgroup\":\"True\",\"hovertemplate\":\"Brand Name=%{x}\\u003cbr\\u003ePrice per Unit ($)=%{text}\\u003cextra\\u003e\\u003c\\u002fextra\\u003e\",\"legendgroup\":\"\",\"marker\":{\"color\":\"rgb(76,114,176)\",\"pattern\":{\"shape\":\"\"}},\"name\":\"\",\"offsetgroup\":\"\",\"orientation\":\"v\",\"showlegend\":false,\"text\":[383076.399487254,364412.13851683034,232085.93580274086,216693.35210346314,213395.84041626682],\"textposition\":\"outside\",\"x\":[\"GARDEIN\",\"MORNINGSTAR FARMS\",\"DR PRAEGERS\",\"TOFURKY\",\"QUORN\"],\"xaxis\":\"x\",\"y\":[383076.399487254,364412.13851683034,232085.93580274086,216693.35210346314,213395.84041626682],\"yaxis\":\"y\",\"type\":\"bar\",\"texttemplate\":\"%{text:.2s}\"}],                        {\"template\":{\"data\":{\"histogram2dcontour\":[{\"type\":\"histogram2dcontour\",\"colorbar\":{\"outlinewidth\":0,\"tickcolor\":\"rgb(36,36,36)\",\"ticklen\":8,\"ticks\":\"outside\",\"tickwidth\":2},\"colorscale\":[[0.0,\"rgb(2,4,25)\"],[0.06274509803921569,\"rgb(24,15,41)\"],[0.12549019607843137,\"rgb(47,23,57)\"],[0.18823529411764706,\"rgb(71,28,72)\"],[0.25098039215686274,\"rgb(97,30,82)\"],[0.3137254901960784,\"rgb(123,30,89)\"],[0.3764705882352941,\"rgb(150,27,91)\"],[0.4392156862745098,\"rgb(177,22,88)\"],[0.5019607843137255,\"rgb(203,26,79)\"],[0.5647058823529412,\"rgb(223,47,67)\"],[0.6274509803921569,\"rgb(236,76,61)\"],[0.6901960784313725,\"rgb(242,107,73)\"],[0.7529411764705882,\"rgb(244,135,95)\"],[0.8156862745098039,\"rgb(245,162,122)\"],[0.8784313725490196,\"rgb(246,188,153)\"],[0.9411764705882353,\"rgb(247,212,187)\"],[1.0,\"rgb(250,234,220)\"]]}],\"choropleth\":[{\"type\":\"choropleth\",\"colorbar\":{\"outlinewidth\":0,\"tickcolor\":\"rgb(36,36,36)\",\"ticklen\":8,\"ticks\":\"outside\",\"tickwidth\":2}}],\"histogram2d\":[{\"type\":\"histogram2d\",\"colorbar\":{\"outlinewidth\":0,\"tickcolor\":\"rgb(36,36,36)\",\"ticklen\":8,\"ticks\":\"outside\",\"tickwidth\":2},\"colorscale\":[[0.0,\"rgb(2,4,25)\"],[0.06274509803921569,\"rgb(24,15,41)\"],[0.12549019607843137,\"rgb(47,23,57)\"],[0.18823529411764706,\"rgb(71,28,72)\"],[0.25098039215686274,\"rgb(97,30,82)\"],[0.3137254901960784,\"rgb(123,30,89)\"],[0.3764705882352941,\"rgb(150,27,91)\"],[0.4392156862745098,\"rgb(177,22,88)\"],[0.5019607843137255,\"rgb(203,26,79)\"],[0.5647058823529412,\"rgb(223,47,67)\"],[0.6274509803921569,\"rgb(236,76,61)\"],[0.6901960784313725,\"rgb(242,107,73)\"],[0.7529411764705882,\"rgb(244,135,95)\"],[0.8156862745098039,\"rgb(245,162,122)\"],[0.8784313725490196,\"rgb(246,188,153)\"],[0.9411764705882353,\"rgb(247,212,187)\"],[1.0,\"rgb(250,234,220)\"]]}],\"heatmap\":[{\"type\":\"heatmap\",\"colorbar\":{\"outlinewidth\":0,\"tickcolor\":\"rgb(36,36,36)\",\"ticklen\":8,\"ticks\":\"outside\",\"tickwidth\":2},\"colorscale\":[[0.0,\"rgb(2,4,25)\"],[0.06274509803921569,\"rgb(24,15,41)\"],[0.12549019607843137,\"rgb(47,23,57)\"],[0.18823529411764706,\"rgb(71,28,72)\"],[0.25098039215686274,\"rgb(97,30,82)\"],[0.3137254901960784,\"rgb(123,30,89)\"],[0.3764705882352941,\"rgb(150,27,91)\"],[0.4392156862745098,\"rgb(177,22,88)\"],[0.5019607843137255,\"rgb(203,26,79)\"],[0.5647058823529412,\"rgb(223,47,67)\"],[0.6274509803921569,\"rgb(236,76,61)\"],[0.6901960784313725,\"rgb(242,107,73)\"],[0.7529411764705882,\"rgb(244,135,95)\"],[0.8156862745098039,\"rgb(245,162,122)\"],[0.8784313725490196,\"rgb(246,188,153)\"],[0.9411764705882353,\"rgb(247,212,187)\"],[1.0,\"rgb(250,234,220)\"]]}],\"heatmapgl\":[{\"type\":\"heatmapgl\",\"colorbar\":{\"outlinewidth\":0,\"tickcolor\":\"rgb(36,36,36)\",\"ticklen\":8,\"ticks\":\"outside\",\"tickwidth\":2},\"colorscale\":[[0.0,\"rgb(2,4,25)\"],[0.06274509803921569,\"rgb(24,15,41)\"],[0.12549019607843137,\"rgb(47,23,57)\"],[0.18823529411764706,\"rgb(71,28,72)\"],[0.25098039215686274,\"rgb(97,30,82)\"],[0.3137254901960784,\"rgb(123,30,89)\"],[0.3764705882352941,\"rgb(150,27,91)\"],[0.4392156862745098,\"rgb(177,22,88)\"],[0.5019607843137255,\"rgb(203,26,79)\"],[0.5647058823529412,\"rgb(223,47,67)\"],[0.6274509803921569,\"rgb(236,76,61)\"],[0.6901960784313725,\"rgb(242,107,73)\"],[0.7529411764705882,\"rgb(244,135,95)\"],[0.8156862745098039,\"rgb(245,162,122)\"],[0.8784313725490196,\"rgb(246,188,153)\"],[0.9411764705882353,\"rgb(247,212,187)\"],[1.0,\"rgb(250,234,220)\"]]}],\"contourcarpet\":[{\"type\":\"contourcarpet\",\"colorbar\":{\"outlinewidth\":0,\"tickcolor\":\"rgb(36,36,36)\",\"ticklen\":8,\"ticks\":\"outside\",\"tickwidth\":2}}],\"contour\":[{\"type\":\"contour\",\"colorbar\":{\"outlinewidth\":0,\"tickcolor\":\"rgb(36,36,36)\",\"ticklen\":8,\"ticks\":\"outside\",\"tickwidth\":2},\"colorscale\":[[0.0,\"rgb(2,4,25)\"],[0.06274509803921569,\"rgb(24,15,41)\"],[0.12549019607843137,\"rgb(47,23,57)\"],[0.18823529411764706,\"rgb(71,28,72)\"],[0.25098039215686274,\"rgb(97,30,82)\"],[0.3137254901960784,\"rgb(123,30,89)\"],[0.3764705882352941,\"rgb(150,27,91)\"],[0.4392156862745098,\"rgb(177,22,88)\"],[0.5019607843137255,\"rgb(203,26,79)\"],[0.5647058823529412,\"rgb(223,47,67)\"],[0.6274509803921569,\"rgb(236,76,61)\"],[0.6901960784313725,\"rgb(242,107,73)\"],[0.7529411764705882,\"rgb(244,135,95)\"],[0.8156862745098039,\"rgb(245,162,122)\"],[0.8784313725490196,\"rgb(246,188,153)\"],[0.9411764705882353,\"rgb(247,212,187)\"],[1.0,\"rgb(250,234,220)\"]]}],\"surface\":[{\"type\":\"surface\",\"colorbar\":{\"outlinewidth\":0,\"tickcolor\":\"rgb(36,36,36)\",\"ticklen\":8,\"ticks\":\"outside\",\"tickwidth\":2},\"colorscale\":[[0.0,\"rgb(2,4,25)\"],[0.06274509803921569,\"rgb(24,15,41)\"],[0.12549019607843137,\"rgb(47,23,57)\"],[0.18823529411764706,\"rgb(71,28,72)\"],[0.25098039215686274,\"rgb(97,30,82)\"],[0.3137254901960784,\"rgb(123,30,89)\"],[0.3764705882352941,\"rgb(150,27,91)\"],[0.4392156862745098,\"rgb(177,22,88)\"],[0.5019607843137255,\"rgb(203,26,79)\"],[0.5647058823529412,\"rgb(223,47,67)\"],[0.6274509803921569,\"rgb(236,76,61)\"],[0.6901960784313725,\"rgb(242,107,73)\"],[0.7529411764705882,\"rgb(244,135,95)\"],[0.8156862745098039,\"rgb(245,162,122)\"],[0.8784313725490196,\"rgb(246,188,153)\"],[0.9411764705882353,\"rgb(247,212,187)\"],[1.0,\"rgb(250,234,220)\"]]}],\"mesh3d\":[{\"type\":\"mesh3d\",\"colorbar\":{\"outlinewidth\":0,\"tickcolor\":\"rgb(36,36,36)\",\"ticklen\":8,\"ticks\":\"outside\",\"tickwidth\":2}}],\"scatter\":[{\"fillpattern\":{\"fillmode\":\"overlay\",\"size\":10,\"solidity\":0.2},\"type\":\"scatter\"}],\"parcoords\":[{\"type\":\"parcoords\",\"line\":{\"colorbar\":{\"outlinewidth\":0,\"tickcolor\":\"rgb(36,36,36)\",\"ticklen\":8,\"ticks\":\"outside\",\"tickwidth\":2}}}],\"scatterpolargl\":[{\"type\":\"scatterpolargl\",\"marker\":{\"colorbar\":{\"outlinewidth\":0,\"tickcolor\":\"rgb(36,36,36)\",\"ticklen\":8,\"ticks\":\"outside\",\"tickwidth\":2}}}],\"bar\":[{\"error_x\":{\"color\":\"rgb(36,36,36)\"},\"error_y\":{\"color\":\"rgb(36,36,36)\"},\"marker\":{\"line\":{\"color\":\"rgb(234,234,242)\",\"width\":0.5},\"pattern\":{\"fillmode\":\"overlay\",\"size\":10,\"solidity\":0.2}},\"type\":\"bar\"}],\"scattergeo\":[{\"type\":\"scattergeo\",\"marker\":{\"colorbar\":{\"outlinewidth\":0,\"tickcolor\":\"rgb(36,36,36)\",\"ticklen\":8,\"ticks\":\"outside\",\"tickwidth\":2}}}],\"scatterpolar\":[{\"type\":\"scatterpolar\",\"marker\":{\"colorbar\":{\"outlinewidth\":0,\"tickcolor\":\"rgb(36,36,36)\",\"ticklen\":8,\"ticks\":\"outside\",\"tickwidth\":2}}}],\"histogram\":[{\"marker\":{\"pattern\":{\"fillmode\":\"overlay\",\"size\":10,\"solidity\":0.2}},\"type\":\"histogram\"}],\"scattergl\":[{\"type\":\"scattergl\",\"marker\":{\"colorbar\":{\"outlinewidth\":0,\"tickcolor\":\"rgb(36,36,36)\",\"ticklen\":8,\"ticks\":\"outside\",\"tickwidth\":2}}}],\"scatter3d\":[{\"type\":\"scatter3d\",\"line\":{\"colorbar\":{\"outlinewidth\":0,\"tickcolor\":\"rgb(36,36,36)\",\"ticklen\":8,\"ticks\":\"outside\",\"tickwidth\":2}},\"marker\":{\"colorbar\":{\"outlinewidth\":0,\"tickcolor\":\"rgb(36,36,36)\",\"ticklen\":8,\"ticks\":\"outside\",\"tickwidth\":2}}}],\"scattermapbox\":[{\"type\":\"scattermapbox\",\"marker\":{\"colorbar\":{\"outlinewidth\":0,\"tickcolor\":\"rgb(36,36,36)\",\"ticklen\":8,\"ticks\":\"outside\",\"tickwidth\":2}}}],\"scatterternary\":[{\"type\":\"scatterternary\",\"marker\":{\"colorbar\":{\"outlinewidth\":0,\"tickcolor\":\"rgb(36,36,36)\",\"ticklen\":8,\"ticks\":\"outside\",\"tickwidth\":2}}}],\"scattercarpet\":[{\"type\":\"scattercarpet\",\"marker\":{\"colorbar\":{\"outlinewidth\":0,\"tickcolor\":\"rgb(36,36,36)\",\"ticklen\":8,\"ticks\":\"outside\",\"tickwidth\":2}}}],\"carpet\":[{\"aaxis\":{\"endlinecolor\":\"rgb(36,36,36)\",\"gridcolor\":\"white\",\"linecolor\":\"white\",\"minorgridcolor\":\"white\",\"startlinecolor\":\"rgb(36,36,36)\"},\"baxis\":{\"endlinecolor\":\"rgb(36,36,36)\",\"gridcolor\":\"white\",\"linecolor\":\"white\",\"minorgridcolor\":\"white\",\"startlinecolor\":\"rgb(36,36,36)\"},\"type\":\"carpet\"}],\"table\":[{\"cells\":{\"fill\":{\"color\":\"rgb(231,231,240)\"},\"line\":{\"color\":\"white\"}},\"header\":{\"fill\":{\"color\":\"rgb(183,183,191)\"},\"line\":{\"color\":\"white\"}},\"type\":\"table\"}],\"barpolar\":[{\"marker\":{\"line\":{\"color\":\"rgb(234,234,242)\",\"width\":0.5},\"pattern\":{\"fillmode\":\"overlay\",\"size\":10,\"solidity\":0.2}},\"type\":\"barpolar\"}],\"pie\":[{\"automargin\":true,\"type\":\"pie\"}]},\"layout\":{\"autotypenumbers\":\"strict\",\"colorway\":[\"rgb(76,114,176)\",\"rgb(221,132,82)\",\"rgb(85,168,104)\",\"rgb(196,78,82)\",\"rgb(129,114,179)\",\"rgb(147,120,96)\",\"rgb(218,139,195)\",\"rgb(140,140,140)\",\"rgb(204,185,116)\",\"rgb(100,181,205)\"],\"font\":{\"color\":\"rgb(36,36,36)\"},\"hovermode\":\"closest\",\"hoverlabel\":{\"align\":\"left\"},\"paper_bgcolor\":\"white\",\"plot_bgcolor\":\"rgb(234,234,242)\",\"polar\":{\"bgcolor\":\"rgb(234,234,242)\",\"angularaxis\":{\"gridcolor\":\"white\",\"linecolor\":\"white\",\"showgrid\":true,\"ticks\":\"\"},\"radialaxis\":{\"gridcolor\":\"white\",\"linecolor\":\"white\",\"showgrid\":true,\"ticks\":\"\"}},\"ternary\":{\"bgcolor\":\"rgb(234,234,242)\",\"aaxis\":{\"gridcolor\":\"white\",\"linecolor\":\"white\",\"showgrid\":true,\"ticks\":\"\"},\"baxis\":{\"gridcolor\":\"white\",\"linecolor\":\"white\",\"showgrid\":true,\"ticks\":\"\"},\"caxis\":{\"gridcolor\":\"white\",\"linecolor\":\"white\",\"showgrid\":true,\"ticks\":\"\"}},\"coloraxis\":{\"colorbar\":{\"outlinewidth\":0,\"tickcolor\":\"rgb(36,36,36)\",\"ticklen\":8,\"ticks\":\"outside\",\"tickwidth\":2}},\"colorscale\":{\"sequential\":[[0.0,\"rgb(2,4,25)\"],[0.06274509803921569,\"rgb(24,15,41)\"],[0.12549019607843137,\"rgb(47,23,57)\"],[0.18823529411764706,\"rgb(71,28,72)\"],[0.25098039215686274,\"rgb(97,30,82)\"],[0.3137254901960784,\"rgb(123,30,89)\"],[0.3764705882352941,\"rgb(150,27,91)\"],[0.4392156862745098,\"rgb(177,22,88)\"],[0.5019607843137255,\"rgb(203,26,79)\"],[0.5647058823529412,\"rgb(223,47,67)\"],[0.6274509803921569,\"rgb(236,76,61)\"],[0.6901960784313725,\"rgb(242,107,73)\"],[0.7529411764705882,\"rgb(244,135,95)\"],[0.8156862745098039,\"rgb(245,162,122)\"],[0.8784313725490196,\"rgb(246,188,153)\"],[0.9411764705882353,\"rgb(247,212,187)\"],[1.0,\"rgb(250,234,220)\"]],\"sequentialminus\":[[0.0,\"rgb(2,4,25)\"],[0.06274509803921569,\"rgb(24,15,41)\"],[0.12549019607843137,\"rgb(47,23,57)\"],[0.18823529411764706,\"rgb(71,28,72)\"],[0.25098039215686274,\"rgb(97,30,82)\"],[0.3137254901960784,\"rgb(123,30,89)\"],[0.3764705882352941,\"rgb(150,27,91)\"],[0.4392156862745098,\"rgb(177,22,88)\"],[0.5019607843137255,\"rgb(203,26,79)\"],[0.5647058823529412,\"rgb(223,47,67)\"],[0.6274509803921569,\"rgb(236,76,61)\"],[0.6901960784313725,\"rgb(242,107,73)\"],[0.7529411764705882,\"rgb(244,135,95)\"],[0.8156862745098039,\"rgb(245,162,122)\"],[0.8784313725490196,\"rgb(246,188,153)\"],[0.9411764705882353,\"rgb(247,212,187)\"],[1.0,\"rgb(250,234,220)\"]]},\"xaxis\":{\"gridcolor\":\"white\",\"linecolor\":\"white\",\"showgrid\":true,\"ticks\":\"\",\"title\":{\"standoff\":15},\"zerolinecolor\":\"white\",\"automargin\":true},\"yaxis\":{\"gridcolor\":\"white\",\"linecolor\":\"white\",\"showgrid\":true,\"ticks\":\"\",\"title\":{\"standoff\":15},\"zerolinecolor\":\"white\",\"automargin\":true},\"scene\":{\"xaxis\":{\"backgroundcolor\":\"rgb(234,234,242)\",\"gridcolor\":\"white\",\"linecolor\":\"white\",\"showbackground\":true,\"showgrid\":true,\"ticks\":\"\",\"zerolinecolor\":\"white\",\"gridwidth\":2},\"yaxis\":{\"backgroundcolor\":\"rgb(234,234,242)\",\"gridcolor\":\"white\",\"linecolor\":\"white\",\"showbackground\":true,\"showgrid\":true,\"ticks\":\"\",\"zerolinecolor\":\"white\",\"gridwidth\":2},\"zaxis\":{\"backgroundcolor\":\"rgb(234,234,242)\",\"gridcolor\":\"white\",\"linecolor\":\"white\",\"showbackground\":true,\"showgrid\":true,\"ticks\":\"\",\"zerolinecolor\":\"white\",\"gridwidth\":2}},\"shapedefaults\":{\"fillcolor\":\"rgb(67,103,167)\",\"line\":{\"width\":0},\"opacity\":0.5},\"annotationdefaults\":{\"arrowcolor\":\"rgb(67,103,167)\"},\"geo\":{\"bgcolor\":\"white\",\"landcolor\":\"rgb(234,234,242)\",\"subunitcolor\":\"white\",\"showland\":true,\"showlakes\":true,\"lakecolor\":\"white\"}}},\"xaxis\":{\"anchor\":\"y\",\"domain\":[0.0,1.0],\"title\":{\"text\":\"Brand Name\"}},\"yaxis\":{\"anchor\":\"x\",\"domain\":[0.0,1.0],\"title\":{\"text\":\"Price per Unit ($)\"}},\"legend\":{\"tracegroupgap\":0},\"title\":{\"text\":\"Top 5 Brands by Price per Unit\"},\"barmode\":\"relative\",\"showlegend\":false},                        {\"responsive\": true}                    ).then(function(){\n",
              "                            \n",
              "var gd = document.getElementById('4f786729-1d69-4544-8942-88a8845ba620');\n",
              "var x = new MutationObserver(function (mutations, observer) {{\n",
              "        var display = window.getComputedStyle(gd).display;\n",
              "        if (!display || display === 'none') {{\n",
              "            console.log([gd, 'removed!']);\n",
              "            Plotly.purge(gd);\n",
              "            observer.disconnect();\n",
              "        }}\n",
              "}});\n",
              "\n",
              "// Listen for the removal of the full notebook cells\n",
              "var notebookContainer = gd.closest('#notebook-container');\n",
              "if (notebookContainer) {{\n",
              "    x.observe(notebookContainer, {childList: true});\n",
              "}}\n",
              "\n",
              "// Listen for the clearing of the current output cell\n",
              "var outputEl = gd.closest('.output');\n",
              "if (outputEl) {{\n",
              "    x.observe(outputEl, {childList: true});\n",
              "}}\n",
              "\n",
              "                        })                };                            </script>        </div>\n",
              "</body>\n",
              "</html>"
            ]
          },
          "metadata": {}
        }
      ]
    },
    {
      "cell_type": "code",
      "source": [
        "import plotly.express as px\n",
        "fig = px.bar(\n",
        "    ppu.sort_values(by=\"Unit Sales\", ascending=False).head(5),\n",
        "    x=\"Brand Name\",\n",
        "    y=\"Unit Sales\",\n",
        "    title=\"Top 5 Brands by Unit Sales\",\n",
        "    labels={\"Unit Sales\": \"No. of Units\", \"Brand Name\": \"Brand Name\"},\n",
        "    text=\"Unit Sales\"\n",
        ")\n",
        "\n",
        "# Update layout for better visuals\n",
        "fig.update_traces(texttemplate='%{text:.2s}', textposition='outside')\n",
        "fig.update_layout(\n",
        "    xaxis_title=\"Brand Name\",\n",
        "    yaxis_title=\"No. of Units\",\n",
        "    showlegend=False\n",
        ")\n",
        "\n",
        "fig.show()"
      ],
      "metadata": {
        "colab": {
          "base_uri": "https://localhost:8080/",
          "height": 542
        },
        "id": "SS5Y4mrrcjM8",
        "outputId": "b129c443-5310-4a66-8ed0-cb610965c5c0"
      },
      "execution_count": null,
      "outputs": [
        {
          "output_type": "display_data",
          "data": {
            "text/html": [
              "<html>\n",
              "<head><meta charset=\"utf-8\" /></head>\n",
              "<body>\n",
              "    <div>            <script src=\"https://cdnjs.cloudflare.com/ajax/libs/mathjax/2.7.5/MathJax.js?config=TeX-AMS-MML_SVG\"></script><script type=\"text/javascript\">if (window.MathJax && window.MathJax.Hub && window.MathJax.Hub.Config) {window.MathJax.Hub.Config({SVG: {font: \"STIX-Web\"}});}</script>                <script type=\"text/javascript\">window.PlotlyConfig = {MathJaxConfig: 'local'};</script>\n",
              "        <script charset=\"utf-8\" src=\"https://cdn.plot.ly/plotly-2.35.2.min.js\"></script>                <div id=\"e87440ed-eb7c-405d-8787-a56d298b6bf5\" class=\"plotly-graph-div\" style=\"height:525px; width:100%;\"></div>            <script type=\"text/javascript\">                                    window.PLOTLYENV=window.PLOTLYENV || {};                                    if (document.getElementById(\"e87440ed-eb7c-405d-8787-a56d298b6bf5\")) {                    Plotly.newPlot(                        \"e87440ed-eb7c-405d-8787-a56d298b6bf5\",                        [{\"alignmentgroup\":\"True\",\"hovertemplate\":\"Brand Name=%{x}\\u003cbr\\u003eNo. of Units=%{text}\\u003cextra\\u003e\\u003c\\u002fextra\\u003e\",\"legendgroup\":\"\",\"marker\":{\"color\":\"rgb(76,114,176)\",\"pattern\":{\"shape\":\"\"}},\"name\":\"\",\"offsetgroup\":\"\",\"orientation\":\"v\",\"showlegend\":false,\"text\":[426113124.0,195622201.0,141971772.0,85121181.0,84177343.0],\"textposition\":\"outside\",\"x\":[\"MORNINGSTAR FARMS\",\"GARDEIN\",\"IMPOSSIBLE\",\"BEYOND MEAT BEYOND BURGER\",\"TOFURKY\"],\"xaxis\":\"x\",\"y\":[426113124,195622201,141971772,85121181,84177343],\"yaxis\":\"y\",\"type\":\"bar\",\"texttemplate\":\"%{text:.2s}\"}],                        {\"template\":{\"data\":{\"histogram2dcontour\":[{\"type\":\"histogram2dcontour\",\"colorbar\":{\"outlinewidth\":0,\"tickcolor\":\"rgb(36,36,36)\",\"ticklen\":8,\"ticks\":\"outside\",\"tickwidth\":2},\"colorscale\":[[0.0,\"rgb(2,4,25)\"],[0.06274509803921569,\"rgb(24,15,41)\"],[0.12549019607843137,\"rgb(47,23,57)\"],[0.18823529411764706,\"rgb(71,28,72)\"],[0.25098039215686274,\"rgb(97,30,82)\"],[0.3137254901960784,\"rgb(123,30,89)\"],[0.3764705882352941,\"rgb(150,27,91)\"],[0.4392156862745098,\"rgb(177,22,88)\"],[0.5019607843137255,\"rgb(203,26,79)\"],[0.5647058823529412,\"rgb(223,47,67)\"],[0.6274509803921569,\"rgb(236,76,61)\"],[0.6901960784313725,\"rgb(242,107,73)\"],[0.7529411764705882,\"rgb(244,135,95)\"],[0.8156862745098039,\"rgb(245,162,122)\"],[0.8784313725490196,\"rgb(246,188,153)\"],[0.9411764705882353,\"rgb(247,212,187)\"],[1.0,\"rgb(250,234,220)\"]]}],\"choropleth\":[{\"type\":\"choropleth\",\"colorbar\":{\"outlinewidth\":0,\"tickcolor\":\"rgb(36,36,36)\",\"ticklen\":8,\"ticks\":\"outside\",\"tickwidth\":2}}],\"histogram2d\":[{\"type\":\"histogram2d\",\"colorbar\":{\"outlinewidth\":0,\"tickcolor\":\"rgb(36,36,36)\",\"ticklen\":8,\"ticks\":\"outside\",\"tickwidth\":2},\"colorscale\":[[0.0,\"rgb(2,4,25)\"],[0.06274509803921569,\"rgb(24,15,41)\"],[0.12549019607843137,\"rgb(47,23,57)\"],[0.18823529411764706,\"rgb(71,28,72)\"],[0.25098039215686274,\"rgb(97,30,82)\"],[0.3137254901960784,\"rgb(123,30,89)\"],[0.3764705882352941,\"rgb(150,27,91)\"],[0.4392156862745098,\"rgb(177,22,88)\"],[0.5019607843137255,\"rgb(203,26,79)\"],[0.5647058823529412,\"rgb(223,47,67)\"],[0.6274509803921569,\"rgb(236,76,61)\"],[0.6901960784313725,\"rgb(242,107,73)\"],[0.7529411764705882,\"rgb(244,135,95)\"],[0.8156862745098039,\"rgb(245,162,122)\"],[0.8784313725490196,\"rgb(246,188,153)\"],[0.9411764705882353,\"rgb(247,212,187)\"],[1.0,\"rgb(250,234,220)\"]]}],\"heatmap\":[{\"type\":\"heatmap\",\"colorbar\":{\"outlinewidth\":0,\"tickcolor\":\"rgb(36,36,36)\",\"ticklen\":8,\"ticks\":\"outside\",\"tickwidth\":2},\"colorscale\":[[0.0,\"rgb(2,4,25)\"],[0.06274509803921569,\"rgb(24,15,41)\"],[0.12549019607843137,\"rgb(47,23,57)\"],[0.18823529411764706,\"rgb(71,28,72)\"],[0.25098039215686274,\"rgb(97,30,82)\"],[0.3137254901960784,\"rgb(123,30,89)\"],[0.3764705882352941,\"rgb(150,27,91)\"],[0.4392156862745098,\"rgb(177,22,88)\"],[0.5019607843137255,\"rgb(203,26,79)\"],[0.5647058823529412,\"rgb(223,47,67)\"],[0.6274509803921569,\"rgb(236,76,61)\"],[0.6901960784313725,\"rgb(242,107,73)\"],[0.7529411764705882,\"rgb(244,135,95)\"],[0.8156862745098039,\"rgb(245,162,122)\"],[0.8784313725490196,\"rgb(246,188,153)\"],[0.9411764705882353,\"rgb(247,212,187)\"],[1.0,\"rgb(250,234,220)\"]]}],\"heatmapgl\":[{\"type\":\"heatmapgl\",\"colorbar\":{\"outlinewidth\":0,\"tickcolor\":\"rgb(36,36,36)\",\"ticklen\":8,\"ticks\":\"outside\",\"tickwidth\":2},\"colorscale\":[[0.0,\"rgb(2,4,25)\"],[0.06274509803921569,\"rgb(24,15,41)\"],[0.12549019607843137,\"rgb(47,23,57)\"],[0.18823529411764706,\"rgb(71,28,72)\"],[0.25098039215686274,\"rgb(97,30,82)\"],[0.3137254901960784,\"rgb(123,30,89)\"],[0.3764705882352941,\"rgb(150,27,91)\"],[0.4392156862745098,\"rgb(177,22,88)\"],[0.5019607843137255,\"rgb(203,26,79)\"],[0.5647058823529412,\"rgb(223,47,67)\"],[0.6274509803921569,\"rgb(236,76,61)\"],[0.6901960784313725,\"rgb(242,107,73)\"],[0.7529411764705882,\"rgb(244,135,95)\"],[0.8156862745098039,\"rgb(245,162,122)\"],[0.8784313725490196,\"rgb(246,188,153)\"],[0.9411764705882353,\"rgb(247,212,187)\"],[1.0,\"rgb(250,234,220)\"]]}],\"contourcarpet\":[{\"type\":\"contourcarpet\",\"colorbar\":{\"outlinewidth\":0,\"tickcolor\":\"rgb(36,36,36)\",\"ticklen\":8,\"ticks\":\"outside\",\"tickwidth\":2}}],\"contour\":[{\"type\":\"contour\",\"colorbar\":{\"outlinewidth\":0,\"tickcolor\":\"rgb(36,36,36)\",\"ticklen\":8,\"ticks\":\"outside\",\"tickwidth\":2},\"colorscale\":[[0.0,\"rgb(2,4,25)\"],[0.06274509803921569,\"rgb(24,15,41)\"],[0.12549019607843137,\"rgb(47,23,57)\"],[0.18823529411764706,\"rgb(71,28,72)\"],[0.25098039215686274,\"rgb(97,30,82)\"],[0.3137254901960784,\"rgb(123,30,89)\"],[0.3764705882352941,\"rgb(150,27,91)\"],[0.4392156862745098,\"rgb(177,22,88)\"],[0.5019607843137255,\"rgb(203,26,79)\"],[0.5647058823529412,\"rgb(223,47,67)\"],[0.6274509803921569,\"rgb(236,76,61)\"],[0.6901960784313725,\"rgb(242,107,73)\"],[0.7529411764705882,\"rgb(244,135,95)\"],[0.8156862745098039,\"rgb(245,162,122)\"],[0.8784313725490196,\"rgb(246,188,153)\"],[0.9411764705882353,\"rgb(247,212,187)\"],[1.0,\"rgb(250,234,220)\"]]}],\"surface\":[{\"type\":\"surface\",\"colorbar\":{\"outlinewidth\":0,\"tickcolor\":\"rgb(36,36,36)\",\"ticklen\":8,\"ticks\":\"outside\",\"tickwidth\":2},\"colorscale\":[[0.0,\"rgb(2,4,25)\"],[0.06274509803921569,\"rgb(24,15,41)\"],[0.12549019607843137,\"rgb(47,23,57)\"],[0.18823529411764706,\"rgb(71,28,72)\"],[0.25098039215686274,\"rgb(97,30,82)\"],[0.3137254901960784,\"rgb(123,30,89)\"],[0.3764705882352941,\"rgb(150,27,91)\"],[0.4392156862745098,\"rgb(177,22,88)\"],[0.5019607843137255,\"rgb(203,26,79)\"],[0.5647058823529412,\"rgb(223,47,67)\"],[0.6274509803921569,\"rgb(236,76,61)\"],[0.6901960784313725,\"rgb(242,107,73)\"],[0.7529411764705882,\"rgb(244,135,95)\"],[0.8156862745098039,\"rgb(245,162,122)\"],[0.8784313725490196,\"rgb(246,188,153)\"],[0.9411764705882353,\"rgb(247,212,187)\"],[1.0,\"rgb(250,234,220)\"]]}],\"mesh3d\":[{\"type\":\"mesh3d\",\"colorbar\":{\"outlinewidth\":0,\"tickcolor\":\"rgb(36,36,36)\",\"ticklen\":8,\"ticks\":\"outside\",\"tickwidth\":2}}],\"scatter\":[{\"fillpattern\":{\"fillmode\":\"overlay\",\"size\":10,\"solidity\":0.2},\"type\":\"scatter\"}],\"parcoords\":[{\"type\":\"parcoords\",\"line\":{\"colorbar\":{\"outlinewidth\":0,\"tickcolor\":\"rgb(36,36,36)\",\"ticklen\":8,\"ticks\":\"outside\",\"tickwidth\":2}}}],\"scatterpolargl\":[{\"type\":\"scatterpolargl\",\"marker\":{\"colorbar\":{\"outlinewidth\":0,\"tickcolor\":\"rgb(36,36,36)\",\"ticklen\":8,\"ticks\":\"outside\",\"tickwidth\":2}}}],\"bar\":[{\"error_x\":{\"color\":\"rgb(36,36,36)\"},\"error_y\":{\"color\":\"rgb(36,36,36)\"},\"marker\":{\"line\":{\"color\":\"rgb(234,234,242)\",\"width\":0.5},\"pattern\":{\"fillmode\":\"overlay\",\"size\":10,\"solidity\":0.2}},\"type\":\"bar\"}],\"scattergeo\":[{\"type\":\"scattergeo\",\"marker\":{\"colorbar\":{\"outlinewidth\":0,\"tickcolor\":\"rgb(36,36,36)\",\"ticklen\":8,\"ticks\":\"outside\",\"tickwidth\":2}}}],\"scatterpolar\":[{\"type\":\"scatterpolar\",\"marker\":{\"colorbar\":{\"outlinewidth\":0,\"tickcolor\":\"rgb(36,36,36)\",\"ticklen\":8,\"ticks\":\"outside\",\"tickwidth\":2}}}],\"histogram\":[{\"marker\":{\"pattern\":{\"fillmode\":\"overlay\",\"size\":10,\"solidity\":0.2}},\"type\":\"histogram\"}],\"scattergl\":[{\"type\":\"scattergl\",\"marker\":{\"colorbar\":{\"outlinewidth\":0,\"tickcolor\":\"rgb(36,36,36)\",\"ticklen\":8,\"ticks\":\"outside\",\"tickwidth\":2}}}],\"scatter3d\":[{\"type\":\"scatter3d\",\"line\":{\"colorbar\":{\"outlinewidth\":0,\"tickcolor\":\"rgb(36,36,36)\",\"ticklen\":8,\"ticks\":\"outside\",\"tickwidth\":2}},\"marker\":{\"colorbar\":{\"outlinewidth\":0,\"tickcolor\":\"rgb(36,36,36)\",\"ticklen\":8,\"ticks\":\"outside\",\"tickwidth\":2}}}],\"scattermapbox\":[{\"type\":\"scattermapbox\",\"marker\":{\"colorbar\":{\"outlinewidth\":0,\"tickcolor\":\"rgb(36,36,36)\",\"ticklen\":8,\"ticks\":\"outside\",\"tickwidth\":2}}}],\"scatterternary\":[{\"type\":\"scatterternary\",\"marker\":{\"colorbar\":{\"outlinewidth\":0,\"tickcolor\":\"rgb(36,36,36)\",\"ticklen\":8,\"ticks\":\"outside\",\"tickwidth\":2}}}],\"scattercarpet\":[{\"type\":\"scattercarpet\",\"marker\":{\"colorbar\":{\"outlinewidth\":0,\"tickcolor\":\"rgb(36,36,36)\",\"ticklen\":8,\"ticks\":\"outside\",\"tickwidth\":2}}}],\"carpet\":[{\"aaxis\":{\"endlinecolor\":\"rgb(36,36,36)\",\"gridcolor\":\"white\",\"linecolor\":\"white\",\"minorgridcolor\":\"white\",\"startlinecolor\":\"rgb(36,36,36)\"},\"baxis\":{\"endlinecolor\":\"rgb(36,36,36)\",\"gridcolor\":\"white\",\"linecolor\":\"white\",\"minorgridcolor\":\"white\",\"startlinecolor\":\"rgb(36,36,36)\"},\"type\":\"carpet\"}],\"table\":[{\"cells\":{\"fill\":{\"color\":\"rgb(231,231,240)\"},\"line\":{\"color\":\"white\"}},\"header\":{\"fill\":{\"color\":\"rgb(183,183,191)\"},\"line\":{\"color\":\"white\"}},\"type\":\"table\"}],\"barpolar\":[{\"marker\":{\"line\":{\"color\":\"rgb(234,234,242)\",\"width\":0.5},\"pattern\":{\"fillmode\":\"overlay\",\"size\":10,\"solidity\":0.2}},\"type\":\"barpolar\"}],\"pie\":[{\"automargin\":true,\"type\":\"pie\"}]},\"layout\":{\"autotypenumbers\":\"strict\",\"colorway\":[\"rgb(76,114,176)\",\"rgb(221,132,82)\",\"rgb(85,168,104)\",\"rgb(196,78,82)\",\"rgb(129,114,179)\",\"rgb(147,120,96)\",\"rgb(218,139,195)\",\"rgb(140,140,140)\",\"rgb(204,185,116)\",\"rgb(100,181,205)\"],\"font\":{\"color\":\"rgb(36,36,36)\"},\"hovermode\":\"closest\",\"hoverlabel\":{\"align\":\"left\"},\"paper_bgcolor\":\"white\",\"plot_bgcolor\":\"rgb(234,234,242)\",\"polar\":{\"bgcolor\":\"rgb(234,234,242)\",\"angularaxis\":{\"gridcolor\":\"white\",\"linecolor\":\"white\",\"showgrid\":true,\"ticks\":\"\"},\"radialaxis\":{\"gridcolor\":\"white\",\"linecolor\":\"white\",\"showgrid\":true,\"ticks\":\"\"}},\"ternary\":{\"bgcolor\":\"rgb(234,234,242)\",\"aaxis\":{\"gridcolor\":\"white\",\"linecolor\":\"white\",\"showgrid\":true,\"ticks\":\"\"},\"baxis\":{\"gridcolor\":\"white\",\"linecolor\":\"white\",\"showgrid\":true,\"ticks\":\"\"},\"caxis\":{\"gridcolor\":\"white\",\"linecolor\":\"white\",\"showgrid\":true,\"ticks\":\"\"}},\"coloraxis\":{\"colorbar\":{\"outlinewidth\":0,\"tickcolor\":\"rgb(36,36,36)\",\"ticklen\":8,\"ticks\":\"outside\",\"tickwidth\":2}},\"colorscale\":{\"sequential\":[[0.0,\"rgb(2,4,25)\"],[0.06274509803921569,\"rgb(24,15,41)\"],[0.12549019607843137,\"rgb(47,23,57)\"],[0.18823529411764706,\"rgb(71,28,72)\"],[0.25098039215686274,\"rgb(97,30,82)\"],[0.3137254901960784,\"rgb(123,30,89)\"],[0.3764705882352941,\"rgb(150,27,91)\"],[0.4392156862745098,\"rgb(177,22,88)\"],[0.5019607843137255,\"rgb(203,26,79)\"],[0.5647058823529412,\"rgb(223,47,67)\"],[0.6274509803921569,\"rgb(236,76,61)\"],[0.6901960784313725,\"rgb(242,107,73)\"],[0.7529411764705882,\"rgb(244,135,95)\"],[0.8156862745098039,\"rgb(245,162,122)\"],[0.8784313725490196,\"rgb(246,188,153)\"],[0.9411764705882353,\"rgb(247,212,187)\"],[1.0,\"rgb(250,234,220)\"]],\"sequentialminus\":[[0.0,\"rgb(2,4,25)\"],[0.06274509803921569,\"rgb(24,15,41)\"],[0.12549019607843137,\"rgb(47,23,57)\"],[0.18823529411764706,\"rgb(71,28,72)\"],[0.25098039215686274,\"rgb(97,30,82)\"],[0.3137254901960784,\"rgb(123,30,89)\"],[0.3764705882352941,\"rgb(150,27,91)\"],[0.4392156862745098,\"rgb(177,22,88)\"],[0.5019607843137255,\"rgb(203,26,79)\"],[0.5647058823529412,\"rgb(223,47,67)\"],[0.6274509803921569,\"rgb(236,76,61)\"],[0.6901960784313725,\"rgb(242,107,73)\"],[0.7529411764705882,\"rgb(244,135,95)\"],[0.8156862745098039,\"rgb(245,162,122)\"],[0.8784313725490196,\"rgb(246,188,153)\"],[0.9411764705882353,\"rgb(247,212,187)\"],[1.0,\"rgb(250,234,220)\"]]},\"xaxis\":{\"gridcolor\":\"white\",\"linecolor\":\"white\",\"showgrid\":true,\"ticks\":\"\",\"title\":{\"standoff\":15},\"zerolinecolor\":\"white\",\"automargin\":true},\"yaxis\":{\"gridcolor\":\"white\",\"linecolor\":\"white\",\"showgrid\":true,\"ticks\":\"\",\"title\":{\"standoff\":15},\"zerolinecolor\":\"white\",\"automargin\":true},\"scene\":{\"xaxis\":{\"backgroundcolor\":\"rgb(234,234,242)\",\"gridcolor\":\"white\",\"linecolor\":\"white\",\"showbackground\":true,\"showgrid\":true,\"ticks\":\"\",\"zerolinecolor\":\"white\",\"gridwidth\":2},\"yaxis\":{\"backgroundcolor\":\"rgb(234,234,242)\",\"gridcolor\":\"white\",\"linecolor\":\"white\",\"showbackground\":true,\"showgrid\":true,\"ticks\":\"\",\"zerolinecolor\":\"white\",\"gridwidth\":2},\"zaxis\":{\"backgroundcolor\":\"rgb(234,234,242)\",\"gridcolor\":\"white\",\"linecolor\":\"white\",\"showbackground\":true,\"showgrid\":true,\"ticks\":\"\",\"zerolinecolor\":\"white\",\"gridwidth\":2}},\"shapedefaults\":{\"fillcolor\":\"rgb(67,103,167)\",\"line\":{\"width\":0},\"opacity\":0.5},\"annotationdefaults\":{\"arrowcolor\":\"rgb(67,103,167)\"},\"geo\":{\"bgcolor\":\"white\",\"landcolor\":\"rgb(234,234,242)\",\"subunitcolor\":\"white\",\"showland\":true,\"showlakes\":true,\"lakecolor\":\"white\"}}},\"xaxis\":{\"anchor\":\"y\",\"domain\":[0.0,1.0],\"title\":{\"text\":\"Brand Name\"}},\"yaxis\":{\"anchor\":\"x\",\"domain\":[0.0,1.0],\"title\":{\"text\":\"No. of Units\"}},\"legend\":{\"tracegroupgap\":0},\"title\":{\"text\":\"Top 5 Brands by Unit Sales\"},\"barmode\":\"relative\",\"showlegend\":false},                        {\"responsive\": true}                    ).then(function(){\n",
              "                            \n",
              "var gd = document.getElementById('e87440ed-eb7c-405d-8787-a56d298b6bf5');\n",
              "var x = new MutationObserver(function (mutations, observer) {{\n",
              "        var display = window.getComputedStyle(gd).display;\n",
              "        if (!display || display === 'none') {{\n",
              "            console.log([gd, 'removed!']);\n",
              "            Plotly.purge(gd);\n",
              "            observer.disconnect();\n",
              "        }}\n",
              "}});\n",
              "\n",
              "// Listen for the removal of the full notebook cells\n",
              "var notebookContainer = gd.closest('#notebook-container');\n",
              "if (notebookContainer) {{\n",
              "    x.observe(notebookContainer, {childList: true});\n",
              "}}\n",
              "\n",
              "// Listen for the clearing of the current output cell\n",
              "var outputEl = gd.closest('.output');\n",
              "if (outputEl) {{\n",
              "    x.observe(outputEl, {childList: true});\n",
              "}}\n",
              "\n",
              "                        })                };                            </script>        </div>\n",
              "</body>\n",
              "</html>"
            ]
          },
          "metadata": {}
        }
      ]
    },
    {
      "cell_type": "code",
      "source": [
        "import plotly.express as px\n",
        "fig = px.bar(\n",
        "    ppu.sort_values(by=\"Dollar Sales\", ascending=False).head(5),\n",
        "    x=\"Brand Name\",\n",
        "    y=\"Dollar Sales\",\n",
        "    title=\"Top 5 Brands by Dollar Sales\",\n",
        "    labels={\"Dollar Sales\": \"Sales in ($)\", \"Brand Name\": \"Brand Name\"},\n",
        "    text=\"Dollar Sales\"\n",
        ")\n",
        "\n",
        "# Update layout for better visuals\n",
        "fig.update_traces(texttemplate='$%{y:.2f}', textposition='outside')\n",
        "fig.update_layout(\n",
        "    xaxis_title=\"Brand Name\",\n",
        "    yaxis_title=\"Sales in ($)\",\n",
        "    showlegend=False\n",
        ")\n",
        "fig.show()"
      ],
      "metadata": {
        "colab": {
          "base_uri": "https://localhost:8080/",
          "height": 542
        },
        "id": "t5ukXYmiikJZ",
        "outputId": "a029e7a7-0185-4235-f4d7-996b968b4248"
      },
      "execution_count": null,
      "outputs": [
        {
          "output_type": "display_data",
          "data": {
            "text/html": [
              "<html>\n",
              "<head><meta charset=\"utf-8\" /></head>\n",
              "<body>\n",
              "    <div>            <script src=\"https://cdnjs.cloudflare.com/ajax/libs/mathjax/2.7.5/MathJax.js?config=TeX-AMS-MML_SVG\"></script><script type=\"text/javascript\">if (window.MathJax && window.MathJax.Hub && window.MathJax.Hub.Config) {window.MathJax.Hub.Config({SVG: {font: \"STIX-Web\"}});}</script>                <script type=\"text/javascript\">window.PlotlyConfig = {MathJaxConfig: 'local'};</script>\n",
              "        <script charset=\"utf-8\" src=\"https://cdn.plot.ly/plotly-2.35.2.min.js\"></script>                <div id=\"c2e4fca7-a259-4187-9cd0-e51ef9cb53e5\" class=\"plotly-graph-div\" style=\"height:525px; width:100%;\"></div>            <script type=\"text/javascript\">                                    window.PLOTLYENV=window.PLOTLYENV || {};                                    if (document.getElementById(\"c2e4fca7-a259-4187-9cd0-e51ef9cb53e5\")) {                    Plotly.newPlot(                        \"c2e4fca7-a259-4187-9cd0-e51ef9cb53e5\",                        [{\"alignmentgroup\":\"True\",\"hovertemplate\":\"Brand Name=%{x}\\u003cbr\\u003eSales in ($)=%{text}\\u003cextra\\u003e\\u003c\\u002fextra\\u003e\",\"legendgroup\":\"\",\"marker\":{\"color\":\"rgb(76,114,176)\",\"pattern\":{\"shape\":\"\"}},\"name\":\"\",\"offsetgroup\":\"\",\"orientation\":\"v\",\"showlegend\":false,\"text\":[2059643706.1741667,1015502860.4630756,940425837.4269044,484417422.78989017,481113233.49806744],\"textposition\":\"outside\",\"x\":[\"MORNINGSTAR FARMS\",\"IMPOSSIBLE\",\"GARDEIN\",\"BEYOND MEAT BEYOND BURGER\",\"BEYOND MEAT\"],\"xaxis\":\"x\",\"y\":[2059643706.1741667,1015502860.4630756,940425837.4269044,484417422.78989017,481113233.49806744],\"yaxis\":\"y\",\"type\":\"bar\",\"texttemplate\":\"$%{y:.2f}\"}],                        {\"template\":{\"data\":{\"histogram2dcontour\":[{\"type\":\"histogram2dcontour\",\"colorbar\":{\"outlinewidth\":0,\"tickcolor\":\"rgb(36,36,36)\",\"ticklen\":8,\"ticks\":\"outside\",\"tickwidth\":2},\"colorscale\":[[0.0,\"rgb(2,4,25)\"],[0.06274509803921569,\"rgb(24,15,41)\"],[0.12549019607843137,\"rgb(47,23,57)\"],[0.18823529411764706,\"rgb(71,28,72)\"],[0.25098039215686274,\"rgb(97,30,82)\"],[0.3137254901960784,\"rgb(123,30,89)\"],[0.3764705882352941,\"rgb(150,27,91)\"],[0.4392156862745098,\"rgb(177,22,88)\"],[0.5019607843137255,\"rgb(203,26,79)\"],[0.5647058823529412,\"rgb(223,47,67)\"],[0.6274509803921569,\"rgb(236,76,61)\"],[0.6901960784313725,\"rgb(242,107,73)\"],[0.7529411764705882,\"rgb(244,135,95)\"],[0.8156862745098039,\"rgb(245,162,122)\"],[0.8784313725490196,\"rgb(246,188,153)\"],[0.9411764705882353,\"rgb(247,212,187)\"],[1.0,\"rgb(250,234,220)\"]]}],\"choropleth\":[{\"type\":\"choropleth\",\"colorbar\":{\"outlinewidth\":0,\"tickcolor\":\"rgb(36,36,36)\",\"ticklen\":8,\"ticks\":\"outside\",\"tickwidth\":2}}],\"histogram2d\":[{\"type\":\"histogram2d\",\"colorbar\":{\"outlinewidth\":0,\"tickcolor\":\"rgb(36,36,36)\",\"ticklen\":8,\"ticks\":\"outside\",\"tickwidth\":2},\"colorscale\":[[0.0,\"rgb(2,4,25)\"],[0.06274509803921569,\"rgb(24,15,41)\"],[0.12549019607843137,\"rgb(47,23,57)\"],[0.18823529411764706,\"rgb(71,28,72)\"],[0.25098039215686274,\"rgb(97,30,82)\"],[0.3137254901960784,\"rgb(123,30,89)\"],[0.3764705882352941,\"rgb(150,27,91)\"],[0.4392156862745098,\"rgb(177,22,88)\"],[0.5019607843137255,\"rgb(203,26,79)\"],[0.5647058823529412,\"rgb(223,47,67)\"],[0.6274509803921569,\"rgb(236,76,61)\"],[0.6901960784313725,\"rgb(242,107,73)\"],[0.7529411764705882,\"rgb(244,135,95)\"],[0.8156862745098039,\"rgb(245,162,122)\"],[0.8784313725490196,\"rgb(246,188,153)\"],[0.9411764705882353,\"rgb(247,212,187)\"],[1.0,\"rgb(250,234,220)\"]]}],\"heatmap\":[{\"type\":\"heatmap\",\"colorbar\":{\"outlinewidth\":0,\"tickcolor\":\"rgb(36,36,36)\",\"ticklen\":8,\"ticks\":\"outside\",\"tickwidth\":2},\"colorscale\":[[0.0,\"rgb(2,4,25)\"],[0.06274509803921569,\"rgb(24,15,41)\"],[0.12549019607843137,\"rgb(47,23,57)\"],[0.18823529411764706,\"rgb(71,28,72)\"],[0.25098039215686274,\"rgb(97,30,82)\"],[0.3137254901960784,\"rgb(123,30,89)\"],[0.3764705882352941,\"rgb(150,27,91)\"],[0.4392156862745098,\"rgb(177,22,88)\"],[0.5019607843137255,\"rgb(203,26,79)\"],[0.5647058823529412,\"rgb(223,47,67)\"],[0.6274509803921569,\"rgb(236,76,61)\"],[0.6901960784313725,\"rgb(242,107,73)\"],[0.7529411764705882,\"rgb(244,135,95)\"],[0.8156862745098039,\"rgb(245,162,122)\"],[0.8784313725490196,\"rgb(246,188,153)\"],[0.9411764705882353,\"rgb(247,212,187)\"],[1.0,\"rgb(250,234,220)\"]]}],\"heatmapgl\":[{\"type\":\"heatmapgl\",\"colorbar\":{\"outlinewidth\":0,\"tickcolor\":\"rgb(36,36,36)\",\"ticklen\":8,\"ticks\":\"outside\",\"tickwidth\":2},\"colorscale\":[[0.0,\"rgb(2,4,25)\"],[0.06274509803921569,\"rgb(24,15,41)\"],[0.12549019607843137,\"rgb(47,23,57)\"],[0.18823529411764706,\"rgb(71,28,72)\"],[0.25098039215686274,\"rgb(97,30,82)\"],[0.3137254901960784,\"rgb(123,30,89)\"],[0.3764705882352941,\"rgb(150,27,91)\"],[0.4392156862745098,\"rgb(177,22,88)\"],[0.5019607843137255,\"rgb(203,26,79)\"],[0.5647058823529412,\"rgb(223,47,67)\"],[0.6274509803921569,\"rgb(236,76,61)\"],[0.6901960784313725,\"rgb(242,107,73)\"],[0.7529411764705882,\"rgb(244,135,95)\"],[0.8156862745098039,\"rgb(245,162,122)\"],[0.8784313725490196,\"rgb(246,188,153)\"],[0.9411764705882353,\"rgb(247,212,187)\"],[1.0,\"rgb(250,234,220)\"]]}],\"contourcarpet\":[{\"type\":\"contourcarpet\",\"colorbar\":{\"outlinewidth\":0,\"tickcolor\":\"rgb(36,36,36)\",\"ticklen\":8,\"ticks\":\"outside\",\"tickwidth\":2}}],\"contour\":[{\"type\":\"contour\",\"colorbar\":{\"outlinewidth\":0,\"tickcolor\":\"rgb(36,36,36)\",\"ticklen\":8,\"ticks\":\"outside\",\"tickwidth\":2},\"colorscale\":[[0.0,\"rgb(2,4,25)\"],[0.06274509803921569,\"rgb(24,15,41)\"],[0.12549019607843137,\"rgb(47,23,57)\"],[0.18823529411764706,\"rgb(71,28,72)\"],[0.25098039215686274,\"rgb(97,30,82)\"],[0.3137254901960784,\"rgb(123,30,89)\"],[0.3764705882352941,\"rgb(150,27,91)\"],[0.4392156862745098,\"rgb(177,22,88)\"],[0.5019607843137255,\"rgb(203,26,79)\"],[0.5647058823529412,\"rgb(223,47,67)\"],[0.6274509803921569,\"rgb(236,76,61)\"],[0.6901960784313725,\"rgb(242,107,73)\"],[0.7529411764705882,\"rgb(244,135,95)\"],[0.8156862745098039,\"rgb(245,162,122)\"],[0.8784313725490196,\"rgb(246,188,153)\"],[0.9411764705882353,\"rgb(247,212,187)\"],[1.0,\"rgb(250,234,220)\"]]}],\"surface\":[{\"type\":\"surface\",\"colorbar\":{\"outlinewidth\":0,\"tickcolor\":\"rgb(36,36,36)\",\"ticklen\":8,\"ticks\":\"outside\",\"tickwidth\":2},\"colorscale\":[[0.0,\"rgb(2,4,25)\"],[0.06274509803921569,\"rgb(24,15,41)\"],[0.12549019607843137,\"rgb(47,23,57)\"],[0.18823529411764706,\"rgb(71,28,72)\"],[0.25098039215686274,\"rgb(97,30,82)\"],[0.3137254901960784,\"rgb(123,30,89)\"],[0.3764705882352941,\"rgb(150,27,91)\"],[0.4392156862745098,\"rgb(177,22,88)\"],[0.5019607843137255,\"rgb(203,26,79)\"],[0.5647058823529412,\"rgb(223,47,67)\"],[0.6274509803921569,\"rgb(236,76,61)\"],[0.6901960784313725,\"rgb(242,107,73)\"],[0.7529411764705882,\"rgb(244,135,95)\"],[0.8156862745098039,\"rgb(245,162,122)\"],[0.8784313725490196,\"rgb(246,188,153)\"],[0.9411764705882353,\"rgb(247,212,187)\"],[1.0,\"rgb(250,234,220)\"]]}],\"mesh3d\":[{\"type\":\"mesh3d\",\"colorbar\":{\"outlinewidth\":0,\"tickcolor\":\"rgb(36,36,36)\",\"ticklen\":8,\"ticks\":\"outside\",\"tickwidth\":2}}],\"scatter\":[{\"fillpattern\":{\"fillmode\":\"overlay\",\"size\":10,\"solidity\":0.2},\"type\":\"scatter\"}],\"parcoords\":[{\"type\":\"parcoords\",\"line\":{\"colorbar\":{\"outlinewidth\":0,\"tickcolor\":\"rgb(36,36,36)\",\"ticklen\":8,\"ticks\":\"outside\",\"tickwidth\":2}}}],\"scatterpolargl\":[{\"type\":\"scatterpolargl\",\"marker\":{\"colorbar\":{\"outlinewidth\":0,\"tickcolor\":\"rgb(36,36,36)\",\"ticklen\":8,\"ticks\":\"outside\",\"tickwidth\":2}}}],\"bar\":[{\"error_x\":{\"color\":\"rgb(36,36,36)\"},\"error_y\":{\"color\":\"rgb(36,36,36)\"},\"marker\":{\"line\":{\"color\":\"rgb(234,234,242)\",\"width\":0.5},\"pattern\":{\"fillmode\":\"overlay\",\"size\":10,\"solidity\":0.2}},\"type\":\"bar\"}],\"scattergeo\":[{\"type\":\"scattergeo\",\"marker\":{\"colorbar\":{\"outlinewidth\":0,\"tickcolor\":\"rgb(36,36,36)\",\"ticklen\":8,\"ticks\":\"outside\",\"tickwidth\":2}}}],\"scatterpolar\":[{\"type\":\"scatterpolar\",\"marker\":{\"colorbar\":{\"outlinewidth\":0,\"tickcolor\":\"rgb(36,36,36)\",\"ticklen\":8,\"ticks\":\"outside\",\"tickwidth\":2}}}],\"histogram\":[{\"marker\":{\"pattern\":{\"fillmode\":\"overlay\",\"size\":10,\"solidity\":0.2}},\"type\":\"histogram\"}],\"scattergl\":[{\"type\":\"scattergl\",\"marker\":{\"colorbar\":{\"outlinewidth\":0,\"tickcolor\":\"rgb(36,36,36)\",\"ticklen\":8,\"ticks\":\"outside\",\"tickwidth\":2}}}],\"scatter3d\":[{\"type\":\"scatter3d\",\"line\":{\"colorbar\":{\"outlinewidth\":0,\"tickcolor\":\"rgb(36,36,36)\",\"ticklen\":8,\"ticks\":\"outside\",\"tickwidth\":2}},\"marker\":{\"colorbar\":{\"outlinewidth\":0,\"tickcolor\":\"rgb(36,36,36)\",\"ticklen\":8,\"ticks\":\"outside\",\"tickwidth\":2}}}],\"scattermapbox\":[{\"type\":\"scattermapbox\",\"marker\":{\"colorbar\":{\"outlinewidth\":0,\"tickcolor\":\"rgb(36,36,36)\",\"ticklen\":8,\"ticks\":\"outside\",\"tickwidth\":2}}}],\"scatterternary\":[{\"type\":\"scatterternary\",\"marker\":{\"colorbar\":{\"outlinewidth\":0,\"tickcolor\":\"rgb(36,36,36)\",\"ticklen\":8,\"ticks\":\"outside\",\"tickwidth\":2}}}],\"scattercarpet\":[{\"type\":\"scattercarpet\",\"marker\":{\"colorbar\":{\"outlinewidth\":0,\"tickcolor\":\"rgb(36,36,36)\",\"ticklen\":8,\"ticks\":\"outside\",\"tickwidth\":2}}}],\"carpet\":[{\"aaxis\":{\"endlinecolor\":\"rgb(36,36,36)\",\"gridcolor\":\"white\",\"linecolor\":\"white\",\"minorgridcolor\":\"white\",\"startlinecolor\":\"rgb(36,36,36)\"},\"baxis\":{\"endlinecolor\":\"rgb(36,36,36)\",\"gridcolor\":\"white\",\"linecolor\":\"white\",\"minorgridcolor\":\"white\",\"startlinecolor\":\"rgb(36,36,36)\"},\"type\":\"carpet\"}],\"table\":[{\"cells\":{\"fill\":{\"color\":\"rgb(231,231,240)\"},\"line\":{\"color\":\"white\"}},\"header\":{\"fill\":{\"color\":\"rgb(183,183,191)\"},\"line\":{\"color\":\"white\"}},\"type\":\"table\"}],\"barpolar\":[{\"marker\":{\"line\":{\"color\":\"rgb(234,234,242)\",\"width\":0.5},\"pattern\":{\"fillmode\":\"overlay\",\"size\":10,\"solidity\":0.2}},\"type\":\"barpolar\"}],\"pie\":[{\"automargin\":true,\"type\":\"pie\"}]},\"layout\":{\"autotypenumbers\":\"strict\",\"colorway\":[\"rgb(76,114,176)\",\"rgb(221,132,82)\",\"rgb(85,168,104)\",\"rgb(196,78,82)\",\"rgb(129,114,179)\",\"rgb(147,120,96)\",\"rgb(218,139,195)\",\"rgb(140,140,140)\",\"rgb(204,185,116)\",\"rgb(100,181,205)\"],\"font\":{\"color\":\"rgb(36,36,36)\"},\"hovermode\":\"closest\",\"hoverlabel\":{\"align\":\"left\"},\"paper_bgcolor\":\"white\",\"plot_bgcolor\":\"rgb(234,234,242)\",\"polar\":{\"bgcolor\":\"rgb(234,234,242)\",\"angularaxis\":{\"gridcolor\":\"white\",\"linecolor\":\"white\",\"showgrid\":true,\"ticks\":\"\"},\"radialaxis\":{\"gridcolor\":\"white\",\"linecolor\":\"white\",\"showgrid\":true,\"ticks\":\"\"}},\"ternary\":{\"bgcolor\":\"rgb(234,234,242)\",\"aaxis\":{\"gridcolor\":\"white\",\"linecolor\":\"white\",\"showgrid\":true,\"ticks\":\"\"},\"baxis\":{\"gridcolor\":\"white\",\"linecolor\":\"white\",\"showgrid\":true,\"ticks\":\"\"},\"caxis\":{\"gridcolor\":\"white\",\"linecolor\":\"white\",\"showgrid\":true,\"ticks\":\"\"}},\"coloraxis\":{\"colorbar\":{\"outlinewidth\":0,\"tickcolor\":\"rgb(36,36,36)\",\"ticklen\":8,\"ticks\":\"outside\",\"tickwidth\":2}},\"colorscale\":{\"sequential\":[[0.0,\"rgb(2,4,25)\"],[0.06274509803921569,\"rgb(24,15,41)\"],[0.12549019607843137,\"rgb(47,23,57)\"],[0.18823529411764706,\"rgb(71,28,72)\"],[0.25098039215686274,\"rgb(97,30,82)\"],[0.3137254901960784,\"rgb(123,30,89)\"],[0.3764705882352941,\"rgb(150,27,91)\"],[0.4392156862745098,\"rgb(177,22,88)\"],[0.5019607843137255,\"rgb(203,26,79)\"],[0.5647058823529412,\"rgb(223,47,67)\"],[0.6274509803921569,\"rgb(236,76,61)\"],[0.6901960784313725,\"rgb(242,107,73)\"],[0.7529411764705882,\"rgb(244,135,95)\"],[0.8156862745098039,\"rgb(245,162,122)\"],[0.8784313725490196,\"rgb(246,188,153)\"],[0.9411764705882353,\"rgb(247,212,187)\"],[1.0,\"rgb(250,234,220)\"]],\"sequentialminus\":[[0.0,\"rgb(2,4,25)\"],[0.06274509803921569,\"rgb(24,15,41)\"],[0.12549019607843137,\"rgb(47,23,57)\"],[0.18823529411764706,\"rgb(71,28,72)\"],[0.25098039215686274,\"rgb(97,30,82)\"],[0.3137254901960784,\"rgb(123,30,89)\"],[0.3764705882352941,\"rgb(150,27,91)\"],[0.4392156862745098,\"rgb(177,22,88)\"],[0.5019607843137255,\"rgb(203,26,79)\"],[0.5647058823529412,\"rgb(223,47,67)\"],[0.6274509803921569,\"rgb(236,76,61)\"],[0.6901960784313725,\"rgb(242,107,73)\"],[0.7529411764705882,\"rgb(244,135,95)\"],[0.8156862745098039,\"rgb(245,162,122)\"],[0.8784313725490196,\"rgb(246,188,153)\"],[0.9411764705882353,\"rgb(247,212,187)\"],[1.0,\"rgb(250,234,220)\"]]},\"xaxis\":{\"gridcolor\":\"white\",\"linecolor\":\"white\",\"showgrid\":true,\"ticks\":\"\",\"title\":{\"standoff\":15},\"zerolinecolor\":\"white\",\"automargin\":true},\"yaxis\":{\"gridcolor\":\"white\",\"linecolor\":\"white\",\"showgrid\":true,\"ticks\":\"\",\"title\":{\"standoff\":15},\"zerolinecolor\":\"white\",\"automargin\":true},\"scene\":{\"xaxis\":{\"backgroundcolor\":\"rgb(234,234,242)\",\"gridcolor\":\"white\",\"linecolor\":\"white\",\"showbackground\":true,\"showgrid\":true,\"ticks\":\"\",\"zerolinecolor\":\"white\",\"gridwidth\":2},\"yaxis\":{\"backgroundcolor\":\"rgb(234,234,242)\",\"gridcolor\":\"white\",\"linecolor\":\"white\",\"showbackground\":true,\"showgrid\":true,\"ticks\":\"\",\"zerolinecolor\":\"white\",\"gridwidth\":2},\"zaxis\":{\"backgroundcolor\":\"rgb(234,234,242)\",\"gridcolor\":\"white\",\"linecolor\":\"white\",\"showbackground\":true,\"showgrid\":true,\"ticks\":\"\",\"zerolinecolor\":\"white\",\"gridwidth\":2}},\"shapedefaults\":{\"fillcolor\":\"rgb(67,103,167)\",\"line\":{\"width\":0},\"opacity\":0.5},\"annotationdefaults\":{\"arrowcolor\":\"rgb(67,103,167)\"},\"geo\":{\"bgcolor\":\"white\",\"landcolor\":\"rgb(234,234,242)\",\"subunitcolor\":\"white\",\"showland\":true,\"showlakes\":true,\"lakecolor\":\"white\"}}},\"xaxis\":{\"anchor\":\"y\",\"domain\":[0.0,1.0],\"title\":{\"text\":\"Brand Name\"}},\"yaxis\":{\"anchor\":\"x\",\"domain\":[0.0,1.0],\"title\":{\"text\":\"Sales in ($)\"}},\"legend\":{\"tracegroupgap\":0},\"title\":{\"text\":\"Top 5 Brands by Dollar Sales\"},\"barmode\":\"relative\",\"showlegend\":false},                        {\"responsive\": true}                    ).then(function(){\n",
              "                            \n",
              "var gd = document.getElementById('c2e4fca7-a259-4187-9cd0-e51ef9cb53e5');\n",
              "var x = new MutationObserver(function (mutations, observer) {{\n",
              "        var display = window.getComputedStyle(gd).display;\n",
              "        if (!display || display === 'none') {{\n",
              "            console.log([gd, 'removed!']);\n",
              "            Plotly.purge(gd);\n",
              "            observer.disconnect();\n",
              "        }}\n",
              "}});\n",
              "\n",
              "// Listen for the removal of the full notebook cells\n",
              "var notebookContainer = gd.closest('#notebook-container');\n",
              "if (notebookContainer) {{\n",
              "    x.observe(notebookContainer, {childList: true});\n",
              "}}\n",
              "\n",
              "// Listen for the clearing of the current output cell\n",
              "var outputEl = gd.closest('.output');\n",
              "if (outputEl) {{\n",
              "    x.observe(outputEl, {childList: true});\n",
              "}}\n",
              "\n",
              "                        })                };                            </script>        </div>\n",
              "</body>\n",
              "</html>"
            ]
          },
          "metadata": {}
        }
      ]
    },
    {
      "cell_type": "code",
      "source": [
        "# Group by Region and Brand Name\n",
        "region_brand_df = data.groupby(['Region', 'Brand Name'])[['Unit Sales', 'Volume Sales', 'Dollar Sales']].sum().reset_index()\n",
        "\n",
        "# Display the resulting DataFrame\n",
        "print(region_brand_df.head())"
      ],
      "metadata": {
        "colab": {
          "base_uri": "https://localhost:8080/"
        },
        "id": "1Sa1jAD1sVNJ",
        "outputId": "db6a1897-6b29-427f-8efe-6daa8a7cd412"
      },
      "execution_count": null,
      "outputs": [
        {
          "output_type": "stream",
          "name": "stdout",
          "text": [
            "        Region      Brand Name  Unit Sales   Volume Sales  Dollar Sales\n",
            "0  California   ABBOTS BUTCHER       87619   54841.674849  6.175479e+05\n",
            "1  California   ACTUAL VEGGIES       56073   39704.945933  4.460241e+05\n",
            "2  California        AJINOMOTO         853     186.304955  4.779928e+03\n",
            "3  California             AKUA        6898    2899.618433  5.360339e+04\n",
            "4  California            ALPHA      285458  203175.374447  1.593488e+06\n"
          ]
        }
      ]
    },
    {
      "cell_type": "code",
      "source": [
        "top_brands_per_region = region_brand_df.loc[region_brand_df.groupby('Region')['Dollar Sales'].idxmax()]"
      ],
      "metadata": {
        "id": "rPyN1uaYtpYQ"
      },
      "execution_count": null,
      "outputs": []
    },
    {
      "cell_type": "code",
      "source": [
        "import plotly.express as px\n",
        "\n",
        "# Filter the data for Gardein\n",
        "gardein_region_df = region_brand_df[region_brand_df['Brand Name'] == 'GARDEIN']\n",
        "\n",
        "# Create a pie chart for Dollar Sales by Region for Gardein\n",
        "fig_pie = px.pie(\n",
        "    gardein_region_df,\n",
        "    names='Region',\n",
        "    values='Dollar Sales',\n",
        "    title='Dollar Sales by Region for Gardein',\n",
        "    labels={'Dollar Sales': 'Dollar Sales ($)', 'Region': 'Region'},\n",
        "    hole=0.4  # Optional: creates a donut-style chart\n",
        ")\n",
        "\n",
        "fig_pie.update_traces(textinfo='percent+label')\n",
        "fig_pie.show()\n"
      ],
      "metadata": {
        "colab": {
          "base_uri": "https://localhost:8080/",
          "height": 542
        },
        "id": "bnU-zqDktM5-",
        "outputId": "f80d7480-e12b-4c55-f812-85b36eafc381"
      },
      "execution_count": null,
      "outputs": [
        {
          "output_type": "display_data",
          "data": {
            "text/html": [
              "<html>\n",
              "<head><meta charset=\"utf-8\" /></head>\n",
              "<body>\n",
              "    <div>            <script src=\"https://cdnjs.cloudflare.com/ajax/libs/mathjax/2.7.5/MathJax.js?config=TeX-AMS-MML_SVG\"></script><script type=\"text/javascript\">if (window.MathJax && window.MathJax.Hub && window.MathJax.Hub.Config) {window.MathJax.Hub.Config({SVG: {font: \"STIX-Web\"}});}</script>                <script type=\"text/javascript\">window.PlotlyConfig = {MathJaxConfig: 'local'};</script>\n",
              "        <script charset=\"utf-8\" src=\"https://cdn.plot.ly/plotly-2.35.2.min.js\"></script>                <div id=\"8fd566a1-b83e-4f87-a52c-cb39b85e5b6a\" class=\"plotly-graph-div\" style=\"height:525px; width:100%;\"></div>            <script type=\"text/javascript\">                                    window.PLOTLYENV=window.PLOTLYENV || {};                                    if (document.getElementById(\"8fd566a1-b83e-4f87-a52c-cb39b85e5b6a\")) {                    Plotly.newPlot(                        \"8fd566a1-b83e-4f87-a52c-cb39b85e5b6a\",                        [{\"domain\":{\"x\":[0.0,1.0],\"y\":[0.0,1.0]},\"hole\":0.4,\"hovertemplate\":\"Region=%{label}\\u003cbr\\u003eDollar Sales ($)=%{value}\\u003cextra\\u003e\\u003c\\u002fextra\\u003e\",\"labels\":[\"California \",\"Great Lakes \",\"Mid\",\"Northeast \",\"Plains \",\"South Central \",\"Southeast \",\"West \"],\"legendgroup\":\"\",\"name\":\"\",\"showlegend\":true,\"values\":[53382515.61726211,51976825.559162304,63140667.515832774,97943114.86973187,21421786.015707634,43891733.76600791,88780678.98594919,49675596.38379843],\"type\":\"pie\",\"textinfo\":\"percent+label\"}],                        {\"template\":{\"data\":{\"histogram2dcontour\":[{\"type\":\"histogram2dcontour\",\"colorbar\":{\"outlinewidth\":0,\"tickcolor\":\"rgb(36,36,36)\",\"ticklen\":8,\"ticks\":\"outside\",\"tickwidth\":2},\"colorscale\":[[0.0,\"rgb(2,4,25)\"],[0.06274509803921569,\"rgb(24,15,41)\"],[0.12549019607843137,\"rgb(47,23,57)\"],[0.18823529411764706,\"rgb(71,28,72)\"],[0.25098039215686274,\"rgb(97,30,82)\"],[0.3137254901960784,\"rgb(123,30,89)\"],[0.3764705882352941,\"rgb(150,27,91)\"],[0.4392156862745098,\"rgb(177,22,88)\"],[0.5019607843137255,\"rgb(203,26,79)\"],[0.5647058823529412,\"rgb(223,47,67)\"],[0.6274509803921569,\"rgb(236,76,61)\"],[0.6901960784313725,\"rgb(242,107,73)\"],[0.7529411764705882,\"rgb(244,135,95)\"],[0.8156862745098039,\"rgb(245,162,122)\"],[0.8784313725490196,\"rgb(246,188,153)\"],[0.9411764705882353,\"rgb(247,212,187)\"],[1.0,\"rgb(250,234,220)\"]]}],\"choropleth\":[{\"type\":\"choropleth\",\"colorbar\":{\"outlinewidth\":0,\"tickcolor\":\"rgb(36,36,36)\",\"ticklen\":8,\"ticks\":\"outside\",\"tickwidth\":2}}],\"histogram2d\":[{\"type\":\"histogram2d\",\"colorbar\":{\"outlinewidth\":0,\"tickcolor\":\"rgb(36,36,36)\",\"ticklen\":8,\"ticks\":\"outside\",\"tickwidth\":2},\"colorscale\":[[0.0,\"rgb(2,4,25)\"],[0.06274509803921569,\"rgb(24,15,41)\"],[0.12549019607843137,\"rgb(47,23,57)\"],[0.18823529411764706,\"rgb(71,28,72)\"],[0.25098039215686274,\"rgb(97,30,82)\"],[0.3137254901960784,\"rgb(123,30,89)\"],[0.3764705882352941,\"rgb(150,27,91)\"],[0.4392156862745098,\"rgb(177,22,88)\"],[0.5019607843137255,\"rgb(203,26,79)\"],[0.5647058823529412,\"rgb(223,47,67)\"],[0.6274509803921569,\"rgb(236,76,61)\"],[0.6901960784313725,\"rgb(242,107,73)\"],[0.7529411764705882,\"rgb(244,135,95)\"],[0.8156862745098039,\"rgb(245,162,122)\"],[0.8784313725490196,\"rgb(246,188,153)\"],[0.9411764705882353,\"rgb(247,212,187)\"],[1.0,\"rgb(250,234,220)\"]]}],\"heatmap\":[{\"type\":\"heatmap\",\"colorbar\":{\"outlinewidth\":0,\"tickcolor\":\"rgb(36,36,36)\",\"ticklen\":8,\"ticks\":\"outside\",\"tickwidth\":2},\"colorscale\":[[0.0,\"rgb(2,4,25)\"],[0.06274509803921569,\"rgb(24,15,41)\"],[0.12549019607843137,\"rgb(47,23,57)\"],[0.18823529411764706,\"rgb(71,28,72)\"],[0.25098039215686274,\"rgb(97,30,82)\"],[0.3137254901960784,\"rgb(123,30,89)\"],[0.3764705882352941,\"rgb(150,27,91)\"],[0.4392156862745098,\"rgb(177,22,88)\"],[0.5019607843137255,\"rgb(203,26,79)\"],[0.5647058823529412,\"rgb(223,47,67)\"],[0.6274509803921569,\"rgb(236,76,61)\"],[0.6901960784313725,\"rgb(242,107,73)\"],[0.7529411764705882,\"rgb(244,135,95)\"],[0.8156862745098039,\"rgb(245,162,122)\"],[0.8784313725490196,\"rgb(246,188,153)\"],[0.9411764705882353,\"rgb(247,212,187)\"],[1.0,\"rgb(250,234,220)\"]]}],\"heatmapgl\":[{\"type\":\"heatmapgl\",\"colorbar\":{\"outlinewidth\":0,\"tickcolor\":\"rgb(36,36,36)\",\"ticklen\":8,\"ticks\":\"outside\",\"tickwidth\":2},\"colorscale\":[[0.0,\"rgb(2,4,25)\"],[0.06274509803921569,\"rgb(24,15,41)\"],[0.12549019607843137,\"rgb(47,23,57)\"],[0.18823529411764706,\"rgb(71,28,72)\"],[0.25098039215686274,\"rgb(97,30,82)\"],[0.3137254901960784,\"rgb(123,30,89)\"],[0.3764705882352941,\"rgb(150,27,91)\"],[0.4392156862745098,\"rgb(177,22,88)\"],[0.5019607843137255,\"rgb(203,26,79)\"],[0.5647058823529412,\"rgb(223,47,67)\"],[0.6274509803921569,\"rgb(236,76,61)\"],[0.6901960784313725,\"rgb(242,107,73)\"],[0.7529411764705882,\"rgb(244,135,95)\"],[0.8156862745098039,\"rgb(245,162,122)\"],[0.8784313725490196,\"rgb(246,188,153)\"],[0.9411764705882353,\"rgb(247,212,187)\"],[1.0,\"rgb(250,234,220)\"]]}],\"contourcarpet\":[{\"type\":\"contourcarpet\",\"colorbar\":{\"outlinewidth\":0,\"tickcolor\":\"rgb(36,36,36)\",\"ticklen\":8,\"ticks\":\"outside\",\"tickwidth\":2}}],\"contour\":[{\"type\":\"contour\",\"colorbar\":{\"outlinewidth\":0,\"tickcolor\":\"rgb(36,36,36)\",\"ticklen\":8,\"ticks\":\"outside\",\"tickwidth\":2},\"colorscale\":[[0.0,\"rgb(2,4,25)\"],[0.06274509803921569,\"rgb(24,15,41)\"],[0.12549019607843137,\"rgb(47,23,57)\"],[0.18823529411764706,\"rgb(71,28,72)\"],[0.25098039215686274,\"rgb(97,30,82)\"],[0.3137254901960784,\"rgb(123,30,89)\"],[0.3764705882352941,\"rgb(150,27,91)\"],[0.4392156862745098,\"rgb(177,22,88)\"],[0.5019607843137255,\"rgb(203,26,79)\"],[0.5647058823529412,\"rgb(223,47,67)\"],[0.6274509803921569,\"rgb(236,76,61)\"],[0.6901960784313725,\"rgb(242,107,73)\"],[0.7529411764705882,\"rgb(244,135,95)\"],[0.8156862745098039,\"rgb(245,162,122)\"],[0.8784313725490196,\"rgb(246,188,153)\"],[0.9411764705882353,\"rgb(247,212,187)\"],[1.0,\"rgb(250,234,220)\"]]}],\"surface\":[{\"type\":\"surface\",\"colorbar\":{\"outlinewidth\":0,\"tickcolor\":\"rgb(36,36,36)\",\"ticklen\":8,\"ticks\":\"outside\",\"tickwidth\":2},\"colorscale\":[[0.0,\"rgb(2,4,25)\"],[0.06274509803921569,\"rgb(24,15,41)\"],[0.12549019607843137,\"rgb(47,23,57)\"],[0.18823529411764706,\"rgb(71,28,72)\"],[0.25098039215686274,\"rgb(97,30,82)\"],[0.3137254901960784,\"rgb(123,30,89)\"],[0.3764705882352941,\"rgb(150,27,91)\"],[0.4392156862745098,\"rgb(177,22,88)\"],[0.5019607843137255,\"rgb(203,26,79)\"],[0.5647058823529412,\"rgb(223,47,67)\"],[0.6274509803921569,\"rgb(236,76,61)\"],[0.6901960784313725,\"rgb(242,107,73)\"],[0.7529411764705882,\"rgb(244,135,95)\"],[0.8156862745098039,\"rgb(245,162,122)\"],[0.8784313725490196,\"rgb(246,188,153)\"],[0.9411764705882353,\"rgb(247,212,187)\"],[1.0,\"rgb(250,234,220)\"]]}],\"mesh3d\":[{\"type\":\"mesh3d\",\"colorbar\":{\"outlinewidth\":0,\"tickcolor\":\"rgb(36,36,36)\",\"ticklen\":8,\"ticks\":\"outside\",\"tickwidth\":2}}],\"scatter\":[{\"fillpattern\":{\"fillmode\":\"overlay\",\"size\":10,\"solidity\":0.2},\"type\":\"scatter\"}],\"parcoords\":[{\"type\":\"parcoords\",\"line\":{\"colorbar\":{\"outlinewidth\":0,\"tickcolor\":\"rgb(36,36,36)\",\"ticklen\":8,\"ticks\":\"outside\",\"tickwidth\":2}}}],\"scatterpolargl\":[{\"type\":\"scatterpolargl\",\"marker\":{\"colorbar\":{\"outlinewidth\":0,\"tickcolor\":\"rgb(36,36,36)\",\"ticklen\":8,\"ticks\":\"outside\",\"tickwidth\":2}}}],\"bar\":[{\"error_x\":{\"color\":\"rgb(36,36,36)\"},\"error_y\":{\"color\":\"rgb(36,36,36)\"},\"marker\":{\"line\":{\"color\":\"rgb(234,234,242)\",\"width\":0.5},\"pattern\":{\"fillmode\":\"overlay\",\"size\":10,\"solidity\":0.2}},\"type\":\"bar\"}],\"scattergeo\":[{\"type\":\"scattergeo\",\"marker\":{\"colorbar\":{\"outlinewidth\":0,\"tickcolor\":\"rgb(36,36,36)\",\"ticklen\":8,\"ticks\":\"outside\",\"tickwidth\":2}}}],\"scatterpolar\":[{\"type\":\"scatterpolar\",\"marker\":{\"colorbar\":{\"outlinewidth\":0,\"tickcolor\":\"rgb(36,36,36)\",\"ticklen\":8,\"ticks\":\"outside\",\"tickwidth\":2}}}],\"histogram\":[{\"marker\":{\"pattern\":{\"fillmode\":\"overlay\",\"size\":10,\"solidity\":0.2}},\"type\":\"histogram\"}],\"scattergl\":[{\"type\":\"scattergl\",\"marker\":{\"colorbar\":{\"outlinewidth\":0,\"tickcolor\":\"rgb(36,36,36)\",\"ticklen\":8,\"ticks\":\"outside\",\"tickwidth\":2}}}],\"scatter3d\":[{\"type\":\"scatter3d\",\"line\":{\"colorbar\":{\"outlinewidth\":0,\"tickcolor\":\"rgb(36,36,36)\",\"ticklen\":8,\"ticks\":\"outside\",\"tickwidth\":2}},\"marker\":{\"colorbar\":{\"outlinewidth\":0,\"tickcolor\":\"rgb(36,36,36)\",\"ticklen\":8,\"ticks\":\"outside\",\"tickwidth\":2}}}],\"scattermapbox\":[{\"type\":\"scattermapbox\",\"marker\":{\"colorbar\":{\"outlinewidth\":0,\"tickcolor\":\"rgb(36,36,36)\",\"ticklen\":8,\"ticks\":\"outside\",\"tickwidth\":2}}}],\"scatterternary\":[{\"type\":\"scatterternary\",\"marker\":{\"colorbar\":{\"outlinewidth\":0,\"tickcolor\":\"rgb(36,36,36)\",\"ticklen\":8,\"ticks\":\"outside\",\"tickwidth\":2}}}],\"scattercarpet\":[{\"type\":\"scattercarpet\",\"marker\":{\"colorbar\":{\"outlinewidth\":0,\"tickcolor\":\"rgb(36,36,36)\",\"ticklen\":8,\"ticks\":\"outside\",\"tickwidth\":2}}}],\"carpet\":[{\"aaxis\":{\"endlinecolor\":\"rgb(36,36,36)\",\"gridcolor\":\"white\",\"linecolor\":\"white\",\"minorgridcolor\":\"white\",\"startlinecolor\":\"rgb(36,36,36)\"},\"baxis\":{\"endlinecolor\":\"rgb(36,36,36)\",\"gridcolor\":\"white\",\"linecolor\":\"white\",\"minorgridcolor\":\"white\",\"startlinecolor\":\"rgb(36,36,36)\"},\"type\":\"carpet\"}],\"table\":[{\"cells\":{\"fill\":{\"color\":\"rgb(231,231,240)\"},\"line\":{\"color\":\"white\"}},\"header\":{\"fill\":{\"color\":\"rgb(183,183,191)\"},\"line\":{\"color\":\"white\"}},\"type\":\"table\"}],\"barpolar\":[{\"marker\":{\"line\":{\"color\":\"rgb(234,234,242)\",\"width\":0.5},\"pattern\":{\"fillmode\":\"overlay\",\"size\":10,\"solidity\":0.2}},\"type\":\"barpolar\"}],\"pie\":[{\"automargin\":true,\"type\":\"pie\"}]},\"layout\":{\"autotypenumbers\":\"strict\",\"colorway\":[\"rgb(76,114,176)\",\"rgb(221,132,82)\",\"rgb(85,168,104)\",\"rgb(196,78,82)\",\"rgb(129,114,179)\",\"rgb(147,120,96)\",\"rgb(218,139,195)\",\"rgb(140,140,140)\",\"rgb(204,185,116)\",\"rgb(100,181,205)\"],\"font\":{\"color\":\"rgb(36,36,36)\"},\"hovermode\":\"closest\",\"hoverlabel\":{\"align\":\"left\"},\"paper_bgcolor\":\"white\",\"plot_bgcolor\":\"rgb(234,234,242)\",\"polar\":{\"bgcolor\":\"rgb(234,234,242)\",\"angularaxis\":{\"gridcolor\":\"white\",\"linecolor\":\"white\",\"showgrid\":true,\"ticks\":\"\"},\"radialaxis\":{\"gridcolor\":\"white\",\"linecolor\":\"white\",\"showgrid\":true,\"ticks\":\"\"}},\"ternary\":{\"bgcolor\":\"rgb(234,234,242)\",\"aaxis\":{\"gridcolor\":\"white\",\"linecolor\":\"white\",\"showgrid\":true,\"ticks\":\"\"},\"baxis\":{\"gridcolor\":\"white\",\"linecolor\":\"white\",\"showgrid\":true,\"ticks\":\"\"},\"caxis\":{\"gridcolor\":\"white\",\"linecolor\":\"white\",\"showgrid\":true,\"ticks\":\"\"}},\"coloraxis\":{\"colorbar\":{\"outlinewidth\":0,\"tickcolor\":\"rgb(36,36,36)\",\"ticklen\":8,\"ticks\":\"outside\",\"tickwidth\":2}},\"colorscale\":{\"sequential\":[[0.0,\"rgb(2,4,25)\"],[0.06274509803921569,\"rgb(24,15,41)\"],[0.12549019607843137,\"rgb(47,23,57)\"],[0.18823529411764706,\"rgb(71,28,72)\"],[0.25098039215686274,\"rgb(97,30,82)\"],[0.3137254901960784,\"rgb(123,30,89)\"],[0.3764705882352941,\"rgb(150,27,91)\"],[0.4392156862745098,\"rgb(177,22,88)\"],[0.5019607843137255,\"rgb(203,26,79)\"],[0.5647058823529412,\"rgb(223,47,67)\"],[0.6274509803921569,\"rgb(236,76,61)\"],[0.6901960784313725,\"rgb(242,107,73)\"],[0.7529411764705882,\"rgb(244,135,95)\"],[0.8156862745098039,\"rgb(245,162,122)\"],[0.8784313725490196,\"rgb(246,188,153)\"],[0.9411764705882353,\"rgb(247,212,187)\"],[1.0,\"rgb(250,234,220)\"]],\"sequentialminus\":[[0.0,\"rgb(2,4,25)\"],[0.06274509803921569,\"rgb(24,15,41)\"],[0.12549019607843137,\"rgb(47,23,57)\"],[0.18823529411764706,\"rgb(71,28,72)\"],[0.25098039215686274,\"rgb(97,30,82)\"],[0.3137254901960784,\"rgb(123,30,89)\"],[0.3764705882352941,\"rgb(150,27,91)\"],[0.4392156862745098,\"rgb(177,22,88)\"],[0.5019607843137255,\"rgb(203,26,79)\"],[0.5647058823529412,\"rgb(223,47,67)\"],[0.6274509803921569,\"rgb(236,76,61)\"],[0.6901960784313725,\"rgb(242,107,73)\"],[0.7529411764705882,\"rgb(244,135,95)\"],[0.8156862745098039,\"rgb(245,162,122)\"],[0.8784313725490196,\"rgb(246,188,153)\"],[0.9411764705882353,\"rgb(247,212,187)\"],[1.0,\"rgb(250,234,220)\"]]},\"xaxis\":{\"gridcolor\":\"white\",\"linecolor\":\"white\",\"showgrid\":true,\"ticks\":\"\",\"title\":{\"standoff\":15},\"zerolinecolor\":\"white\",\"automargin\":true},\"yaxis\":{\"gridcolor\":\"white\",\"linecolor\":\"white\",\"showgrid\":true,\"ticks\":\"\",\"title\":{\"standoff\":15},\"zerolinecolor\":\"white\",\"automargin\":true},\"scene\":{\"xaxis\":{\"backgroundcolor\":\"rgb(234,234,242)\",\"gridcolor\":\"white\",\"linecolor\":\"white\",\"showbackground\":true,\"showgrid\":true,\"ticks\":\"\",\"zerolinecolor\":\"white\",\"gridwidth\":2},\"yaxis\":{\"backgroundcolor\":\"rgb(234,234,242)\",\"gridcolor\":\"white\",\"linecolor\":\"white\",\"showbackground\":true,\"showgrid\":true,\"ticks\":\"\",\"zerolinecolor\":\"white\",\"gridwidth\":2},\"zaxis\":{\"backgroundcolor\":\"rgb(234,234,242)\",\"gridcolor\":\"white\",\"linecolor\":\"white\",\"showbackground\":true,\"showgrid\":true,\"ticks\":\"\",\"zerolinecolor\":\"white\",\"gridwidth\":2}},\"shapedefaults\":{\"fillcolor\":\"rgb(67,103,167)\",\"line\":{\"width\":0},\"opacity\":0.5},\"annotationdefaults\":{\"arrowcolor\":\"rgb(67,103,167)\"},\"geo\":{\"bgcolor\":\"white\",\"landcolor\":\"rgb(234,234,242)\",\"subunitcolor\":\"white\",\"showland\":true,\"showlakes\":true,\"lakecolor\":\"white\"}}},\"legend\":{\"tracegroupgap\":0},\"title\":{\"text\":\"Dollar Sales by Region for Gardein\"}},                        {\"responsive\": true}                    ).then(function(){\n",
              "                            \n",
              "var gd = document.getElementById('8fd566a1-b83e-4f87-a52c-cb39b85e5b6a');\n",
              "var x = new MutationObserver(function (mutations, observer) {{\n",
              "        var display = window.getComputedStyle(gd).display;\n",
              "        if (!display || display === 'none') {{\n",
              "            console.log([gd, 'removed!']);\n",
              "            Plotly.purge(gd);\n",
              "            observer.disconnect();\n",
              "        }}\n",
              "}});\n",
              "\n",
              "// Listen for the removal of the full notebook cells\n",
              "var notebookContainer = gd.closest('#notebook-container');\n",
              "if (notebookContainer) {{\n",
              "    x.observe(notebookContainer, {childList: true});\n",
              "}}\n",
              "\n",
              "// Listen for the clearing of the current output cell\n",
              "var outputEl = gd.closest('.output');\n",
              "if (outputEl) {{\n",
              "    x.observe(outputEl, {childList: true});\n",
              "}}\n",
              "\n",
              "                        })                };                            </script>        </div>\n",
              "</body>\n",
              "</html>"
            ]
          },
          "metadata": {}
        }
      ]
    },
    {
      "cell_type": "code",
      "source": [
        "#top selling forms from GARDEIN\n",
        "form_df = data[data['Brand Name'] == 'GARDEIN'].groupby('Form')[['Unit Sales', 'Volume Sales', 'Dollar Sales']].sum().reset_index()\n",
        "form_df = form_df.sort_values(by=\"Dollar Sales\", ascending=False).head(10)"
      ],
      "metadata": {
        "id": "4WmF7g_sudRj"
      },
      "execution_count": null,
      "outputs": []
    },
    {
      "cell_type": "code",
      "source": [
        "pio.templates.default = \"seaborn\"\n",
        "fig = px.bar(\n",
        "    form_df,\n",
        "    x='Form',\n",
        "    y='Dollar Sales',\n",
        "    title='Dollar Sales by Product Form',\n",
        "    labels={'Dollar Sales': 'Dollar Sales ($)', 'Form': 'Product Form'},\n",
        "    text='Dollar Sales'\n",
        ")\n",
        "\n",
        "# Update layout for better visuals\n",
        "fig.update_traces(texttemplate='%{text:.2s}', textposition='outside')\n",
        "fig.update_layout(xaxis_tickangle=-45, showlegend=False)\n",
        "fig.show()"
      ],
      "metadata": {
        "colab": {
          "base_uri": "https://localhost:8080/",
          "height": 542
        },
        "id": "HTcsQB6Du0Zy",
        "outputId": "2ed9686a-e6a9-40bf-d4e4-e3df483b992f"
      },
      "execution_count": null,
      "outputs": [
        {
          "output_type": "display_data",
          "data": {
            "text/html": [
              "<html>\n",
              "<head><meta charset=\"utf-8\" /></head>\n",
              "<body>\n",
              "    <div>            <script src=\"https://cdnjs.cloudflare.com/ajax/libs/mathjax/2.7.5/MathJax.js?config=TeX-AMS-MML_SVG\"></script><script type=\"text/javascript\">if (window.MathJax && window.MathJax.Hub && window.MathJax.Hub.Config) {window.MathJax.Hub.Config({SVG: {font: \"STIX-Web\"}});}</script>                <script type=\"text/javascript\">window.PlotlyConfig = {MathJaxConfig: 'local'};</script>\n",
              "        <script charset=\"utf-8\" src=\"https://cdn.plot.ly/plotly-2.35.2.min.js\"></script>                <div id=\"d8944147-9b49-46b5-a736-d7655199473f\" class=\"plotly-graph-div\" style=\"height:525px; width:100%;\"></div>            <script type=\"text/javascript\">                                    window.PLOTLYENV=window.PLOTLYENV || {};                                    if (document.getElementById(\"d8944147-9b49-46b5-a736-d7655199473f\")) {                    Plotly.newPlot(                        \"d8944147-9b49-46b5-a736-d7655199473f\",                        [{\"alignmentgroup\":\"True\",\"hovertemplate\":\"Product Form=%{x}\\u003cbr\\u003eDollar Sales ($)=%{text}\\u003cextra\\u003e\\u003c\\u002fextra\\u003e\",\"legendgroup\":\"\",\"marker\":{\"color\":\"rgb(76,114,176)\",\"pattern\":{\"shape\":\"\"}},\"name\":\"\",\"offsetgroup\":\"\",\"orientation\":\"v\",\"showlegend\":false,\"text\":[127875733.68763013,76070614.4409967,61386111.56091115,51955086.17253007,49337449.7887787,45395963.87920476,14079051.554228306,12972025.461954191,12536418.366489422,7962393.965602499],\"textposition\":\"outside\",\"x\":[\"TENDER\",\"GROUND\",\"MEATBALL\",\"BURGER\",\"STEAK\",\"SLICED\",\"CUTLET\",\"WING\",\"BREAKFAST SAUSAGE\",\"BITE\"],\"xaxis\":\"x\",\"y\":[127875733.68763013,76070614.4409967,61386111.56091115,51955086.17253007,49337449.7887787,45395963.87920476,14079051.554228306,12972025.461954191,12536418.366489422,7962393.965602499],\"yaxis\":\"y\",\"type\":\"bar\",\"texttemplate\":\"%{text:.2s}\"}],                        {\"template\":{\"data\":{\"histogram2dcontour\":[{\"type\":\"histogram2dcontour\",\"colorbar\":{\"outlinewidth\":0,\"tickcolor\":\"rgb(36,36,36)\",\"ticklen\":8,\"ticks\":\"outside\",\"tickwidth\":2},\"colorscale\":[[0.0,\"rgb(2,4,25)\"],[0.06274509803921569,\"rgb(24,15,41)\"],[0.12549019607843137,\"rgb(47,23,57)\"],[0.18823529411764706,\"rgb(71,28,72)\"],[0.25098039215686274,\"rgb(97,30,82)\"],[0.3137254901960784,\"rgb(123,30,89)\"],[0.3764705882352941,\"rgb(150,27,91)\"],[0.4392156862745098,\"rgb(177,22,88)\"],[0.5019607843137255,\"rgb(203,26,79)\"],[0.5647058823529412,\"rgb(223,47,67)\"],[0.6274509803921569,\"rgb(236,76,61)\"],[0.6901960784313725,\"rgb(242,107,73)\"],[0.7529411764705882,\"rgb(244,135,95)\"],[0.8156862745098039,\"rgb(245,162,122)\"],[0.8784313725490196,\"rgb(246,188,153)\"],[0.9411764705882353,\"rgb(247,212,187)\"],[1.0,\"rgb(250,234,220)\"]]}],\"choropleth\":[{\"type\":\"choropleth\",\"colorbar\":{\"outlinewidth\":0,\"tickcolor\":\"rgb(36,36,36)\",\"ticklen\":8,\"ticks\":\"outside\",\"tickwidth\":2}}],\"histogram2d\":[{\"type\":\"histogram2d\",\"colorbar\":{\"outlinewidth\":0,\"tickcolor\":\"rgb(36,36,36)\",\"ticklen\":8,\"ticks\":\"outside\",\"tickwidth\":2},\"colorscale\":[[0.0,\"rgb(2,4,25)\"],[0.06274509803921569,\"rgb(24,15,41)\"],[0.12549019607843137,\"rgb(47,23,57)\"],[0.18823529411764706,\"rgb(71,28,72)\"],[0.25098039215686274,\"rgb(97,30,82)\"],[0.3137254901960784,\"rgb(123,30,89)\"],[0.3764705882352941,\"rgb(150,27,91)\"],[0.4392156862745098,\"rgb(177,22,88)\"],[0.5019607843137255,\"rgb(203,26,79)\"],[0.5647058823529412,\"rgb(223,47,67)\"],[0.6274509803921569,\"rgb(236,76,61)\"],[0.6901960784313725,\"rgb(242,107,73)\"],[0.7529411764705882,\"rgb(244,135,95)\"],[0.8156862745098039,\"rgb(245,162,122)\"],[0.8784313725490196,\"rgb(246,188,153)\"],[0.9411764705882353,\"rgb(247,212,187)\"],[1.0,\"rgb(250,234,220)\"]]}],\"heatmap\":[{\"type\":\"heatmap\",\"colorbar\":{\"outlinewidth\":0,\"tickcolor\":\"rgb(36,36,36)\",\"ticklen\":8,\"ticks\":\"outside\",\"tickwidth\":2},\"colorscale\":[[0.0,\"rgb(2,4,25)\"],[0.06274509803921569,\"rgb(24,15,41)\"],[0.12549019607843137,\"rgb(47,23,57)\"],[0.18823529411764706,\"rgb(71,28,72)\"],[0.25098039215686274,\"rgb(97,30,82)\"],[0.3137254901960784,\"rgb(123,30,89)\"],[0.3764705882352941,\"rgb(150,27,91)\"],[0.4392156862745098,\"rgb(177,22,88)\"],[0.5019607843137255,\"rgb(203,26,79)\"],[0.5647058823529412,\"rgb(223,47,67)\"],[0.6274509803921569,\"rgb(236,76,61)\"],[0.6901960784313725,\"rgb(242,107,73)\"],[0.7529411764705882,\"rgb(244,135,95)\"],[0.8156862745098039,\"rgb(245,162,122)\"],[0.8784313725490196,\"rgb(246,188,153)\"],[0.9411764705882353,\"rgb(247,212,187)\"],[1.0,\"rgb(250,234,220)\"]]}],\"heatmapgl\":[{\"type\":\"heatmapgl\",\"colorbar\":{\"outlinewidth\":0,\"tickcolor\":\"rgb(36,36,36)\",\"ticklen\":8,\"ticks\":\"outside\",\"tickwidth\":2},\"colorscale\":[[0.0,\"rgb(2,4,25)\"],[0.06274509803921569,\"rgb(24,15,41)\"],[0.12549019607843137,\"rgb(47,23,57)\"],[0.18823529411764706,\"rgb(71,28,72)\"],[0.25098039215686274,\"rgb(97,30,82)\"],[0.3137254901960784,\"rgb(123,30,89)\"],[0.3764705882352941,\"rgb(150,27,91)\"],[0.4392156862745098,\"rgb(177,22,88)\"],[0.5019607843137255,\"rgb(203,26,79)\"],[0.5647058823529412,\"rgb(223,47,67)\"],[0.6274509803921569,\"rgb(236,76,61)\"],[0.6901960784313725,\"rgb(242,107,73)\"],[0.7529411764705882,\"rgb(244,135,95)\"],[0.8156862745098039,\"rgb(245,162,122)\"],[0.8784313725490196,\"rgb(246,188,153)\"],[0.9411764705882353,\"rgb(247,212,187)\"],[1.0,\"rgb(250,234,220)\"]]}],\"contourcarpet\":[{\"type\":\"contourcarpet\",\"colorbar\":{\"outlinewidth\":0,\"tickcolor\":\"rgb(36,36,36)\",\"ticklen\":8,\"ticks\":\"outside\",\"tickwidth\":2}}],\"contour\":[{\"type\":\"contour\",\"colorbar\":{\"outlinewidth\":0,\"tickcolor\":\"rgb(36,36,36)\",\"ticklen\":8,\"ticks\":\"outside\",\"tickwidth\":2},\"colorscale\":[[0.0,\"rgb(2,4,25)\"],[0.06274509803921569,\"rgb(24,15,41)\"],[0.12549019607843137,\"rgb(47,23,57)\"],[0.18823529411764706,\"rgb(71,28,72)\"],[0.25098039215686274,\"rgb(97,30,82)\"],[0.3137254901960784,\"rgb(123,30,89)\"],[0.3764705882352941,\"rgb(150,27,91)\"],[0.4392156862745098,\"rgb(177,22,88)\"],[0.5019607843137255,\"rgb(203,26,79)\"],[0.5647058823529412,\"rgb(223,47,67)\"],[0.6274509803921569,\"rgb(236,76,61)\"],[0.6901960784313725,\"rgb(242,107,73)\"],[0.7529411764705882,\"rgb(244,135,95)\"],[0.8156862745098039,\"rgb(245,162,122)\"],[0.8784313725490196,\"rgb(246,188,153)\"],[0.9411764705882353,\"rgb(247,212,187)\"],[1.0,\"rgb(250,234,220)\"]]}],\"surface\":[{\"type\":\"surface\",\"colorbar\":{\"outlinewidth\":0,\"tickcolor\":\"rgb(36,36,36)\",\"ticklen\":8,\"ticks\":\"outside\",\"tickwidth\":2},\"colorscale\":[[0.0,\"rgb(2,4,25)\"],[0.06274509803921569,\"rgb(24,15,41)\"],[0.12549019607843137,\"rgb(47,23,57)\"],[0.18823529411764706,\"rgb(71,28,72)\"],[0.25098039215686274,\"rgb(97,30,82)\"],[0.3137254901960784,\"rgb(123,30,89)\"],[0.3764705882352941,\"rgb(150,27,91)\"],[0.4392156862745098,\"rgb(177,22,88)\"],[0.5019607843137255,\"rgb(203,26,79)\"],[0.5647058823529412,\"rgb(223,47,67)\"],[0.6274509803921569,\"rgb(236,76,61)\"],[0.6901960784313725,\"rgb(242,107,73)\"],[0.7529411764705882,\"rgb(244,135,95)\"],[0.8156862745098039,\"rgb(245,162,122)\"],[0.8784313725490196,\"rgb(246,188,153)\"],[0.9411764705882353,\"rgb(247,212,187)\"],[1.0,\"rgb(250,234,220)\"]]}],\"mesh3d\":[{\"type\":\"mesh3d\",\"colorbar\":{\"outlinewidth\":0,\"tickcolor\":\"rgb(36,36,36)\",\"ticklen\":8,\"ticks\":\"outside\",\"tickwidth\":2}}],\"scatter\":[{\"fillpattern\":{\"fillmode\":\"overlay\",\"size\":10,\"solidity\":0.2},\"type\":\"scatter\"}],\"parcoords\":[{\"type\":\"parcoords\",\"line\":{\"colorbar\":{\"outlinewidth\":0,\"tickcolor\":\"rgb(36,36,36)\",\"ticklen\":8,\"ticks\":\"outside\",\"tickwidth\":2}}}],\"scatterpolargl\":[{\"type\":\"scatterpolargl\",\"marker\":{\"colorbar\":{\"outlinewidth\":0,\"tickcolor\":\"rgb(36,36,36)\",\"ticklen\":8,\"ticks\":\"outside\",\"tickwidth\":2}}}],\"bar\":[{\"error_x\":{\"color\":\"rgb(36,36,36)\"},\"error_y\":{\"color\":\"rgb(36,36,36)\"},\"marker\":{\"line\":{\"color\":\"rgb(234,234,242)\",\"width\":0.5},\"pattern\":{\"fillmode\":\"overlay\",\"size\":10,\"solidity\":0.2}},\"type\":\"bar\"}],\"scattergeo\":[{\"type\":\"scattergeo\",\"marker\":{\"colorbar\":{\"outlinewidth\":0,\"tickcolor\":\"rgb(36,36,36)\",\"ticklen\":8,\"ticks\":\"outside\",\"tickwidth\":2}}}],\"scatterpolar\":[{\"type\":\"scatterpolar\",\"marker\":{\"colorbar\":{\"outlinewidth\":0,\"tickcolor\":\"rgb(36,36,36)\",\"ticklen\":8,\"ticks\":\"outside\",\"tickwidth\":2}}}],\"histogram\":[{\"marker\":{\"pattern\":{\"fillmode\":\"overlay\",\"size\":10,\"solidity\":0.2}},\"type\":\"histogram\"}],\"scattergl\":[{\"type\":\"scattergl\",\"marker\":{\"colorbar\":{\"outlinewidth\":0,\"tickcolor\":\"rgb(36,36,36)\",\"ticklen\":8,\"ticks\":\"outside\",\"tickwidth\":2}}}],\"scatter3d\":[{\"type\":\"scatter3d\",\"line\":{\"colorbar\":{\"outlinewidth\":0,\"tickcolor\":\"rgb(36,36,36)\",\"ticklen\":8,\"ticks\":\"outside\",\"tickwidth\":2}},\"marker\":{\"colorbar\":{\"outlinewidth\":0,\"tickcolor\":\"rgb(36,36,36)\",\"ticklen\":8,\"ticks\":\"outside\",\"tickwidth\":2}}}],\"scattermapbox\":[{\"type\":\"scattermapbox\",\"marker\":{\"colorbar\":{\"outlinewidth\":0,\"tickcolor\":\"rgb(36,36,36)\",\"ticklen\":8,\"ticks\":\"outside\",\"tickwidth\":2}}}],\"scatterternary\":[{\"type\":\"scatterternary\",\"marker\":{\"colorbar\":{\"outlinewidth\":0,\"tickcolor\":\"rgb(36,36,36)\",\"ticklen\":8,\"ticks\":\"outside\",\"tickwidth\":2}}}],\"scattercarpet\":[{\"type\":\"scattercarpet\",\"marker\":{\"colorbar\":{\"outlinewidth\":0,\"tickcolor\":\"rgb(36,36,36)\",\"ticklen\":8,\"ticks\":\"outside\",\"tickwidth\":2}}}],\"carpet\":[{\"aaxis\":{\"endlinecolor\":\"rgb(36,36,36)\",\"gridcolor\":\"white\",\"linecolor\":\"white\",\"minorgridcolor\":\"white\",\"startlinecolor\":\"rgb(36,36,36)\"},\"baxis\":{\"endlinecolor\":\"rgb(36,36,36)\",\"gridcolor\":\"white\",\"linecolor\":\"white\",\"minorgridcolor\":\"white\",\"startlinecolor\":\"rgb(36,36,36)\"},\"type\":\"carpet\"}],\"table\":[{\"cells\":{\"fill\":{\"color\":\"rgb(231,231,240)\"},\"line\":{\"color\":\"white\"}},\"header\":{\"fill\":{\"color\":\"rgb(183,183,191)\"},\"line\":{\"color\":\"white\"}},\"type\":\"table\"}],\"barpolar\":[{\"marker\":{\"line\":{\"color\":\"rgb(234,234,242)\",\"width\":0.5},\"pattern\":{\"fillmode\":\"overlay\",\"size\":10,\"solidity\":0.2}},\"type\":\"barpolar\"}],\"pie\":[{\"automargin\":true,\"type\":\"pie\"}]},\"layout\":{\"autotypenumbers\":\"strict\",\"colorway\":[\"rgb(76,114,176)\",\"rgb(221,132,82)\",\"rgb(85,168,104)\",\"rgb(196,78,82)\",\"rgb(129,114,179)\",\"rgb(147,120,96)\",\"rgb(218,139,195)\",\"rgb(140,140,140)\",\"rgb(204,185,116)\",\"rgb(100,181,205)\"],\"font\":{\"color\":\"rgb(36,36,36)\"},\"hovermode\":\"closest\",\"hoverlabel\":{\"align\":\"left\"},\"paper_bgcolor\":\"white\",\"plot_bgcolor\":\"rgb(234,234,242)\",\"polar\":{\"bgcolor\":\"rgb(234,234,242)\",\"angularaxis\":{\"gridcolor\":\"white\",\"linecolor\":\"white\",\"showgrid\":true,\"ticks\":\"\"},\"radialaxis\":{\"gridcolor\":\"white\",\"linecolor\":\"white\",\"showgrid\":true,\"ticks\":\"\"}},\"ternary\":{\"bgcolor\":\"rgb(234,234,242)\",\"aaxis\":{\"gridcolor\":\"white\",\"linecolor\":\"white\",\"showgrid\":true,\"ticks\":\"\"},\"baxis\":{\"gridcolor\":\"white\",\"linecolor\":\"white\",\"showgrid\":true,\"ticks\":\"\"},\"caxis\":{\"gridcolor\":\"white\",\"linecolor\":\"white\",\"showgrid\":true,\"ticks\":\"\"}},\"coloraxis\":{\"colorbar\":{\"outlinewidth\":0,\"tickcolor\":\"rgb(36,36,36)\",\"ticklen\":8,\"ticks\":\"outside\",\"tickwidth\":2}},\"colorscale\":{\"sequential\":[[0.0,\"rgb(2,4,25)\"],[0.06274509803921569,\"rgb(24,15,41)\"],[0.12549019607843137,\"rgb(47,23,57)\"],[0.18823529411764706,\"rgb(71,28,72)\"],[0.25098039215686274,\"rgb(97,30,82)\"],[0.3137254901960784,\"rgb(123,30,89)\"],[0.3764705882352941,\"rgb(150,27,91)\"],[0.4392156862745098,\"rgb(177,22,88)\"],[0.5019607843137255,\"rgb(203,26,79)\"],[0.5647058823529412,\"rgb(223,47,67)\"],[0.6274509803921569,\"rgb(236,76,61)\"],[0.6901960784313725,\"rgb(242,107,73)\"],[0.7529411764705882,\"rgb(244,135,95)\"],[0.8156862745098039,\"rgb(245,162,122)\"],[0.8784313725490196,\"rgb(246,188,153)\"],[0.9411764705882353,\"rgb(247,212,187)\"],[1.0,\"rgb(250,234,220)\"]],\"sequentialminus\":[[0.0,\"rgb(2,4,25)\"],[0.06274509803921569,\"rgb(24,15,41)\"],[0.12549019607843137,\"rgb(47,23,57)\"],[0.18823529411764706,\"rgb(71,28,72)\"],[0.25098039215686274,\"rgb(97,30,82)\"],[0.3137254901960784,\"rgb(123,30,89)\"],[0.3764705882352941,\"rgb(150,27,91)\"],[0.4392156862745098,\"rgb(177,22,88)\"],[0.5019607843137255,\"rgb(203,26,79)\"],[0.5647058823529412,\"rgb(223,47,67)\"],[0.6274509803921569,\"rgb(236,76,61)\"],[0.6901960784313725,\"rgb(242,107,73)\"],[0.7529411764705882,\"rgb(244,135,95)\"],[0.8156862745098039,\"rgb(245,162,122)\"],[0.8784313725490196,\"rgb(246,188,153)\"],[0.9411764705882353,\"rgb(247,212,187)\"],[1.0,\"rgb(250,234,220)\"]]},\"xaxis\":{\"gridcolor\":\"white\",\"linecolor\":\"white\",\"showgrid\":true,\"ticks\":\"\",\"title\":{\"standoff\":15},\"zerolinecolor\":\"white\",\"automargin\":true},\"yaxis\":{\"gridcolor\":\"white\",\"linecolor\":\"white\",\"showgrid\":true,\"ticks\":\"\",\"title\":{\"standoff\":15},\"zerolinecolor\":\"white\",\"automargin\":true},\"scene\":{\"xaxis\":{\"backgroundcolor\":\"rgb(234,234,242)\",\"gridcolor\":\"white\",\"linecolor\":\"white\",\"showbackground\":true,\"showgrid\":true,\"ticks\":\"\",\"zerolinecolor\":\"white\",\"gridwidth\":2},\"yaxis\":{\"backgroundcolor\":\"rgb(234,234,242)\",\"gridcolor\":\"white\",\"linecolor\":\"white\",\"showbackground\":true,\"showgrid\":true,\"ticks\":\"\",\"zerolinecolor\":\"white\",\"gridwidth\":2},\"zaxis\":{\"backgroundcolor\":\"rgb(234,234,242)\",\"gridcolor\":\"white\",\"linecolor\":\"white\",\"showbackground\":true,\"showgrid\":true,\"ticks\":\"\",\"zerolinecolor\":\"white\",\"gridwidth\":2}},\"shapedefaults\":{\"fillcolor\":\"rgb(67,103,167)\",\"line\":{\"width\":0},\"opacity\":0.5},\"annotationdefaults\":{\"arrowcolor\":\"rgb(67,103,167)\"},\"geo\":{\"bgcolor\":\"white\",\"landcolor\":\"rgb(234,234,242)\",\"subunitcolor\":\"white\",\"showland\":true,\"showlakes\":true,\"lakecolor\":\"white\"}}},\"xaxis\":{\"anchor\":\"y\",\"domain\":[0.0,1.0],\"title\":{\"text\":\"Product Form\"},\"tickangle\":-45},\"yaxis\":{\"anchor\":\"x\",\"domain\":[0.0,1.0],\"title\":{\"text\":\"Dollar Sales ($)\"}},\"legend\":{\"tracegroupgap\":0},\"title\":{\"text\":\"Dollar Sales by Product Form\"},\"barmode\":\"relative\",\"showlegend\":false},                        {\"responsive\": true}                    ).then(function(){\n",
              "                            \n",
              "var gd = document.getElementById('d8944147-9b49-46b5-a736-d7655199473f');\n",
              "var x = new MutationObserver(function (mutations, observer) {{\n",
              "        var display = window.getComputedStyle(gd).display;\n",
              "        if (!display || display === 'none') {{\n",
              "            console.log([gd, 'removed!']);\n",
              "            Plotly.purge(gd);\n",
              "            observer.disconnect();\n",
              "        }}\n",
              "}});\n",
              "\n",
              "// Listen for the removal of the full notebook cells\n",
              "var notebookContainer = gd.closest('#notebook-container');\n",
              "if (notebookContainer) {{\n",
              "    x.observe(notebookContainer, {childList: true});\n",
              "}}\n",
              "\n",
              "// Listen for the clearing of the current output cell\n",
              "var outputEl = gd.closest('.output');\n",
              "if (outputEl) {{\n",
              "    x.observe(outputEl, {childList: true});\n",
              "}}\n",
              "\n",
              "                        })                };                            </script>        </div>\n",
              "</body>\n",
              "</html>"
            ]
          },
          "metadata": {}
        }
      ]
    },
    {
      "cell_type": "code",
      "source": [
        "#Group data by date\n",
        "date_df = data.groupby('Date')[['Unit Sales', 'Volume Sales', 'Dollar Sales']].sum().reset_index()\n",
        "date_df['Date'] = pd.to_datetime(date_df['Date'])"
      ],
      "metadata": {
        "id": "g4LESH8rvp_f"
      },
      "execution_count": null,
      "outputs": []
    },
    {
      "cell_type": "code",
      "source": [
        "import plotly.io as pio\n",
        "\n",
        "# Set a built-in Plotly theme (e.g., \"plotly_dark\", \"ggplot2\", \"simple_white\", \"seaborn\")\n",
        "pio.templates.default = \"seaborn\"\n",
        "\n",
        "# Create a time series line chart for Dollar Sales\n",
        "fig = px.line(\n",
        "    date_df,\n",
        "    x='Date',\n",
        "    y='Dollar Sales',\n",
        "    title='Dollar Sales over Years',\n",
        "    labels={'Dollar Sales': 'Dollar Sales ($)', 'Date': 'Date'},\n",
        "    markers=True\n",
        ")\n",
        "\n",
        "# Update layout for better visuals\n",
        "fig.update_layout(\n",
        "    xaxis_title='Date',\n",
        "    yaxis_title='Sales Metrics',\n",
        "    legend_title='Metrics',\n",
        "    title_font=dict(size=20, family='Arial'),\n",
        "    font=dict(size=14, family='Arial')\n",
        ")\n",
        "fig.show()"
      ],
      "metadata": {
        "colab": {
          "base_uri": "https://localhost:8080/",
          "height": 542
        },
        "id": "lmJFK-mU0hMd",
        "outputId": "d584d1ef-4a89-4f04-f782-b04bf1323ae2"
      },
      "execution_count": null,
      "outputs": [
        {
          "output_type": "display_data",
          "data": {
            "text/html": [
              "<html>\n",
              "<head><meta charset=\"utf-8\" /></head>\n",
              "<body>\n",
              "    <div>            <script src=\"https://cdnjs.cloudflare.com/ajax/libs/mathjax/2.7.5/MathJax.js?config=TeX-AMS-MML_SVG\"></script><script type=\"text/javascript\">if (window.MathJax && window.MathJax.Hub && window.MathJax.Hub.Config) {window.MathJax.Hub.Config({SVG: {font: \"STIX-Web\"}});}</script>                <script type=\"text/javascript\">window.PlotlyConfig = {MathJaxConfig: 'local'};</script>\n",
              "        <script charset=\"utf-8\" src=\"https://cdn.plot.ly/plotly-2.35.2.min.js\"></script>                <div id=\"9f659ce2-16bd-44be-82cd-a4eafdff7450\" class=\"plotly-graph-div\" style=\"height:525px; width:100%;\"></div>            <script type=\"text/javascript\">                                    window.PLOTLYENV=window.PLOTLYENV || {};                                    if (document.getElementById(\"9f659ce2-16bd-44be-82cd-a4eafdff7450\")) {                    Plotly.newPlot(                        \"9f659ce2-16bd-44be-82cd-a4eafdff7450\",                        [{\"hovertemplate\":\"Date=%{x}\\u003cbr\\u003eDollar Sales ($)=%{y}\\u003cextra\\u003e\\u003c\\u002fextra\\u003e\",\"legendgroup\":\"\",\"line\":{\"color\":\"rgb(76,114,176)\",\"dash\":\"solid\"},\"marker\":{\"symbol\":\"circle\"},\"mode\":\"lines+markers\",\"name\":\"\",\"orientation\":\"v\",\"showlegend\":false,\"x\":[\"2020-01-12T00:00:00\",\"2020-01-19T00:00:00\",\"2020-01-26T00:00:00\",\"2020-02-02T00:00:00\",\"2020-02-09T00:00:00\",\"2020-02-16T00:00:00\",\"2020-02-23T00:00:00\",\"2020-03-01T00:00:00\",\"2020-03-08T00:00:00\",\"2020-03-15T00:00:00\",\"2020-03-22T00:00:00\",\"2020-03-29T00:00:00\",\"2020-04-05T00:00:00\",\"2020-04-12T00:00:00\",\"2020-04-19T00:00:00\",\"2020-04-26T00:00:00\",\"2020-05-03T00:00:00\",\"2020-05-10T00:00:00\",\"2020-05-17T00:00:00\",\"2020-05-24T00:00:00\",\"2020-05-31T00:00:00\",\"2020-06-07T00:00:00\",\"2020-06-14T00:00:00\",\"2020-06-21T00:00:00\",\"2020-06-28T00:00:00\",\"2020-07-05T00:00:00\",\"2020-07-12T00:00:00\",\"2020-07-19T00:00:00\",\"2020-07-26T00:00:00\",\"2020-08-02T00:00:00\",\"2020-08-09T00:00:00\",\"2020-08-16T00:00:00\",\"2020-08-23T00:00:00\",\"2020-08-30T00:00:00\",\"2020-09-06T00:00:00\",\"2020-09-13T00:00:00\",\"2020-09-20T00:00:00\",\"2020-09-27T00:00:00\",\"2020-10-04T00:00:00\",\"2020-10-11T00:00:00\",\"2020-10-18T00:00:00\",\"2020-10-25T00:00:00\",\"2020-11-01T00:00:00\",\"2020-11-08T00:00:00\",\"2020-11-15T00:00:00\",\"2020-11-22T00:00:00\",\"2020-11-29T00:00:00\",\"2020-12-06T00:00:00\",\"2020-12-13T00:00:00\",\"2020-12-20T00:00:00\",\"2020-12-27T00:00:00\",\"2021-01-03T00:00:00\",\"2021-01-10T00:00:00\",\"2021-01-17T00:00:00\",\"2021-01-24T00:00:00\",\"2021-01-31T00:00:00\",\"2021-02-07T00:00:00\",\"2021-02-14T00:00:00\",\"2021-02-21T00:00:00\",\"2021-02-28T00:00:00\",\"2021-03-07T00:00:00\",\"2021-03-14T00:00:00\",\"2021-03-21T00:00:00\",\"2021-03-28T00:00:00\",\"2021-04-04T00:00:00\",\"2021-04-11T00:00:00\",\"2021-04-18T00:00:00\",\"2021-04-25T00:00:00\",\"2021-05-02T00:00:00\",\"2021-05-09T00:00:00\",\"2021-05-16T00:00:00\",\"2021-05-23T00:00:00\",\"2021-05-30T00:00:00\",\"2021-06-06T00:00:00\",\"2021-06-13T00:00:00\",\"2021-06-20T00:00:00\",\"2021-06-27T00:00:00\",\"2021-07-04T00:00:00\",\"2021-07-11T00:00:00\",\"2021-07-18T00:00:00\",\"2021-07-25T00:00:00\",\"2021-08-01T00:00:00\",\"2021-08-08T00:00:00\",\"2021-08-15T00:00:00\",\"2021-08-22T00:00:00\",\"2021-08-29T00:00:00\",\"2021-09-05T00:00:00\",\"2021-09-12T00:00:00\",\"2021-09-19T00:00:00\",\"2021-09-26T00:00:00\",\"2021-10-03T00:00:00\",\"2021-10-10T00:00:00\",\"2021-10-17T00:00:00\",\"2021-10-24T00:00:00\",\"2021-10-31T00:00:00\",\"2021-11-07T00:00:00\",\"2021-11-14T00:00:00\",\"2021-11-21T00:00:00\",\"2021-11-28T00:00:00\",\"2021-12-05T00:00:00\",\"2021-12-12T00:00:00\",\"2021-12-19T00:00:00\",\"2021-12-26T00:00:00\",\"2022-01-02T00:00:00\",\"2022-01-09T00:00:00\",\"2022-01-16T00:00:00\",\"2022-01-23T00:00:00\",\"2022-01-30T00:00:00\",\"2022-02-06T00:00:00\",\"2022-02-13T00:00:00\",\"2022-02-20T00:00:00\",\"2022-02-27T00:00:00\",\"2022-03-06T00:00:00\",\"2022-03-13T00:00:00\",\"2022-03-20T00:00:00\",\"2022-03-27T00:00:00\",\"2022-04-03T00:00:00\",\"2022-04-10T00:00:00\",\"2022-04-17T00:00:00\",\"2022-04-24T00:00:00\",\"2022-05-01T00:00:00\",\"2022-05-08T00:00:00\",\"2022-05-15T00:00:00\",\"2022-05-22T00:00:00\",\"2022-05-29T00:00:00\",\"2022-06-05T00:00:00\",\"2022-06-12T00:00:00\",\"2022-06-19T00:00:00\",\"2022-06-26T00:00:00\",\"2022-07-03T00:00:00\",\"2022-07-10T00:00:00\",\"2022-07-17T00:00:00\",\"2022-07-24T00:00:00\",\"2022-07-31T00:00:00\",\"2022-08-07T00:00:00\",\"2022-08-14T00:00:00\",\"2022-08-21T00:00:00\",\"2022-08-28T00:00:00\",\"2022-09-04T00:00:00\",\"2022-09-11T00:00:00\",\"2022-09-18T00:00:00\",\"2022-09-25T00:00:00\",\"2022-10-02T00:00:00\",\"2022-10-09T00:00:00\",\"2022-10-16T00:00:00\",\"2022-10-23T00:00:00\",\"2022-10-30T00:00:00\",\"2022-11-06T00:00:00\",\"2022-11-13T00:00:00\",\"2022-11-20T00:00:00\",\"2022-11-27T00:00:00\",\"2022-12-04T00:00:00\",\"2022-12-11T00:00:00\",\"2022-12-18T00:00:00\",\"2022-12-25T00:00:00\",\"2023-01-01T00:00:00\",\"2023-01-08T00:00:00\",\"2023-01-15T00:00:00\",\"2023-01-22T00:00:00\",\"2023-01-29T00:00:00\",\"2023-02-05T00:00:00\",\"2023-02-12T00:00:00\",\"2023-02-19T00:00:00\",\"2023-02-26T00:00:00\",\"2023-03-05T00:00:00\",\"2023-03-12T00:00:00\",\"2023-03-19T00:00:00\",\"2023-03-26T00:00:00\",\"2023-04-02T00:00:00\",\"2023-04-09T00:00:00\",\"2023-04-16T00:00:00\",\"2023-04-23T00:00:00\",\"2023-04-30T00:00:00\",\"2023-05-07T00:00:00\",\"2023-05-14T00:00:00\",\"2023-05-21T00:00:00\",\"2023-05-28T00:00:00\",\"2023-06-04T00:00:00\",\"2023-06-11T00:00:00\",\"2023-06-18T00:00:00\",\"2023-06-25T00:00:00\",\"2023-07-02T00:00:00\",\"2023-07-09T00:00:00\",\"2023-07-16T00:00:00\",\"2023-07-23T00:00:00\",\"2023-07-30T00:00:00\",\"2023-08-06T00:00:00\",\"2023-08-13T00:00:00\",\"2023-08-20T00:00:00\",\"2023-08-27T00:00:00\",\"2023-09-03T00:00:00\",\"2023-09-10T00:00:00\",\"2023-09-17T00:00:00\",\"2023-09-24T00:00:00\",\"2023-10-01T00:00:00\",\"2023-10-08T00:00:00\",\"2023-10-15T00:00:00\",\"2023-10-22T00:00:00\",\"2023-10-29T00:00:00\",\"2023-11-05T00:00:00\",\"2023-11-12T00:00:00\",\"2023-11-19T00:00:00\",\"2023-11-26T00:00:00\",\"2023-12-03T00:00:00\",\"2023-12-10T00:00:00\",\"2023-12-17T00:00:00\",\"2023-12-24T00:00:00\",\"2023-12-31T00:00:00\",\"2024-01-07T00:00:00\",\"2024-01-14T00:00:00\",\"2024-01-21T00:00:00\"],\"xaxis\":\"x\",\"y\":[22370348.320533454,21172324.85560904,19986145.793318138,20024537.76575037,19565442.144309763,19269347.96348121,19817629.04223654,21543720.887373388,22350293.06075637,38394647.81042231,36257471.67452022,23840860.572539043,25383444.02729246,24322733.311019957,24813319.252964005,25492530.60596924,26297905.435877435,26723967.454291962,25110288.06252746,26428844.826725166,25006227.745600626,25083008.794354495,25427005.955560982,25574967.051582217,24549054.125759076,29362511.21054166,25468496.955080524,25470487.86142158,24663335.302386638,24405886.29934821,24750880.073196862,24694183.48585437,24516954.70454385,24484792.67561541,25245125.602314427,24446107.730113707,23654809.39747503,23106837.387702808,23255677.815827183,23272181.92091814,23285136.936333887,22856199.093118936,23168233.131543454,23724405.228857186,23823563.13115428,23927924.15638854,19198205.37309809,22754172.91206031,23073871.647973474,23012088.19278875,20694306.351712946,23326141.297519926,26581946.660426073,26421415.076780904,24931954.395543832,24758871.401860077,24891043.6866718,23812609.61067414,23767069.374731366,24322484.71164192,24217821.12520125,24474318.61278482,23571529.481589478,22806985.668907657,23170726.145260833,23115970.274992283,24082300.329716347,23943156.750842597,23697072.32210168,24192062.647028614,23791450.836486295,24580608.362292334,25722155.364166368,25123494.49216102,24515724.296189092,24954461.10768499,23998713.707739003,27831743.80326652,24927816.814027503,24118280.277672328,23842162.142672557,23521327.038691904,24500135.413593933,24232763.039152216,23839366.080312077,23837438.52049783,25094448.494483326,23793416.878171127,23121887.95361422,22358551.31857994,23004643.476919483,23650738.570484284,23054522.774881206,22678463.60806442,22525451.303405285,23045641.80832585,23321262.035415187,23265825.381573625,19914765.369431745,22223256.891170736,22665396.556320325,22574655.077512473,22432423.79231817,22770039.186795387,27681116.144256834,27801733.543473806,25330544.256863624,25186769.905659977,24461717.520135403,24466938.16187269,23070982.47653144,23888126.110883478,24459805.290000606,24715930.62187775,23434718.5157995,23958956.68580546,23871182.62055892,24106715.090916786,23756150.63255718,22272105.359247938,23022492.51994421,23743466.795797396,23692293.59912353,24114181.529082578,25587879.662759803,25619284.36137565,24423080.425626773,24526164.830449913,23819928.139902644,27114207.358217742,25094514.240057744,23764273.229467414,23538819.384807292,22903326.491048615,23607594.974109434,23745472.405403897,23321851.765528865,22892070.26172316,23688285.335067857,23206372.48991163,22249073.536353905,21958276.408914704,21937065.197550774,22653635.284394845,21832669.713783745,21296167.785653766,20976939.35417315,22145925.622628525,22100374.767557576,22156703.585240234,19159651.153560728,20884007.211681545,21290600.186528817,21245102.206849653,23033333.956305556,19648047.643224638,23234133.776933707,24499795.33426657,22960089.24057935,21865138.782911893,21957878.09919847,22428818.529047664,21037247.97630803,21729793.37378768,22187196.574949894,22468195.18952783,21502042.268231638,20743720.54683388,20582181.152388345,21650485.73763375,20653858.804746132,21315321.685352877,21113940.10246347,21080115.027794138,21319024.70478216,20462215.809103444,22256928.32477703,22160593.091613136,21237758.788507488,21570184.87808048,20929532.416155048,23155904.892528027,22919134.242547125,20830224.719420355,20264499.918514017,19718529.483143024,20485265.809629064,20834346.086455014,20903898.747852936,20002715.464576636,20901134.055876315,20396590.116442632,19342148.414365202,19060114.53085772,19186304.461988855,19340141.95687429,19061214.28867165,18649905.884814117,18634928.826178852,19243800.044841606,19378498.84560629,19245622.023242068,16810824.502275728,18109665.699546237,18683506.8550789,18498489.428438984,19932246.920199875,16967633.235393587,21736572.51479964,23155234.624048356,21570707.925481554],\"yaxis\":\"y\",\"type\":\"scatter\"}],                        {\"template\":{\"data\":{\"histogram2dcontour\":[{\"type\":\"histogram2dcontour\",\"colorbar\":{\"outlinewidth\":0,\"tickcolor\":\"rgb(36,36,36)\",\"ticklen\":8,\"ticks\":\"outside\",\"tickwidth\":2},\"colorscale\":[[0.0,\"rgb(2,4,25)\"],[0.06274509803921569,\"rgb(24,15,41)\"],[0.12549019607843137,\"rgb(47,23,57)\"],[0.18823529411764706,\"rgb(71,28,72)\"],[0.25098039215686274,\"rgb(97,30,82)\"],[0.3137254901960784,\"rgb(123,30,89)\"],[0.3764705882352941,\"rgb(150,27,91)\"],[0.4392156862745098,\"rgb(177,22,88)\"],[0.5019607843137255,\"rgb(203,26,79)\"],[0.5647058823529412,\"rgb(223,47,67)\"],[0.6274509803921569,\"rgb(236,76,61)\"],[0.6901960784313725,\"rgb(242,107,73)\"],[0.7529411764705882,\"rgb(244,135,95)\"],[0.8156862745098039,\"rgb(245,162,122)\"],[0.8784313725490196,\"rgb(246,188,153)\"],[0.9411764705882353,\"rgb(247,212,187)\"],[1.0,\"rgb(250,234,220)\"]]}],\"choropleth\":[{\"type\":\"choropleth\",\"colorbar\":{\"outlinewidth\":0,\"tickcolor\":\"rgb(36,36,36)\",\"ticklen\":8,\"ticks\":\"outside\",\"tickwidth\":2}}],\"histogram2d\":[{\"type\":\"histogram2d\",\"colorbar\":{\"outlinewidth\":0,\"tickcolor\":\"rgb(36,36,36)\",\"ticklen\":8,\"ticks\":\"outside\",\"tickwidth\":2},\"colorscale\":[[0.0,\"rgb(2,4,25)\"],[0.06274509803921569,\"rgb(24,15,41)\"],[0.12549019607843137,\"rgb(47,23,57)\"],[0.18823529411764706,\"rgb(71,28,72)\"],[0.25098039215686274,\"rgb(97,30,82)\"],[0.3137254901960784,\"rgb(123,30,89)\"],[0.3764705882352941,\"rgb(150,27,91)\"],[0.4392156862745098,\"rgb(177,22,88)\"],[0.5019607843137255,\"rgb(203,26,79)\"],[0.5647058823529412,\"rgb(223,47,67)\"],[0.6274509803921569,\"rgb(236,76,61)\"],[0.6901960784313725,\"rgb(242,107,73)\"],[0.7529411764705882,\"rgb(244,135,95)\"],[0.8156862745098039,\"rgb(245,162,122)\"],[0.8784313725490196,\"rgb(246,188,153)\"],[0.9411764705882353,\"rgb(247,212,187)\"],[1.0,\"rgb(250,234,220)\"]]}],\"heatmap\":[{\"type\":\"heatmap\",\"colorbar\":{\"outlinewidth\":0,\"tickcolor\":\"rgb(36,36,36)\",\"ticklen\":8,\"ticks\":\"outside\",\"tickwidth\":2},\"colorscale\":[[0.0,\"rgb(2,4,25)\"],[0.06274509803921569,\"rgb(24,15,41)\"],[0.12549019607843137,\"rgb(47,23,57)\"],[0.18823529411764706,\"rgb(71,28,72)\"],[0.25098039215686274,\"rgb(97,30,82)\"],[0.3137254901960784,\"rgb(123,30,89)\"],[0.3764705882352941,\"rgb(150,27,91)\"],[0.4392156862745098,\"rgb(177,22,88)\"],[0.5019607843137255,\"rgb(203,26,79)\"],[0.5647058823529412,\"rgb(223,47,67)\"],[0.6274509803921569,\"rgb(236,76,61)\"],[0.6901960784313725,\"rgb(242,107,73)\"],[0.7529411764705882,\"rgb(244,135,95)\"],[0.8156862745098039,\"rgb(245,162,122)\"],[0.8784313725490196,\"rgb(246,188,153)\"],[0.9411764705882353,\"rgb(247,212,187)\"],[1.0,\"rgb(250,234,220)\"]]}],\"heatmapgl\":[{\"type\":\"heatmapgl\",\"colorbar\":{\"outlinewidth\":0,\"tickcolor\":\"rgb(36,36,36)\",\"ticklen\":8,\"ticks\":\"outside\",\"tickwidth\":2},\"colorscale\":[[0.0,\"rgb(2,4,25)\"],[0.06274509803921569,\"rgb(24,15,41)\"],[0.12549019607843137,\"rgb(47,23,57)\"],[0.18823529411764706,\"rgb(71,28,72)\"],[0.25098039215686274,\"rgb(97,30,82)\"],[0.3137254901960784,\"rgb(123,30,89)\"],[0.3764705882352941,\"rgb(150,27,91)\"],[0.4392156862745098,\"rgb(177,22,88)\"],[0.5019607843137255,\"rgb(203,26,79)\"],[0.5647058823529412,\"rgb(223,47,67)\"],[0.6274509803921569,\"rgb(236,76,61)\"],[0.6901960784313725,\"rgb(242,107,73)\"],[0.7529411764705882,\"rgb(244,135,95)\"],[0.8156862745098039,\"rgb(245,162,122)\"],[0.8784313725490196,\"rgb(246,188,153)\"],[0.9411764705882353,\"rgb(247,212,187)\"],[1.0,\"rgb(250,234,220)\"]]}],\"contourcarpet\":[{\"type\":\"contourcarpet\",\"colorbar\":{\"outlinewidth\":0,\"tickcolor\":\"rgb(36,36,36)\",\"ticklen\":8,\"ticks\":\"outside\",\"tickwidth\":2}}],\"contour\":[{\"type\":\"contour\",\"colorbar\":{\"outlinewidth\":0,\"tickcolor\":\"rgb(36,36,36)\",\"ticklen\":8,\"ticks\":\"outside\",\"tickwidth\":2},\"colorscale\":[[0.0,\"rgb(2,4,25)\"],[0.06274509803921569,\"rgb(24,15,41)\"],[0.12549019607843137,\"rgb(47,23,57)\"],[0.18823529411764706,\"rgb(71,28,72)\"],[0.25098039215686274,\"rgb(97,30,82)\"],[0.3137254901960784,\"rgb(123,30,89)\"],[0.3764705882352941,\"rgb(150,27,91)\"],[0.4392156862745098,\"rgb(177,22,88)\"],[0.5019607843137255,\"rgb(203,26,79)\"],[0.5647058823529412,\"rgb(223,47,67)\"],[0.6274509803921569,\"rgb(236,76,61)\"],[0.6901960784313725,\"rgb(242,107,73)\"],[0.7529411764705882,\"rgb(244,135,95)\"],[0.8156862745098039,\"rgb(245,162,122)\"],[0.8784313725490196,\"rgb(246,188,153)\"],[0.9411764705882353,\"rgb(247,212,187)\"],[1.0,\"rgb(250,234,220)\"]]}],\"surface\":[{\"type\":\"surface\",\"colorbar\":{\"outlinewidth\":0,\"tickcolor\":\"rgb(36,36,36)\",\"ticklen\":8,\"ticks\":\"outside\",\"tickwidth\":2},\"colorscale\":[[0.0,\"rgb(2,4,25)\"],[0.06274509803921569,\"rgb(24,15,41)\"],[0.12549019607843137,\"rgb(47,23,57)\"],[0.18823529411764706,\"rgb(71,28,72)\"],[0.25098039215686274,\"rgb(97,30,82)\"],[0.3137254901960784,\"rgb(123,30,89)\"],[0.3764705882352941,\"rgb(150,27,91)\"],[0.4392156862745098,\"rgb(177,22,88)\"],[0.5019607843137255,\"rgb(203,26,79)\"],[0.5647058823529412,\"rgb(223,47,67)\"],[0.6274509803921569,\"rgb(236,76,61)\"],[0.6901960784313725,\"rgb(242,107,73)\"],[0.7529411764705882,\"rgb(244,135,95)\"],[0.8156862745098039,\"rgb(245,162,122)\"],[0.8784313725490196,\"rgb(246,188,153)\"],[0.9411764705882353,\"rgb(247,212,187)\"],[1.0,\"rgb(250,234,220)\"]]}],\"mesh3d\":[{\"type\":\"mesh3d\",\"colorbar\":{\"outlinewidth\":0,\"tickcolor\":\"rgb(36,36,36)\",\"ticklen\":8,\"ticks\":\"outside\",\"tickwidth\":2}}],\"scatter\":[{\"fillpattern\":{\"fillmode\":\"overlay\",\"size\":10,\"solidity\":0.2},\"type\":\"scatter\"}],\"parcoords\":[{\"type\":\"parcoords\",\"line\":{\"colorbar\":{\"outlinewidth\":0,\"tickcolor\":\"rgb(36,36,36)\",\"ticklen\":8,\"ticks\":\"outside\",\"tickwidth\":2}}}],\"scatterpolargl\":[{\"type\":\"scatterpolargl\",\"marker\":{\"colorbar\":{\"outlinewidth\":0,\"tickcolor\":\"rgb(36,36,36)\",\"ticklen\":8,\"ticks\":\"outside\",\"tickwidth\":2}}}],\"bar\":[{\"error_x\":{\"color\":\"rgb(36,36,36)\"},\"error_y\":{\"color\":\"rgb(36,36,36)\"},\"marker\":{\"line\":{\"color\":\"rgb(234,234,242)\",\"width\":0.5},\"pattern\":{\"fillmode\":\"overlay\",\"size\":10,\"solidity\":0.2}},\"type\":\"bar\"}],\"scattergeo\":[{\"type\":\"scattergeo\",\"marker\":{\"colorbar\":{\"outlinewidth\":0,\"tickcolor\":\"rgb(36,36,36)\",\"ticklen\":8,\"ticks\":\"outside\",\"tickwidth\":2}}}],\"scatterpolar\":[{\"type\":\"scatterpolar\",\"marker\":{\"colorbar\":{\"outlinewidth\":0,\"tickcolor\":\"rgb(36,36,36)\",\"ticklen\":8,\"ticks\":\"outside\",\"tickwidth\":2}}}],\"histogram\":[{\"marker\":{\"pattern\":{\"fillmode\":\"overlay\",\"size\":10,\"solidity\":0.2}},\"type\":\"histogram\"}],\"scattergl\":[{\"type\":\"scattergl\",\"marker\":{\"colorbar\":{\"outlinewidth\":0,\"tickcolor\":\"rgb(36,36,36)\",\"ticklen\":8,\"ticks\":\"outside\",\"tickwidth\":2}}}],\"scatter3d\":[{\"type\":\"scatter3d\",\"line\":{\"colorbar\":{\"outlinewidth\":0,\"tickcolor\":\"rgb(36,36,36)\",\"ticklen\":8,\"ticks\":\"outside\",\"tickwidth\":2}},\"marker\":{\"colorbar\":{\"outlinewidth\":0,\"tickcolor\":\"rgb(36,36,36)\",\"ticklen\":8,\"ticks\":\"outside\",\"tickwidth\":2}}}],\"scattermapbox\":[{\"type\":\"scattermapbox\",\"marker\":{\"colorbar\":{\"outlinewidth\":0,\"tickcolor\":\"rgb(36,36,36)\",\"ticklen\":8,\"ticks\":\"outside\",\"tickwidth\":2}}}],\"scatterternary\":[{\"type\":\"scatterternary\",\"marker\":{\"colorbar\":{\"outlinewidth\":0,\"tickcolor\":\"rgb(36,36,36)\",\"ticklen\":8,\"ticks\":\"outside\",\"tickwidth\":2}}}],\"scattercarpet\":[{\"type\":\"scattercarpet\",\"marker\":{\"colorbar\":{\"outlinewidth\":0,\"tickcolor\":\"rgb(36,36,36)\",\"ticklen\":8,\"ticks\":\"outside\",\"tickwidth\":2}}}],\"carpet\":[{\"aaxis\":{\"endlinecolor\":\"rgb(36,36,36)\",\"gridcolor\":\"white\",\"linecolor\":\"white\",\"minorgridcolor\":\"white\",\"startlinecolor\":\"rgb(36,36,36)\"},\"baxis\":{\"endlinecolor\":\"rgb(36,36,36)\",\"gridcolor\":\"white\",\"linecolor\":\"white\",\"minorgridcolor\":\"white\",\"startlinecolor\":\"rgb(36,36,36)\"},\"type\":\"carpet\"}],\"table\":[{\"cells\":{\"fill\":{\"color\":\"rgb(231,231,240)\"},\"line\":{\"color\":\"white\"}},\"header\":{\"fill\":{\"color\":\"rgb(183,183,191)\"},\"line\":{\"color\":\"white\"}},\"type\":\"table\"}],\"barpolar\":[{\"marker\":{\"line\":{\"color\":\"rgb(234,234,242)\",\"width\":0.5},\"pattern\":{\"fillmode\":\"overlay\",\"size\":10,\"solidity\":0.2}},\"type\":\"barpolar\"}],\"pie\":[{\"automargin\":true,\"type\":\"pie\"}]},\"layout\":{\"autotypenumbers\":\"strict\",\"colorway\":[\"rgb(76,114,176)\",\"rgb(221,132,82)\",\"rgb(85,168,104)\",\"rgb(196,78,82)\",\"rgb(129,114,179)\",\"rgb(147,120,96)\",\"rgb(218,139,195)\",\"rgb(140,140,140)\",\"rgb(204,185,116)\",\"rgb(100,181,205)\"],\"font\":{\"color\":\"rgb(36,36,36)\"},\"hovermode\":\"closest\",\"hoverlabel\":{\"align\":\"left\"},\"paper_bgcolor\":\"white\",\"plot_bgcolor\":\"rgb(234,234,242)\",\"polar\":{\"bgcolor\":\"rgb(234,234,242)\",\"angularaxis\":{\"gridcolor\":\"white\",\"linecolor\":\"white\",\"showgrid\":true,\"ticks\":\"\"},\"radialaxis\":{\"gridcolor\":\"white\",\"linecolor\":\"white\",\"showgrid\":true,\"ticks\":\"\"}},\"ternary\":{\"bgcolor\":\"rgb(234,234,242)\",\"aaxis\":{\"gridcolor\":\"white\",\"linecolor\":\"white\",\"showgrid\":true,\"ticks\":\"\"},\"baxis\":{\"gridcolor\":\"white\",\"linecolor\":\"white\",\"showgrid\":true,\"ticks\":\"\"},\"caxis\":{\"gridcolor\":\"white\",\"linecolor\":\"white\",\"showgrid\":true,\"ticks\":\"\"}},\"coloraxis\":{\"colorbar\":{\"outlinewidth\":0,\"tickcolor\":\"rgb(36,36,36)\",\"ticklen\":8,\"ticks\":\"outside\",\"tickwidth\":2}},\"colorscale\":{\"sequential\":[[0.0,\"rgb(2,4,25)\"],[0.06274509803921569,\"rgb(24,15,41)\"],[0.12549019607843137,\"rgb(47,23,57)\"],[0.18823529411764706,\"rgb(71,28,72)\"],[0.25098039215686274,\"rgb(97,30,82)\"],[0.3137254901960784,\"rgb(123,30,89)\"],[0.3764705882352941,\"rgb(150,27,91)\"],[0.4392156862745098,\"rgb(177,22,88)\"],[0.5019607843137255,\"rgb(203,26,79)\"],[0.5647058823529412,\"rgb(223,47,67)\"],[0.6274509803921569,\"rgb(236,76,61)\"],[0.6901960784313725,\"rgb(242,107,73)\"],[0.7529411764705882,\"rgb(244,135,95)\"],[0.8156862745098039,\"rgb(245,162,122)\"],[0.8784313725490196,\"rgb(246,188,153)\"],[0.9411764705882353,\"rgb(247,212,187)\"],[1.0,\"rgb(250,234,220)\"]],\"sequentialminus\":[[0.0,\"rgb(2,4,25)\"],[0.06274509803921569,\"rgb(24,15,41)\"],[0.12549019607843137,\"rgb(47,23,57)\"],[0.18823529411764706,\"rgb(71,28,72)\"],[0.25098039215686274,\"rgb(97,30,82)\"],[0.3137254901960784,\"rgb(123,30,89)\"],[0.3764705882352941,\"rgb(150,27,91)\"],[0.4392156862745098,\"rgb(177,22,88)\"],[0.5019607843137255,\"rgb(203,26,79)\"],[0.5647058823529412,\"rgb(223,47,67)\"],[0.6274509803921569,\"rgb(236,76,61)\"],[0.6901960784313725,\"rgb(242,107,73)\"],[0.7529411764705882,\"rgb(244,135,95)\"],[0.8156862745098039,\"rgb(245,162,122)\"],[0.8784313725490196,\"rgb(246,188,153)\"],[0.9411764705882353,\"rgb(247,212,187)\"],[1.0,\"rgb(250,234,220)\"]]},\"xaxis\":{\"gridcolor\":\"white\",\"linecolor\":\"white\",\"showgrid\":true,\"ticks\":\"\",\"title\":{\"standoff\":15},\"zerolinecolor\":\"white\",\"automargin\":true},\"yaxis\":{\"gridcolor\":\"white\",\"linecolor\":\"white\",\"showgrid\":true,\"ticks\":\"\",\"title\":{\"standoff\":15},\"zerolinecolor\":\"white\",\"automargin\":true},\"scene\":{\"xaxis\":{\"backgroundcolor\":\"rgb(234,234,242)\",\"gridcolor\":\"white\",\"linecolor\":\"white\",\"showbackground\":true,\"showgrid\":true,\"ticks\":\"\",\"zerolinecolor\":\"white\",\"gridwidth\":2},\"yaxis\":{\"backgroundcolor\":\"rgb(234,234,242)\",\"gridcolor\":\"white\",\"linecolor\":\"white\",\"showbackground\":true,\"showgrid\":true,\"ticks\":\"\",\"zerolinecolor\":\"white\",\"gridwidth\":2},\"zaxis\":{\"backgroundcolor\":\"rgb(234,234,242)\",\"gridcolor\":\"white\",\"linecolor\":\"white\",\"showbackground\":true,\"showgrid\":true,\"ticks\":\"\",\"zerolinecolor\":\"white\",\"gridwidth\":2}},\"shapedefaults\":{\"fillcolor\":\"rgb(67,103,167)\",\"line\":{\"width\":0},\"opacity\":0.5},\"annotationdefaults\":{\"arrowcolor\":\"rgb(67,103,167)\"},\"geo\":{\"bgcolor\":\"white\",\"landcolor\":\"rgb(234,234,242)\",\"subunitcolor\":\"white\",\"showland\":true,\"showlakes\":true,\"lakecolor\":\"white\"}}},\"xaxis\":{\"anchor\":\"y\",\"domain\":[0.0,1.0],\"title\":{\"text\":\"Date\"}},\"yaxis\":{\"anchor\":\"x\",\"domain\":[0.0,1.0],\"title\":{\"text\":\"Sales Metrics\"}},\"legend\":{\"tracegroupgap\":0,\"title\":{\"text\":\"Metrics\"}},\"title\":{\"text\":\"Dollar Sales over Years\",\"font\":{\"size\":20,\"family\":\"Arial\"}},\"font\":{\"size\":14,\"family\":\"Arial\"}},                        {\"responsive\": true}                    ).then(function(){\n",
              "                            \n",
              "var gd = document.getElementById('9f659ce2-16bd-44be-82cd-a4eafdff7450');\n",
              "var x = new MutationObserver(function (mutations, observer) {{\n",
              "        var display = window.getComputedStyle(gd).display;\n",
              "        if (!display || display === 'none') {{\n",
              "            console.log([gd, 'removed!']);\n",
              "            Plotly.purge(gd);\n",
              "            observer.disconnect();\n",
              "        }}\n",
              "}});\n",
              "\n",
              "// Listen for the removal of the full notebook cells\n",
              "var notebookContainer = gd.closest('#notebook-container');\n",
              "if (notebookContainer) {{\n",
              "    x.observe(notebookContainer, {childList: true});\n",
              "}}\n",
              "\n",
              "// Listen for the clearing of the current output cell\n",
              "var outputEl = gd.closest('.output');\n",
              "if (outputEl) {{\n",
              "    x.observe(outputEl, {childList: true});\n",
              "}}\n",
              "\n",
              "                        })                };                            </script>        </div>\n",
              "</body>\n",
              "</html>"
            ]
          },
          "metadata": {}
        }
      ]
    },
    {
      "cell_type": "code",
      "source": [
        "#Group data by date and brand name\n",
        "date_brand_df = data.groupby(['Date', 'Brand Name'])[['Unit Sales', 'Volume Sales', 'Dollar Sales']].sum().reset_index()\n",
        "date_brand_df['Date'] = pd.to_datetime(date_brand_df['Date'])"
      ],
      "metadata": {
        "id": "gYx1TnPZ2Ekp"
      },
      "execution_count": null,
      "outputs": []
    },
    {
      "cell_type": "code",
      "source": [
        "import plotly.express as px\n",
        "\n",
        "# Filter the data for 'GARDEIN' and 'MORNINGSTAR FARMS'\n",
        "filtered_time_series = date_brand_df[\n",
        "    date_brand_df['Brand Name'].isin(['GARDEIN', 'MORNINGSTAR FARMS'])\n",
        "]\n",
        "\n",
        "# Create a time series line chart for Dollar Sales for both brands\n",
        "fig = px.line(\n",
        "    filtered_time_series,\n",
        "    x='Date',\n",
        "    y='Dollar Sales',\n",
        "    color='Brand Name',\n",
        "    title='Dollar Sales over Time for GARDEIN and MORNINGSTAR FARMS',\n",
        "    labels={'Dollar Sales': 'Dollar Sales ($)', 'Date': 'Date', 'Brand Name': 'Brand'},\n",
        "    markers=True\n",
        ")\n",
        "\n",
        "# Update layout for better visuals\n",
        "fig.update_layout(\n",
        "    xaxis_title='Date',\n",
        "    yaxis_title='Dollar Sales ($)',\n",
        "    legend_title='Brand',\n",
        "    title_font=dict(size=20, family='Arial'),\n",
        "    font=dict(size=14, family='Arial'),\n",
        "    template='ggplot2'  # Apply a theme\n",
        ")\n",
        "\n",
        "fig.show()"
      ],
      "metadata": {
        "colab": {
          "base_uri": "https://localhost:8080/",
          "height": 542
        },
        "id": "J40h05DF2XJd",
        "outputId": "1795395a-7e5c-4173-ae93-be59763df177"
      },
      "execution_count": null,
      "outputs": [
        {
          "output_type": "display_data",
          "data": {
            "text/html": [
              "<html>\n",
              "<head><meta charset=\"utf-8\" /></head>\n",
              "<body>\n",
              "    <div>            <script src=\"https://cdnjs.cloudflare.com/ajax/libs/mathjax/2.7.5/MathJax.js?config=TeX-AMS-MML_SVG\"></script><script type=\"text/javascript\">if (window.MathJax && window.MathJax.Hub && window.MathJax.Hub.Config) {window.MathJax.Hub.Config({SVG: {font: \"STIX-Web\"}});}</script>                <script type=\"text/javascript\">window.PlotlyConfig = {MathJaxConfig: 'local'};</script>\n",
              "        <script charset=\"utf-8\" src=\"https://cdn.plot.ly/plotly-2.35.2.min.js\"></script>                <div id=\"7ae95ee2-1e37-4cb3-ae37-bd8b439d4256\" class=\"plotly-graph-div\" style=\"height:525px; width:100%;\"></div>            <script type=\"text/javascript\">                                    window.PLOTLYENV=window.PLOTLYENV || {};                                    if (document.getElementById(\"7ae95ee2-1e37-4cb3-ae37-bd8b439d4256\")) {                    Plotly.newPlot(                        \"7ae95ee2-1e37-4cb3-ae37-bd8b439d4256\",                        [{\"hovertemplate\":\"Brand=GARDEIN\\u003cbr\\u003eDate=%{x}\\u003cbr\\u003eDollar Sales ($)=%{y}\\u003cextra\\u003e\\u003c\\u002fextra\\u003e\",\"legendgroup\":\"GARDEIN\",\"line\":{\"color\":\"rgb(76,114,176)\",\"dash\":\"solid\"},\"marker\":{\"symbol\":\"circle\"},\"mode\":\"lines+markers\",\"name\":\"GARDEIN\",\"orientation\":\"v\",\"showlegend\":true,\"x\":[\"2020-01-12T00:00:00\",\"2020-01-19T00:00:00\",\"2020-01-26T00:00:00\",\"2020-02-02T00:00:00\",\"2020-02-09T00:00:00\",\"2020-02-16T00:00:00\",\"2020-02-23T00:00:00\",\"2020-03-01T00:00:00\",\"2020-03-08T00:00:00\",\"2020-03-15T00:00:00\",\"2020-03-22T00:00:00\",\"2020-03-29T00:00:00\",\"2020-04-05T00:00:00\",\"2020-04-12T00:00:00\",\"2020-04-19T00:00:00\",\"2020-04-26T00:00:00\",\"2020-05-03T00:00:00\",\"2020-05-10T00:00:00\",\"2020-05-17T00:00:00\",\"2020-05-24T00:00:00\",\"2020-05-31T00:00:00\",\"2020-06-07T00:00:00\",\"2020-06-14T00:00:00\",\"2020-06-21T00:00:00\",\"2020-06-28T00:00:00\",\"2020-07-05T00:00:00\",\"2020-07-12T00:00:00\",\"2020-07-19T00:00:00\",\"2020-07-26T00:00:00\",\"2020-08-02T00:00:00\",\"2020-08-09T00:00:00\",\"2020-08-16T00:00:00\",\"2020-08-23T00:00:00\",\"2020-08-30T00:00:00\",\"2020-09-06T00:00:00\",\"2020-09-13T00:00:00\",\"2020-09-20T00:00:00\",\"2020-09-27T00:00:00\",\"2020-10-04T00:00:00\",\"2020-10-11T00:00:00\",\"2020-10-18T00:00:00\",\"2020-10-25T00:00:00\",\"2020-11-01T00:00:00\",\"2020-11-08T00:00:00\",\"2020-11-15T00:00:00\",\"2020-11-22T00:00:00\",\"2020-11-29T00:00:00\",\"2020-12-06T00:00:00\",\"2020-12-13T00:00:00\",\"2020-12-20T00:00:00\",\"2020-12-27T00:00:00\",\"2021-01-03T00:00:00\",\"2021-01-10T00:00:00\",\"2021-01-17T00:00:00\",\"2021-01-24T00:00:00\",\"2021-01-31T00:00:00\",\"2021-02-07T00:00:00\",\"2021-02-14T00:00:00\",\"2021-02-21T00:00:00\",\"2021-02-28T00:00:00\",\"2021-03-07T00:00:00\",\"2021-03-14T00:00:00\",\"2021-03-21T00:00:00\",\"2021-03-28T00:00:00\",\"2021-04-04T00:00:00\",\"2021-04-11T00:00:00\",\"2021-04-18T00:00:00\",\"2021-04-25T00:00:00\",\"2021-05-02T00:00:00\",\"2021-05-09T00:00:00\",\"2021-05-16T00:00:00\",\"2021-05-23T00:00:00\",\"2021-05-30T00:00:00\",\"2021-06-06T00:00:00\",\"2021-06-13T00:00:00\",\"2021-06-20T00:00:00\",\"2021-06-27T00:00:00\",\"2021-07-04T00:00:00\",\"2021-07-11T00:00:00\",\"2021-07-18T00:00:00\",\"2021-07-25T00:00:00\",\"2021-08-01T00:00:00\",\"2021-08-08T00:00:00\",\"2021-08-15T00:00:00\",\"2021-08-22T00:00:00\",\"2021-08-29T00:00:00\",\"2021-09-05T00:00:00\",\"2021-09-12T00:00:00\",\"2021-09-19T00:00:00\",\"2021-09-26T00:00:00\",\"2021-10-03T00:00:00\",\"2021-10-10T00:00:00\",\"2021-10-17T00:00:00\",\"2021-10-24T00:00:00\",\"2021-10-31T00:00:00\",\"2021-11-07T00:00:00\",\"2021-11-14T00:00:00\",\"2021-11-21T00:00:00\",\"2021-11-28T00:00:00\",\"2021-12-05T00:00:00\",\"2021-12-12T00:00:00\",\"2021-12-19T00:00:00\",\"2021-12-26T00:00:00\",\"2022-01-02T00:00:00\",\"2022-01-09T00:00:00\",\"2022-01-16T00:00:00\",\"2022-01-23T00:00:00\",\"2022-01-30T00:00:00\",\"2022-02-06T00:00:00\",\"2022-02-13T00:00:00\",\"2022-02-20T00:00:00\",\"2022-02-27T00:00:00\",\"2022-03-06T00:00:00\",\"2022-03-13T00:00:00\",\"2022-03-20T00:00:00\",\"2022-03-27T00:00:00\",\"2022-04-03T00:00:00\",\"2022-04-10T00:00:00\",\"2022-04-17T00:00:00\",\"2022-04-24T00:00:00\",\"2022-05-01T00:00:00\",\"2022-05-08T00:00:00\",\"2022-05-15T00:00:00\",\"2022-05-22T00:00:00\",\"2022-05-29T00:00:00\",\"2022-06-05T00:00:00\",\"2022-06-12T00:00:00\",\"2022-06-19T00:00:00\",\"2022-06-26T00:00:00\",\"2022-07-03T00:00:00\",\"2022-07-10T00:00:00\",\"2022-07-17T00:00:00\",\"2022-07-24T00:00:00\",\"2022-07-31T00:00:00\",\"2022-08-07T00:00:00\",\"2022-08-14T00:00:00\",\"2022-08-21T00:00:00\",\"2022-08-28T00:00:00\",\"2022-09-04T00:00:00\",\"2022-09-11T00:00:00\",\"2022-09-18T00:00:00\",\"2022-09-25T00:00:00\",\"2022-10-02T00:00:00\",\"2022-10-09T00:00:00\",\"2022-10-16T00:00:00\",\"2022-10-23T00:00:00\",\"2022-10-30T00:00:00\",\"2022-11-06T00:00:00\",\"2022-11-13T00:00:00\",\"2022-11-20T00:00:00\",\"2022-11-27T00:00:00\",\"2022-12-04T00:00:00\",\"2022-12-11T00:00:00\",\"2022-12-18T00:00:00\",\"2022-12-25T00:00:00\",\"2023-01-01T00:00:00\",\"2023-01-08T00:00:00\",\"2023-01-15T00:00:00\",\"2023-01-22T00:00:00\",\"2023-01-29T00:00:00\",\"2023-02-05T00:00:00\",\"2023-02-12T00:00:00\",\"2023-02-19T00:00:00\",\"2023-02-26T00:00:00\",\"2023-03-05T00:00:00\",\"2023-03-12T00:00:00\",\"2023-03-19T00:00:00\",\"2023-03-26T00:00:00\",\"2023-04-02T00:00:00\",\"2023-04-09T00:00:00\",\"2023-04-16T00:00:00\",\"2023-04-23T00:00:00\",\"2023-04-30T00:00:00\",\"2023-05-07T00:00:00\",\"2023-05-14T00:00:00\",\"2023-05-21T00:00:00\",\"2023-05-28T00:00:00\",\"2023-06-04T00:00:00\",\"2023-06-11T00:00:00\",\"2023-06-18T00:00:00\",\"2023-06-25T00:00:00\",\"2023-07-02T00:00:00\",\"2023-07-09T00:00:00\",\"2023-07-16T00:00:00\",\"2023-07-23T00:00:00\",\"2023-07-30T00:00:00\",\"2023-08-06T00:00:00\",\"2023-08-13T00:00:00\",\"2023-08-20T00:00:00\",\"2023-08-27T00:00:00\",\"2023-09-03T00:00:00\",\"2023-09-10T00:00:00\",\"2023-09-17T00:00:00\",\"2023-09-24T00:00:00\",\"2023-10-01T00:00:00\",\"2023-10-08T00:00:00\",\"2023-10-15T00:00:00\",\"2023-10-22T00:00:00\",\"2023-10-29T00:00:00\",\"2023-11-05T00:00:00\",\"2023-11-12T00:00:00\",\"2023-11-19T00:00:00\",\"2023-11-26T00:00:00\",\"2023-12-03T00:00:00\",\"2023-12-10T00:00:00\",\"2023-12-17T00:00:00\",\"2023-12-24T00:00:00\",\"2023-12-31T00:00:00\",\"2024-01-07T00:00:00\",\"2024-01-14T00:00:00\",\"2024-01-21T00:00:00\"],\"xaxis\":\"x\",\"y\":[3235130.5597463497,2787352.6644808124,2537934.90248405,2652590.9706035745,2685012.8226658357,2542208.1868124353,2533363.0622717845,2775354.10432561,2946633.306780851,5291249.279887492,4449347.745536894,2903463.871890687,3198954.6017198493,2978690.706073074,3071528.731745275,3028763.578074647,3040165.0695632924,3214887.2206109012,2928028.7745819795,3018457.302518694,2834316.720057206,2872332.864562844,2819361.8125664927,2948942.188509934,2614471.148346077,2804115.6682950007,2698787.0797397112,2950485.736676781,2651607.2786341417,2648724.568063364,2669172.5311340545,2661503.241492376,2782399.4078978873,2529146.2426558393,2539275.3720228933,2673855.1488991776,2534975.204473996,2513813.1634993614,2478762.4768171227,2518008.9194304943,2535932.987238003,2406670.5651994715,2512827.5023111287,2554354.8218565644,2602429.0345224775,2704187.2918020547,2149842.2770827506,2459289.9979782403,2568485.186717627,2501033.965659802,2181905.6940019773,2510874.6708856057,2633958.267182753,3106958.1802251707,2445773.3981457055,2431081.8352395524,2399392.5754859126,2333009.6739146737,2380037.327558433,2478363.5234652353,2529984.354257518,2844807.4888944738,2364725.1226068344,2282178.0865328093,2309000.1097085513,2293577.8642073404,2342114.3014389193,2424136.4155998267,2246893.9286271823,2259731.0644638026,2237217.131213765,2258666.665685562,2181705.6929464843,2158002.271946641,2165424.6923893667,2232248.039832637,2068431.366474986,2135974.890460894,2088811.0393615197,2138137.025418701,2123303.553100786,2101724.9470182047,2214714.3927331376,2337983.0853913333,2156601.100001537,2118886.0728207803,2106963.6091042985,2114635.3230184303,2085416.372179185,2185687.6200434207,2190264.079932238,2134087.8989699245,2075852.792628913,2204060.1903502797,2128592.289628699,2283733.403399954,2418906.6524945474,2458231.2641824256,2176251.130327382,2194189.215736743,2344950.62466889,2255431.2566272737,2350977.768878808,2245342.83122026,2464310.6442142534,2868142.516735959,2311826.760483538,2262038.718966714,2236427.830835985,2234681.4746934413,2154627.1653004647,2218465.0804814636,2268378.9822537075,2552870.9855922866,2149614.9680650365,2148265.1167051257,2142220.0434283214,2266115.6167991958,2210301.017991964,2008867.1339307176,2068670.1506301772,2282709.208595928,2079190.0649476994,2076572.2552829992,2052512.0580795824,2007604.869209416,2040514.6115856897,2207606.3717893125,2052337.883908236,2129659.135964143,2086088.8972049963,2025548.9810231267,2007965.7334162355,1945660.259834382,2037642.8046973746,2051267.6955470268,2275141.0823556376,1916320.748278708,1982923.35255311,2030427.2905470813,1986375.5987546528,1981651.5396406483,1937451.3187290167,1985491.1900511691,2282324.732439784,1961644.280367588,1896435.3071160864,1982269.0466055847,2057836.1284835374,2185090.8584207175,1956167.186916827,1841089.1378121376,1932875.0745446829,1932554.8425621304,2174043.8974865857,1712310.2518464862,1998258.0864380635,2415025.300461007,2031767.4050129422,1920518.1504236378,1897296.7420541265,1899185.7907293697,1799443.5325839496,1821843.2245479058,1863260.782409376,2152802.0348976916,1841219.0898677944,1811436.4431793657,1743356.5987261003,1882254.1542655788,1699570.9664264396,1693393.7170145244,1682853.6601874363,1728696.2657390332,1674131.036930101,1598473.1714711296,1626243.1338642442,1596255.1742476106,1635414.637171973,1629958.4424695838,1823424.3739245087,1551477.9163889575,1610987.696803589,1570062.3538644898,1565386.0851587655,1523004.214030141,1599272.0265021753,1636472.1391410546,1823700.3348912501,1511319.6082035187,1543266.7819447157,1630743.3499170404,1586309.603994484,1606600.6461694718,1545662.7009274508,1671594.707453978,1669453.1107936238,1625448.1086301864,1835195.5484309602,1702000.1855931508,1780742.4848708129,1885925.515191158,1792297.9843766524,1635987.4304752923,1745543.1067094398,1709825.4183077752,1892229.4887155844,1565259.7165530347,1931354.5860756552,2381714.9920306467,1930733.0134097505],\"yaxis\":\"y\",\"type\":\"scatter\"},{\"hovertemplate\":\"Brand=MORNINGSTAR FARMS\\u003cbr\\u003eDate=%{x}\\u003cbr\\u003eDollar Sales ($)=%{y}\\u003cextra\\u003e\\u003c\\u002fextra\\u003e\",\"legendgroup\":\"MORNINGSTAR FARMS\",\"line\":{\"color\":\"rgb(221,132,82)\",\"dash\":\"solid\"},\"marker\":{\"symbol\":\"circle\"},\"mode\":\"lines+markers\",\"name\":\"MORNINGSTAR FARMS\",\"orientation\":\"v\",\"showlegend\":true,\"x\":[\"2020-01-12T00:00:00\",\"2020-01-19T00:00:00\",\"2020-01-26T00:00:00\",\"2020-02-02T00:00:00\",\"2020-02-09T00:00:00\",\"2020-02-16T00:00:00\",\"2020-02-23T00:00:00\",\"2020-03-01T00:00:00\",\"2020-03-08T00:00:00\",\"2020-03-15T00:00:00\",\"2020-03-22T00:00:00\",\"2020-03-29T00:00:00\",\"2020-04-05T00:00:00\",\"2020-04-12T00:00:00\",\"2020-04-19T00:00:00\",\"2020-04-26T00:00:00\",\"2020-05-03T00:00:00\",\"2020-05-10T00:00:00\",\"2020-05-17T00:00:00\",\"2020-05-24T00:00:00\",\"2020-05-31T00:00:00\",\"2020-06-07T00:00:00\",\"2020-06-14T00:00:00\",\"2020-06-21T00:00:00\",\"2020-06-28T00:00:00\",\"2020-07-05T00:00:00\",\"2020-07-12T00:00:00\",\"2020-07-19T00:00:00\",\"2020-07-26T00:00:00\",\"2020-08-02T00:00:00\",\"2020-08-09T00:00:00\",\"2020-08-16T00:00:00\",\"2020-08-23T00:00:00\",\"2020-08-30T00:00:00\",\"2020-09-06T00:00:00\",\"2020-09-13T00:00:00\",\"2020-09-20T00:00:00\",\"2020-09-27T00:00:00\",\"2020-10-04T00:00:00\",\"2020-10-11T00:00:00\",\"2020-10-18T00:00:00\",\"2020-10-25T00:00:00\",\"2020-11-01T00:00:00\",\"2020-11-08T00:00:00\",\"2020-11-15T00:00:00\",\"2020-11-22T00:00:00\",\"2020-11-29T00:00:00\",\"2020-12-06T00:00:00\",\"2020-12-13T00:00:00\",\"2020-12-20T00:00:00\",\"2020-12-27T00:00:00\",\"2021-01-03T00:00:00\",\"2021-01-10T00:00:00\",\"2021-01-17T00:00:00\",\"2021-01-24T00:00:00\",\"2021-01-31T00:00:00\",\"2021-02-07T00:00:00\",\"2021-02-14T00:00:00\",\"2021-02-21T00:00:00\",\"2021-02-28T00:00:00\",\"2021-03-07T00:00:00\",\"2021-03-14T00:00:00\",\"2021-03-21T00:00:00\",\"2021-03-28T00:00:00\",\"2021-04-04T00:00:00\",\"2021-04-11T00:00:00\",\"2021-04-18T00:00:00\",\"2021-04-25T00:00:00\",\"2021-05-02T00:00:00\",\"2021-05-09T00:00:00\",\"2021-05-16T00:00:00\",\"2021-05-23T00:00:00\",\"2021-05-30T00:00:00\",\"2021-06-06T00:00:00\",\"2021-06-13T00:00:00\",\"2021-06-20T00:00:00\",\"2021-06-27T00:00:00\",\"2021-07-04T00:00:00\",\"2021-07-11T00:00:00\",\"2021-07-18T00:00:00\",\"2021-07-25T00:00:00\",\"2021-08-01T00:00:00\",\"2021-08-08T00:00:00\",\"2021-08-15T00:00:00\",\"2021-08-22T00:00:00\",\"2021-08-29T00:00:00\",\"2021-09-05T00:00:00\",\"2021-09-12T00:00:00\",\"2021-09-19T00:00:00\",\"2021-09-26T00:00:00\",\"2021-10-03T00:00:00\",\"2021-10-10T00:00:00\",\"2021-10-17T00:00:00\",\"2021-10-24T00:00:00\",\"2021-10-31T00:00:00\",\"2021-11-07T00:00:00\",\"2021-11-14T00:00:00\",\"2021-11-21T00:00:00\",\"2021-11-28T00:00:00\",\"2021-12-05T00:00:00\",\"2021-12-12T00:00:00\",\"2021-12-19T00:00:00\",\"2021-12-26T00:00:00\",\"2022-01-02T00:00:00\",\"2022-01-09T00:00:00\",\"2022-01-16T00:00:00\",\"2022-01-23T00:00:00\",\"2022-01-30T00:00:00\",\"2022-02-06T00:00:00\",\"2022-02-13T00:00:00\",\"2022-02-20T00:00:00\",\"2022-02-27T00:00:00\",\"2022-03-06T00:00:00\",\"2022-03-13T00:00:00\",\"2022-03-20T00:00:00\",\"2022-03-27T00:00:00\",\"2022-04-03T00:00:00\",\"2022-04-10T00:00:00\",\"2022-04-17T00:00:00\",\"2022-04-24T00:00:00\",\"2022-05-01T00:00:00\",\"2022-05-08T00:00:00\",\"2022-05-15T00:00:00\",\"2022-05-22T00:00:00\",\"2022-05-29T00:00:00\",\"2022-06-05T00:00:00\",\"2022-06-12T00:00:00\",\"2022-06-19T00:00:00\",\"2022-06-26T00:00:00\",\"2022-07-03T00:00:00\",\"2022-07-10T00:00:00\",\"2022-07-17T00:00:00\",\"2022-07-24T00:00:00\",\"2022-07-31T00:00:00\",\"2022-08-07T00:00:00\",\"2022-08-14T00:00:00\",\"2022-08-21T00:00:00\",\"2022-08-28T00:00:00\",\"2022-09-04T00:00:00\",\"2022-09-11T00:00:00\",\"2022-09-18T00:00:00\",\"2022-09-25T00:00:00\",\"2022-10-02T00:00:00\",\"2022-10-09T00:00:00\",\"2022-10-16T00:00:00\",\"2022-10-23T00:00:00\",\"2022-10-30T00:00:00\",\"2022-11-06T00:00:00\",\"2022-11-13T00:00:00\",\"2022-11-20T00:00:00\",\"2022-11-27T00:00:00\",\"2022-12-04T00:00:00\",\"2022-12-11T00:00:00\",\"2022-12-18T00:00:00\",\"2022-12-25T00:00:00\",\"2023-01-01T00:00:00\",\"2023-01-08T00:00:00\",\"2023-01-15T00:00:00\",\"2023-01-22T00:00:00\",\"2023-01-29T00:00:00\",\"2023-02-05T00:00:00\",\"2023-02-12T00:00:00\",\"2023-02-19T00:00:00\",\"2023-02-26T00:00:00\",\"2023-03-05T00:00:00\",\"2023-03-12T00:00:00\",\"2023-03-19T00:00:00\",\"2023-03-26T00:00:00\",\"2023-04-02T00:00:00\",\"2023-04-09T00:00:00\",\"2023-04-16T00:00:00\",\"2023-04-23T00:00:00\",\"2023-04-30T00:00:00\",\"2023-05-07T00:00:00\",\"2023-05-14T00:00:00\",\"2023-05-21T00:00:00\",\"2023-05-28T00:00:00\",\"2023-06-04T00:00:00\",\"2023-06-11T00:00:00\",\"2023-06-18T00:00:00\",\"2023-06-25T00:00:00\",\"2023-07-02T00:00:00\",\"2023-07-09T00:00:00\",\"2023-07-16T00:00:00\",\"2023-07-23T00:00:00\",\"2023-07-30T00:00:00\",\"2023-08-06T00:00:00\",\"2023-08-13T00:00:00\",\"2023-08-20T00:00:00\",\"2023-08-27T00:00:00\",\"2023-09-03T00:00:00\",\"2023-09-10T00:00:00\",\"2023-09-17T00:00:00\",\"2023-09-24T00:00:00\",\"2023-10-01T00:00:00\",\"2023-10-08T00:00:00\",\"2023-10-15T00:00:00\",\"2023-10-22T00:00:00\",\"2023-10-29T00:00:00\",\"2023-11-05T00:00:00\",\"2023-11-12T00:00:00\",\"2023-11-19T00:00:00\",\"2023-11-26T00:00:00\",\"2023-12-03T00:00:00\",\"2023-12-10T00:00:00\",\"2023-12-17T00:00:00\",\"2023-12-24T00:00:00\",\"2023-12-31T00:00:00\",\"2024-01-07T00:00:00\",\"2024-01-14T00:00:00\",\"2024-01-21T00:00:00\"],\"xaxis\":\"x\",\"y\":[5708081.885824552,5433288.671261596,5337217.283398423,4913531.64157808,4968924.642126793,4895731.009619462,5175400.80499819,5558653.747306644,5946407.083746304,9710708.59649644,9396685.981331352,6020760.204935288,6748881.967553427,6383775.118517255,6395118.643759993,6531955.0109147765,6758980.402598177,6764461.124500887,5852391.410281796,5763520.921542958,5268906.3718232475,5353420.764745688,5632828.105102259,5636895.7281047795,5305015.225097475,5713141.487559733,5452918.619065379,5529860.26099617,5401605.364186027,5440820.813403511,5705265.195571597,5677203.197548847,5656988.736752784,5548425.343109259,5968368.580018508,5450817.37156017,5361079.64116895,5226572.485526277,5222820.065144482,5287005.037881589,5098547.1861090325,5105854.155955003,5174529.545777716,5322507.55714322,5472289.746787811,5407156.368750829,4212936.676919301,5395032.806589321,5299582.96168525,5356541.38901559,4705400.004895275,5196550.573008751,5945994.243643527,5957908.095934133,5840240.204254095,5907738.7687364295,5622030.512241795,5542188.627685425,5481960.33589957,5653892.243076263,5569296.278031779,5672362.698183735,5475607.246439789,5264817.325563663,5214574.386705118,5140676.389960628,5298105.2793208575,5221263.0938961245,5095658.316235131,5173048.042144947,4999237.0170087805,5115263.686024671,5179308.084132497,5087649.853932669,5073851.804064064,5069249.074745688,4859572.146302307,5458278.975713688,5021922.68386081,5123313.187690427,4967388.000733018,4944569.518407271,5182364.72261316,5100921.446097572,5151664.072538539,5275082.177646076,5635367.947601215,5068768.251035426,4897903.963969581,4756468.772836837,4840734.335856757,4942410.435584951,4877734.8002000665,4691825.567803068,4584698.002776597,4682742.3953341115,4761868.044105643,4631709.678920053,3969158.4585405933,4529914.941575884,4576427.002982713,4491540.042085746,4298611.016288017,4415191.233772702,5145250.506601978,5413456.321067313,5078258.935355615,5254394.719213228,4760444.17866701,4729154.762940478,4624894.052935866,4719479.4966978105,4920033.9497398855,4881896.888059403,4728213.482334931,4654420.264805184,4655042.485183333,4766551.935161709,4687539.697239081,4228362.238373931,4477562.760280199,4483240.166016037,4466201.676790419,4568847.322524973,4847338.139992771,4664181.081036895,4618422.508015343,4499260.036628805,4307285.934508229,5105255.806790334,4461372.942016839,4363126.633630653,4309910.1886747265,4392324.700733226,4545992.326892164,4454393.76074327,4392203.991716483,4661014.905005795,4586858.073821144,4569155.410875019,4369162.864421232,4396367.715526186,4428602.165269757,4548411.922068884,4328771.702221911,4250133.893825433,4218961.620407696,4541066.40458677,4336662.114456259,4183754.6712727076,3591981.3122110106,4315365.536311119,4230036.1798290135,4196490.105120251,4431246.417946358,3809647.818781706,4598939.173505244,4633190.183678394,4576809.803477343,4326217.845586723,4408466.778600371,4543926.700182825,4257789.085484985,4483396.045141483,4607986.6598191215,4648243.060017464,4344736.493640855,4200999.611583412,4151415.3316018987,4344959.39750475,4096170.907019978,4343259.606294147,4200697.593742014,4159873.244648494,4394405.634516038,4128276.24467546,4355839.843871353,4291068.205034813,4306233.535480621,4312930.796369681,4186000.6041369364,4650214.94257666,4308569.595174035,4203300.948804058,4101537.356060774,4068995.6583404117,4191334.2408075905,4251429.529039134,4213101.608654939,4336443.631981482,4163669.809328074,4117639.4888184867,3988563.085859016,3827737.9602995063,4177339.2289249683,4097486.9848702503,4038440.245338213,3871458.3554909443,3917031.6598883974,4273201.118860444,4066873.243047893,3971382.295128223,3336067.6298555266,3891225.078964099,3990560.729983635,4016799.109922645,4212029.038692432,3550344.3294146764,4453869.439679483,4756705.56090151,4487227.121404589],\"yaxis\":\"y\",\"type\":\"scatter\"}],                        {\"template\":{\"data\":{\"barpolar\":[{\"marker\":{\"line\":{\"color\":\"rgb(237,237,237)\",\"width\":0.5},\"pattern\":{\"fillmode\":\"overlay\",\"size\":10,\"solidity\":0.2}},\"type\":\"barpolar\"}],\"bar\":[{\"error_x\":{\"color\":\"rgb(51,51,51)\"},\"error_y\":{\"color\":\"rgb(51,51,51)\"},\"marker\":{\"line\":{\"color\":\"rgb(237,237,237)\",\"width\":0.5},\"pattern\":{\"fillmode\":\"overlay\",\"size\":10,\"solidity\":0.2}},\"type\":\"bar\"}],\"carpet\":[{\"aaxis\":{\"endlinecolor\":\"rgb(51,51,51)\",\"gridcolor\":\"white\",\"linecolor\":\"white\",\"minorgridcolor\":\"white\",\"startlinecolor\":\"rgb(51,51,51)\"},\"baxis\":{\"endlinecolor\":\"rgb(51,51,51)\",\"gridcolor\":\"white\",\"linecolor\":\"white\",\"minorgridcolor\":\"white\",\"startlinecolor\":\"rgb(51,51,51)\"},\"type\":\"carpet\"}],\"choropleth\":[{\"colorbar\":{\"outlinewidth\":0,\"tickcolor\":\"rgb(237,237,237)\",\"ticklen\":6,\"ticks\":\"inside\"},\"type\":\"choropleth\"}],\"contourcarpet\":[{\"colorbar\":{\"outlinewidth\":0,\"tickcolor\":\"rgb(237,237,237)\",\"ticklen\":6,\"ticks\":\"inside\"},\"type\":\"contourcarpet\"}],\"contour\":[{\"colorbar\":{\"outlinewidth\":0,\"tickcolor\":\"rgb(237,237,237)\",\"ticklen\":6,\"ticks\":\"inside\"},\"colorscale\":[[0,\"rgb(20,44,66)\"],[1,\"rgb(90,179,244)\"]],\"type\":\"contour\"}],\"heatmapgl\":[{\"colorbar\":{\"outlinewidth\":0,\"tickcolor\":\"rgb(237,237,237)\",\"ticklen\":6,\"ticks\":\"inside\"},\"colorscale\":[[0,\"rgb(20,44,66)\"],[1,\"rgb(90,179,244)\"]],\"type\":\"heatmapgl\"}],\"heatmap\":[{\"colorbar\":{\"outlinewidth\":0,\"tickcolor\":\"rgb(237,237,237)\",\"ticklen\":6,\"ticks\":\"inside\"},\"colorscale\":[[0,\"rgb(20,44,66)\"],[1,\"rgb(90,179,244)\"]],\"type\":\"heatmap\"}],\"histogram2dcontour\":[{\"colorbar\":{\"outlinewidth\":0,\"tickcolor\":\"rgb(237,237,237)\",\"ticklen\":6,\"ticks\":\"inside\"},\"colorscale\":[[0,\"rgb(20,44,66)\"],[1,\"rgb(90,179,244)\"]],\"type\":\"histogram2dcontour\"}],\"histogram2d\":[{\"colorbar\":{\"outlinewidth\":0,\"tickcolor\":\"rgb(237,237,237)\",\"ticklen\":6,\"ticks\":\"inside\"},\"colorscale\":[[0,\"rgb(20,44,66)\"],[1,\"rgb(90,179,244)\"]],\"type\":\"histogram2d\"}],\"histogram\":[{\"marker\":{\"pattern\":{\"fillmode\":\"overlay\",\"size\":10,\"solidity\":0.2}},\"type\":\"histogram\"}],\"mesh3d\":[{\"colorbar\":{\"outlinewidth\":0,\"tickcolor\":\"rgb(237,237,237)\",\"ticklen\":6,\"ticks\":\"inside\"},\"type\":\"mesh3d\"}],\"parcoords\":[{\"line\":{\"colorbar\":{\"outlinewidth\":0,\"tickcolor\":\"rgb(237,237,237)\",\"ticklen\":6,\"ticks\":\"inside\"}},\"type\":\"parcoords\"}],\"pie\":[{\"automargin\":true,\"type\":\"pie\"}],\"scatter3d\":[{\"line\":{\"colorbar\":{\"outlinewidth\":0,\"tickcolor\":\"rgb(237,237,237)\",\"ticklen\":6,\"ticks\":\"inside\"}},\"marker\":{\"colorbar\":{\"outlinewidth\":0,\"tickcolor\":\"rgb(237,237,237)\",\"ticklen\":6,\"ticks\":\"inside\"}},\"type\":\"scatter3d\"}],\"scattercarpet\":[{\"marker\":{\"colorbar\":{\"outlinewidth\":0,\"tickcolor\":\"rgb(237,237,237)\",\"ticklen\":6,\"ticks\":\"inside\"}},\"type\":\"scattercarpet\"}],\"scattergeo\":[{\"marker\":{\"colorbar\":{\"outlinewidth\":0,\"tickcolor\":\"rgb(237,237,237)\",\"ticklen\":6,\"ticks\":\"inside\"}},\"type\":\"scattergeo\"}],\"scattergl\":[{\"marker\":{\"colorbar\":{\"outlinewidth\":0,\"tickcolor\":\"rgb(237,237,237)\",\"ticklen\":6,\"ticks\":\"inside\"}},\"type\":\"scattergl\"}],\"scattermapbox\":[{\"marker\":{\"colorbar\":{\"outlinewidth\":0,\"tickcolor\":\"rgb(237,237,237)\",\"ticklen\":6,\"ticks\":\"inside\"}},\"type\":\"scattermapbox\"}],\"scatterpolargl\":[{\"marker\":{\"colorbar\":{\"outlinewidth\":0,\"tickcolor\":\"rgb(237,237,237)\",\"ticklen\":6,\"ticks\":\"inside\"}},\"type\":\"scatterpolargl\"}],\"scatterpolar\":[{\"marker\":{\"colorbar\":{\"outlinewidth\":0,\"tickcolor\":\"rgb(237,237,237)\",\"ticklen\":6,\"ticks\":\"inside\"}},\"type\":\"scatterpolar\"}],\"scatter\":[{\"fillpattern\":{\"fillmode\":\"overlay\",\"size\":10,\"solidity\":0.2},\"type\":\"scatter\"}],\"scatterternary\":[{\"marker\":{\"colorbar\":{\"outlinewidth\":0,\"tickcolor\":\"rgb(237,237,237)\",\"ticklen\":6,\"ticks\":\"inside\"}},\"type\":\"scatterternary\"}],\"surface\":[{\"colorbar\":{\"outlinewidth\":0,\"tickcolor\":\"rgb(237,237,237)\",\"ticklen\":6,\"ticks\":\"inside\"},\"colorscale\":[[0,\"rgb(20,44,66)\"],[1,\"rgb(90,179,244)\"]],\"type\":\"surface\"}],\"table\":[{\"cells\":{\"fill\":{\"color\":\"rgb(237,237,237)\"},\"line\":{\"color\":\"white\"}},\"header\":{\"fill\":{\"color\":\"rgb(217,217,217)\"},\"line\":{\"color\":\"white\"}},\"type\":\"table\"}]},\"layout\":{\"annotationdefaults\":{\"arrowhead\":0,\"arrowwidth\":1},\"autotypenumbers\":\"strict\",\"coloraxis\":{\"colorbar\":{\"outlinewidth\":0,\"tickcolor\":\"rgb(237,237,237)\",\"ticklen\":6,\"ticks\":\"inside\"}},\"colorscale\":{\"sequential\":[[0,\"rgb(20,44,66)\"],[1,\"rgb(90,179,244)\"]],\"sequentialminus\":[[0,\"rgb(20,44,66)\"],[1,\"rgb(90,179,244)\"]]},\"colorway\":[\"#F8766D\",\"#A3A500\",\"#00BF7D\",\"#00B0F6\",\"#E76BF3\"],\"font\":{\"color\":\"rgb(51,51,51)\"},\"geo\":{\"bgcolor\":\"white\",\"lakecolor\":\"white\",\"landcolor\":\"rgb(237,237,237)\",\"showlakes\":true,\"showland\":true,\"subunitcolor\":\"white\"},\"hoverlabel\":{\"align\":\"left\"},\"hovermode\":\"closest\",\"paper_bgcolor\":\"white\",\"plot_bgcolor\":\"rgb(237,237,237)\",\"polar\":{\"angularaxis\":{\"gridcolor\":\"white\",\"linecolor\":\"white\",\"showgrid\":true,\"tickcolor\":\"rgb(51,51,51)\",\"ticks\":\"outside\"},\"bgcolor\":\"rgb(237,237,237)\",\"radialaxis\":{\"gridcolor\":\"white\",\"linecolor\":\"white\",\"showgrid\":true,\"tickcolor\":\"rgb(51,51,51)\",\"ticks\":\"outside\"}},\"scene\":{\"xaxis\":{\"backgroundcolor\":\"rgb(237,237,237)\",\"gridcolor\":\"white\",\"gridwidth\":2,\"linecolor\":\"white\",\"showbackground\":true,\"showgrid\":true,\"tickcolor\":\"rgb(51,51,51)\",\"ticks\":\"outside\",\"zerolinecolor\":\"white\"},\"yaxis\":{\"backgroundcolor\":\"rgb(237,237,237)\",\"gridcolor\":\"white\",\"gridwidth\":2,\"linecolor\":\"white\",\"showbackground\":true,\"showgrid\":true,\"tickcolor\":\"rgb(51,51,51)\",\"ticks\":\"outside\",\"zerolinecolor\":\"white\"},\"zaxis\":{\"backgroundcolor\":\"rgb(237,237,237)\",\"gridcolor\":\"white\",\"gridwidth\":2,\"linecolor\":\"white\",\"showbackground\":true,\"showgrid\":true,\"tickcolor\":\"rgb(51,51,51)\",\"ticks\":\"outside\",\"zerolinecolor\":\"white\"}},\"shapedefaults\":{\"fillcolor\":\"black\",\"line\":{\"width\":0},\"opacity\":0.3},\"ternary\":{\"aaxis\":{\"gridcolor\":\"white\",\"linecolor\":\"white\",\"showgrid\":true,\"tickcolor\":\"rgb(51,51,51)\",\"ticks\":\"outside\"},\"baxis\":{\"gridcolor\":\"white\",\"linecolor\":\"white\",\"showgrid\":true,\"tickcolor\":\"rgb(51,51,51)\",\"ticks\":\"outside\"},\"bgcolor\":\"rgb(237,237,237)\",\"caxis\":{\"gridcolor\":\"white\",\"linecolor\":\"white\",\"showgrid\":true,\"tickcolor\":\"rgb(51,51,51)\",\"ticks\":\"outside\"}},\"xaxis\":{\"automargin\":true,\"gridcolor\":\"white\",\"linecolor\":\"white\",\"showgrid\":true,\"tickcolor\":\"rgb(51,51,51)\",\"ticks\":\"outside\",\"title\":{\"standoff\":15},\"zerolinecolor\":\"white\"},\"yaxis\":{\"automargin\":true,\"gridcolor\":\"white\",\"linecolor\":\"white\",\"showgrid\":true,\"tickcolor\":\"rgb(51,51,51)\",\"ticks\":\"outside\",\"title\":{\"standoff\":15},\"zerolinecolor\":\"white\"}}},\"xaxis\":{\"anchor\":\"y\",\"domain\":[0.0,1.0],\"title\":{\"text\":\"Date\"}},\"yaxis\":{\"anchor\":\"x\",\"domain\":[0.0,1.0],\"title\":{\"text\":\"Dollar Sales ($)\"}},\"legend\":{\"title\":{\"text\":\"Brand\"},\"tracegroupgap\":0},\"title\":{\"text\":\"Dollar Sales over Time for GARDEIN and MORNINGSTAR FARMS\",\"font\":{\"size\":20,\"family\":\"Arial\"}},\"font\":{\"size\":14,\"family\":\"Arial\"}},                        {\"responsive\": true}                    ).then(function(){\n",
              "                            \n",
              "var gd = document.getElementById('7ae95ee2-1e37-4cb3-ae37-bd8b439d4256');\n",
              "var x = new MutationObserver(function (mutations, observer) {{\n",
              "        var display = window.getComputedStyle(gd).display;\n",
              "        if (!display || display === 'none') {{\n",
              "            console.log([gd, 'removed!']);\n",
              "            Plotly.purge(gd);\n",
              "            observer.disconnect();\n",
              "        }}\n",
              "}});\n",
              "\n",
              "// Listen for the removal of the full notebook cells\n",
              "var notebookContainer = gd.closest('#notebook-container');\n",
              "if (notebookContainer) {{\n",
              "    x.observe(notebookContainer, {childList: true});\n",
              "}}\n",
              "\n",
              "// Listen for the clearing of the current output cell\n",
              "var outputEl = gd.closest('.output');\n",
              "if (outputEl) {{\n",
              "    x.observe(outputEl, {childList: true});\n",
              "}}\n",
              "\n",
              "                        })                };                            </script>        </div>\n",
              "</body>\n",
              "</html>"
            ]
          },
          "metadata": {}
        }
      ]
    },
    {
      "cell_type": "code",
      "source": [
        "data['Form'].unique()"
      ],
      "metadata": {
        "colab": {
          "base_uri": "https://localhost:8080/"
        },
        "id": "oDjsDycwl7Up",
        "outputId": "1b7ad1b0-59f1-4f9b-f02f-e90e6fe4325b"
      },
      "execution_count": null,
      "outputs": [
        {
          "output_type": "execute_result",
          "data": {
            "text/plain": [
              "array(['GROUND', 'BALL', 'BURGER PATTY', 'CRUMBLE', 'PATTY', 'BURGER',\n",
              "       'LINK', 'MEATBALL', 'PIECE', 'SLICED', 'STEAK', 'SPARE RIBS',\n",
              "       'CHUNK', 'TIP', 'SLICE', 'BREAKFAST PATTY', 'FILET', 'SLIDER',\n",
              "       'CAKE', 'STRIP', 'BITE', 'POPPER', 'BREAKFAST SAUSAGE PATTY',\n",
              "       'HOT DOG', 'PULLED', 'BREAKFAST LINK', 'FRANK', 'ROAST', 'WHOLE',\n",
              "       'STICK', 'NOT STATED ON PACKAGE', 'BLOCK', 'ROLL', 'NUGGET',\n",
              "       'BREAST', 'FINGER', 'TENDER', 'WING', 'CUTLET', 'DICED', 'POPCORN',\n",
              "       'DIPPER', 'BREAKFAST BITES', 'CHUB', 'DINNER SAUSAGE LINK', 'CUBE',\n",
              "       'BAR', 'LOAF', 'MEAT LOAF', 'BRATWURST', 'BREAKFAST SAUSAGE ROLL',\n",
              "       'SPLIT ROPE', 'ROPE', 'ULTRA THIN SLICE', 'DELI SLICED', 'CUT',\n",
              "       'BREAKFAST SAUSAGE LINK', 'GIZZARD', 'RIBLET', 'SAUSAGE',\n",
              "       'DINNER LINK', 'DRUMSTICK', 'FUN NUGGETS', 'SHREDS', 'SHREDDED',\n",
              "       'FRIES', 'TENDERS', 'BINGS', 'SAUSAGE PATTY', 'BAO BUN'],\n",
              "      dtype=object)"
            ]
          },
          "metadata": {},
          "execution_count": 12
        }
      ]
    },
    {
      "cell_type": "code",
      "source": [
        "replacements = {\n",
        "    # BURGER forms\n",
        "    'BURGER PATTY': 'BURGER',\n",
        "    'PATTY': 'BURGER',\n",
        "    'SLIDER': 'BURGER',\n",
        "\n",
        "    # BREAKFAST forms\n",
        "    'BREAKFAST PATTY': 'BREAKFAST SAUSAGE',\n",
        "    'BREAKFAST SAUSAGE PATTY': 'BREAKFAST SAUSAGE',\n",
        "    'BREAKFAST BITES': 'BREAKFAST SAUSAGE',\n",
        "    'BREAKFAST LINK': 'BREAKFAST SAUSAGE LINK',\n",
        "    'BREAKFAST SAUSAGE ROLL': 'BREAKFAST SAUSAGE',\n",
        "    'BREAKFAST SAUSAGE LINK': 'BREAKFAST SAUSAGE LINK',\n",
        "\n",
        "    # NUGGET forms\n",
        "    'NUGGET': 'FUN NUGGETS',\n",
        "    'FUN NUGGETS': 'NUGGET',\n",
        "    'POPCORN': 'NUGGET',\n",
        "    'FRIES': 'NUGGET',\n",
        "\n",
        "    # SAUSAGE forms\n",
        "    'DINNER SAUSAGE LINK': 'SAUSAGE LINK',\n",
        "    'DINNER LINK': 'SAUSAGE LINK',\n",
        "    'SAUSAGE PATTY': 'SAUSAGE',\n",
        "    'BRATWURST': 'SAUSAGE',\n",
        "    'ROPE': 'SAUSAGE',\n",
        "    'SPLIT ROPE': 'SAUSAGE',\n",
        "    'CHUB': 'ROLL',\n",
        "\n",
        "    # RIB forms\n",
        "    'RIBLET': 'RIBS',\n",
        "    'SPARE RIBS': 'RIBS',\n",
        "\n",
        "    # STEAK forms\n",
        "    'FILET': 'STEAK',\n",
        "    'TIP': 'STEAK',\n",
        "\n",
        "    # CHUNK forms\n",
        "    'PIECE': 'CHUNK',\n",
        "    'CHUNK': 'CHUNK',\n",
        "    'CUBE': 'CHUNK',\n",
        "\n",
        "    # SLICED forms\n",
        "    'SLICE': 'SLICED',\n",
        "    'STRIP': 'SLICED',\n",
        "    'ULTRA THIN SLICE': 'SLICED',\n",
        "    'DELI SLICED': 'SLICED',\n",
        "\n",
        "    # TENDER forms\n",
        "    'BREAST': 'TENDER',\n",
        "    'FINGER': 'TENDER',\n",
        "    'TENDERS': 'TENDER',\n",
        "    'DIPPER': 'TENDER',\n",
        "\n",
        "    # OTHER forms\n",
        "    'HOT DOG': 'FRANK',\n",
        "    'MEAT LOAF': 'MEAT LOAF',\n",
        "    'LOAF': 'MEAT LOAF',\n",
        "    'GROUND': 'GROUND',\n",
        "    'BALL': 'BALL',\n",
        "    'BLOCK': 'BLOCK',\n",
        "    'BAR': 'BLOCK',\n",
        "    'ROAST': 'ROAST',\n",
        "    'WHOLE': 'WHOLE',\n",
        "    'CUT': 'DICED',\n",
        "    'DICED': 'DICED',\n",
        "    'CAKE': 'PIECE',\n",
        "    'BAO BUN': 'BUN',\n",
        "    'GIZZARD': 'GIZZARD',\n",
        "    'BITE': 'BITE',\n",
        "    'POPPER': 'POPPER',\n",
        "    'LINK': 'LINK',\n",
        "    'MEATBALL': 'MEATBALL',\n",
        "    'CRUMBLE': 'CRUMBLE',\n",
        "    'DRUMSTICK': 'DRUMSTICK',\n",
        "    'WING': 'WING',\n",
        "    'ROPE': 'ROPE',\n",
        "    'SHREDS': 'SHREDDED',\n",
        "    'SHREDDED': 'SHREDDED',\n",
        "    'NOT STATED ON PACKAGE': 'UNKNOWN',\n",
        "    'BINGS': 'UNKNOWN',\n",
        "}"
      ],
      "metadata": {
        "id": "D_9lak40y6kG"
      },
      "execution_count": null,
      "outputs": []
    },
    {
      "cell_type": "code",
      "source": [
        "data['Form'] = data['Form'].replace(replacements)"
      ],
      "metadata": {
        "id": "WZWYBs2I1JfR"
      },
      "execution_count": null,
      "outputs": []
    },
    {
      "cell_type": "code",
      "source": [
        "data['Form'].unique()"
      ],
      "metadata": {
        "colab": {
          "base_uri": "https://localhost:8080/"
        },
        "id": "ZDLJ3TLc1R4Q",
        "outputId": "27ab4023-c156-42a4-830b-e5348d365e9f"
      },
      "execution_count": null,
      "outputs": [
        {
          "output_type": "execute_result",
          "data": {
            "text/plain": [
              "array(['GROUND', 'BALL', 'BURGER', 'CRUMBLE', 'LINK', 'MEATBALL', 'CHUNK',\n",
              "       'SLICED', 'STEAK', 'RIBS', 'BREAKFAST SAUSAGE', 'PIECE', 'BITE',\n",
              "       'POPPER', 'FRANK', 'PULLED', 'BREAKFAST SAUSAGE LINK', 'ROAST',\n",
              "       'WHOLE', 'STICK', 'UNKNOWN', 'BLOCK', 'ROLL', 'FUN NUGGETS',\n",
              "       'TENDER', 'WING', 'CUTLET', 'DICED', 'NUGGET', 'SAUSAGE LINK',\n",
              "       'MEAT LOAF', 'SAUSAGE', 'ROPE', 'GIZZARD', 'DRUMSTICK', 'SHREDDED',\n",
              "       'BUN'], dtype=object)"
            ]
          },
          "metadata": {},
          "execution_count": 15
        }
      ]
    },
    {
      "cell_type": "code",
      "source": [
        "data.info()"
      ],
      "metadata": {
        "colab": {
          "base_uri": "https://localhost:8080/"
        },
        "id": "3RYft-lC1xJi",
        "outputId": "4901790a-6782-4335-888b-0b4183e78808"
      },
      "execution_count": null,
      "outputs": [
        {
          "output_type": "stream",
          "name": "stdout",
          "text": [
            "<class 'pandas.core.frame.DataFrame'>\n",
            "RangeIndex: 991780 entries, 0 to 991779\n",
            "Data columns (total 69 columns):\n",
            " #   Column                                           Non-Null Count   Dtype         \n",
            "---  ------                                           --------------   -----         \n",
            " 0   Product_x                                        991780 non-null  object        \n",
            " 1   UPC 13 digit                                     991780 non-null  int64         \n",
            " 2   Unit Sales                                       991780 non-null  int64         \n",
            " 3   Unit Sales No Merch                              991780 non-null  int64         \n",
            " 4   Unit Sales Any Merch                             991780 non-null  int64         \n",
            " 5   Unit Sales Price Reductions Only                 991780 non-null  int64         \n",
            " 6   Unit Sales Feature Only                          991780 non-null  int64         \n",
            " 7   Unit Sales Display Only                          991780 non-null  int64         \n",
            " 8   Unit Sales Feature and Display                   991780 non-null  int64         \n",
            " 9   Volume Sales                                     991780 non-null  float64       \n",
            " 10  Volume Sales No Merch                            991780 non-null  int64         \n",
            " 11  Volume Sales Any Merch                           991780 non-null  int64         \n",
            " 12  Volume Sales Price Reductions Only               991780 non-null  int64         \n",
            " 13  Volume Sales Feature Only                        991780 non-null  int64         \n",
            " 14  Volume Sales Display Only                        991780 non-null  int64         \n",
            " 15  Volume Sales Feature and Display                 991780 non-null  int64         \n",
            " 16  Dollar Sales                                     991780 non-null  float64       \n",
            " 17  Dollar Sales No Merch                            971731 non-null  float64       \n",
            " 18  Dollar Sales Any Merch                           660538 non-null  float64       \n",
            " 19  Dollar Sales Price Reductions Only               623096 non-null  float64       \n",
            " 20  Dollar Sales Feature Only                        119887 non-null  float64       \n",
            " 21  Dollar Sales Display Only                        243480 non-null  float64       \n",
            " 22  Dollar Sales Special Pack Only                   0 non-null       float64       \n",
            " 23  Dollar Sales Feature and Display                 30497 non-null   float64       \n",
            " 24  Price per Unit                                   991780 non-null  float64       \n",
            " 25  Price per Unit No Merch                          971731 non-null  float64       \n",
            " 26  Price per Unit Any Merch                         660538 non-null  float64       \n",
            " 27  Price per Unit Price Reductions Only             623096 non-null  float64       \n",
            " 28  Price per Unit Feature Only                      119887 non-null  float64       \n",
            " 29  Price per Unit Display Only                      243480 non-null  float64       \n",
            " 30  Price per Unit Feature and Display               30497 non-null   float64       \n",
            " 31  Price per Volume                                 991780 non-null  float64       \n",
            " 32  Price per Volume No Merch                        971731 non-null  float64       \n",
            " 33  Price per Volume Any Merch                       660538 non-null  float64       \n",
            " 34  Price per Volume Price Reductions Only           623096 non-null  float64       \n",
            " 35  Price per Volume Feature Only                    119887 non-null  float64       \n",
            " 36  Price per Volume Display Only                    243480 non-null  float64       \n",
            " 37  Price per Volume Special Pack Only               0 non-null       float64       \n",
            " 38  Price per Volume Feature and Display             30497 non-null   float64       \n",
            " 39  Base Unit Sales                                  991780 non-null  int64         \n",
            " 40  Base Volume Sales                                991780 non-null  int64         \n",
            " 41  Base Dollar Sales                                991780 non-null  float64       \n",
            " 42  Incremental Units                                660538 non-null  float64       \n",
            " 43  Incremental Volume                               660538 non-null  float64       \n",
            " 44  Incremental Dollars                              660538 non-null  float64       \n",
            " 45  ACV Weighted Distribution                        991780 non-null  float64       \n",
            " 46  ACV Weighted Distribution No Merch               971731 non-null  float64       \n",
            " 47  ACV Weighted Distribution Any Merch              660538 non-null  float64       \n",
            " 48  ACV Weighted Distribution Price Reductions Only  623096 non-null  float64       \n",
            " 49  ACV Weighted Distribution Feature Only           119887 non-null  float64       \n",
            " 50  ACV Weighted Distribution Display Only           243480 non-null  float64       \n",
            " 51  ACV Weighted Distribution Feature and Display    30497 non-null   float64       \n",
            " 52  Aisle Name                                       991780 non-null  object        \n",
            " 53  Category Name                                    991780 non-null  object        \n",
            " 54  Sub-Category Name                                991780 non-null  object        \n",
            " 55  Manufacturer Name                                991780 non-null  object        \n",
            " 56  Brand Franchise Name                             991780 non-null  object        \n",
            " 57  Brand Name                                       991780 non-null  object        \n",
            " 58  Package                                          991780 non-null  object        \n",
            " 59  Total Count                                      991780 non-null  int64         \n",
            " 60  Total Ounces                                     991780 non-null  float64       \n",
            " 61  Form                                             991780 non-null  object        \n",
            " 62  Flavor / Scent                                   991780 non-null  object        \n",
            " 63  Product Type                                     991780 non-null  object        \n",
            " 64  Type Of Meat Substituted                         733238 non-null  object        \n",
            " 65  Type Of Substitute                               733238 non-null  object        \n",
            " 66  Cooked Info                                      991780 non-null  object        \n",
            " 67  Date                                             991780 non-null  datetime64[ns]\n",
            " 68  Region                                           991780 non-null  object        \n",
            "dtypes: datetime64[ns](1), float64(36), int64(17), object(15)\n",
            "memory usage: 522.1+ MB\n"
          ]
        }
      ]
    },
    {
      "cell_type": "code",
      "source": [
        "data['Region'].unique()"
      ],
      "metadata": {
        "colab": {
          "base_uri": "https://localhost:8080/"
        },
        "id": "w3JKALAN13qp",
        "outputId": "bef8a15f-6d88-46b3-d29e-5011613694d8"
      },
      "execution_count": null,
      "outputs": [
        {
          "output_type": "execute_result",
          "data": {
            "text/plain": [
              "array(['Total US ', 'California ', 'Great Lakes ', 'Mid', 'Northeast ',\n",
              "       'Plains ', 'South Central ', 'Southeast ', 'West '], dtype=object)"
            ]
          },
          "metadata": {},
          "execution_count": 17
        }
      ]
    },
    {
      "cell_type": "code",
      "source": [
        "data['Region'].unique()"
      ],
      "metadata": {
        "colab": {
          "base_uri": "https://localhost:8080/"
        },
        "id": "FV5sk4w25I86",
        "outputId": "600cffd1-01cf-42e3-d8b3-9de11ef86dbd"
      },
      "execution_count": null,
      "outputs": [
        {
          "output_type": "execute_result",
          "data": {
            "text/plain": [
              "array(['Total US ', 'California ', 'Great Lakes ', 'Mid', 'Northeast ',\n",
              "       'Plains ', 'South Central ', 'Southeast ', 'West '], dtype=object)"
            ]
          },
          "metadata": {},
          "execution_count": 18
        }
      ]
    },
    {
      "cell_type": "code",
      "source": [
        "data['Total Ounces'] = np.round(data['Total Ounces']).astype(int)\n",
        "data['Total Ounces'] = data['Total Ounces'].astype('category')"
      ],
      "metadata": {
        "id": "ViXzImos3NLE"
      },
      "execution_count": null,
      "outputs": []
    },
    {
      "cell_type": "code",
      "source": [
        "# Extract the week value from the \"Time\" column and store it as a categorical column\n",
        "data['Week'] = data['Date'].dt.isocalendar().week  # Extract week\n",
        "data['Week'] = data['Week'].astype('category')\n",
        "\n",
        "# Extract the year value from the \"Time\" column and store it as a categorical column\n",
        "data['Year'] = data['Date'].dt.isocalendar().year  # Extract year\n",
        "data['Year'] = data['Year'].astype('category')"
      ],
      "metadata": {
        "id": "_5DxIzrL5D0s"
      },
      "execution_count": null,
      "outputs": []
    },
    {
      "cell_type": "code",
      "source": [
        "data.info()"
      ],
      "metadata": {
        "colab": {
          "base_uri": "https://localhost:8080/"
        },
        "id": "Yr6bXF4A6T5Y",
        "outputId": "7b56ed7a-ce6d-4727-ee4b-0185c73b9234"
      },
      "execution_count": null,
      "outputs": [
        {
          "output_type": "stream",
          "name": "stdout",
          "text": [
            "<class 'pandas.core.frame.DataFrame'>\n",
            "RangeIndex: 991780 entries, 0 to 991779\n",
            "Data columns (total 71 columns):\n",
            " #   Column                                           Non-Null Count   Dtype         \n",
            "---  ------                                           --------------   -----         \n",
            " 0   Product_x                                        991780 non-null  object        \n",
            " 1   UPC 13 digit                                     991780 non-null  int64         \n",
            " 2   Unit Sales                                       991780 non-null  int64         \n",
            " 3   Unit Sales No Merch                              991780 non-null  int64         \n",
            " 4   Unit Sales Any Merch                             991780 non-null  int64         \n",
            " 5   Unit Sales Price Reductions Only                 991780 non-null  int64         \n",
            " 6   Unit Sales Feature Only                          991780 non-null  int64         \n",
            " 7   Unit Sales Display Only                          991780 non-null  int64         \n",
            " 8   Unit Sales Feature and Display                   991780 non-null  int64         \n",
            " 9   Volume Sales                                     991780 non-null  float64       \n",
            " 10  Volume Sales No Merch                            991780 non-null  int64         \n",
            " 11  Volume Sales Any Merch                           991780 non-null  int64         \n",
            " 12  Volume Sales Price Reductions Only               991780 non-null  int64         \n",
            " 13  Volume Sales Feature Only                        991780 non-null  int64         \n",
            " 14  Volume Sales Display Only                        991780 non-null  int64         \n",
            " 15  Volume Sales Feature and Display                 991780 non-null  int64         \n",
            " 16  Dollar Sales                                     991780 non-null  float64       \n",
            " 17  Dollar Sales No Merch                            971731 non-null  float64       \n",
            " 18  Dollar Sales Any Merch                           660538 non-null  float64       \n",
            " 19  Dollar Sales Price Reductions Only               623096 non-null  float64       \n",
            " 20  Dollar Sales Feature Only                        119887 non-null  float64       \n",
            " 21  Dollar Sales Display Only                        243480 non-null  float64       \n",
            " 22  Dollar Sales Special Pack Only                   0 non-null       float64       \n",
            " 23  Dollar Sales Feature and Display                 30497 non-null   float64       \n",
            " 24  Price per Unit                                   991780 non-null  float64       \n",
            " 25  Price per Unit No Merch                          971731 non-null  float64       \n",
            " 26  Price per Unit Any Merch                         660538 non-null  float64       \n",
            " 27  Price per Unit Price Reductions Only             623096 non-null  float64       \n",
            " 28  Price per Unit Feature Only                      119887 non-null  float64       \n",
            " 29  Price per Unit Display Only                      243480 non-null  float64       \n",
            " 30  Price per Unit Feature and Display               30497 non-null   float64       \n",
            " 31  Price per Volume                                 991780 non-null  float64       \n",
            " 32  Price per Volume No Merch                        971731 non-null  float64       \n",
            " 33  Price per Volume Any Merch                       660538 non-null  float64       \n",
            " 34  Price per Volume Price Reductions Only           623096 non-null  float64       \n",
            " 35  Price per Volume Feature Only                    119887 non-null  float64       \n",
            " 36  Price per Volume Display Only                    243480 non-null  float64       \n",
            " 37  Price per Volume Special Pack Only               0 non-null       float64       \n",
            " 38  Price per Volume Feature and Display             30497 non-null   float64       \n",
            " 39  Base Unit Sales                                  991780 non-null  int64         \n",
            " 40  Base Volume Sales                                991780 non-null  int64         \n",
            " 41  Base Dollar Sales                                991780 non-null  float64       \n",
            " 42  Incremental Units                                660538 non-null  float64       \n",
            " 43  Incremental Volume                               660538 non-null  float64       \n",
            " 44  Incremental Dollars                              660538 non-null  float64       \n",
            " 45  ACV Weighted Distribution                        991780 non-null  float64       \n",
            " 46  ACV Weighted Distribution No Merch               971731 non-null  float64       \n",
            " 47  ACV Weighted Distribution Any Merch              660538 non-null  float64       \n",
            " 48  ACV Weighted Distribution Price Reductions Only  623096 non-null  float64       \n",
            " 49  ACV Weighted Distribution Feature Only           119887 non-null  float64       \n",
            " 50  ACV Weighted Distribution Display Only           243480 non-null  float64       \n",
            " 51  ACV Weighted Distribution Feature and Display    30497 non-null   float64       \n",
            " 52  Aisle Name                                       991780 non-null  object        \n",
            " 53  Category Name                                    991780 non-null  object        \n",
            " 54  Sub-Category Name                                991780 non-null  object        \n",
            " 55  Manufacturer Name                                991780 non-null  object        \n",
            " 56  Brand Franchise Name                             991780 non-null  object        \n",
            " 57  Brand Name                                       991780 non-null  object        \n",
            " 58  Package                                          991780 non-null  object        \n",
            " 59  Total Count                                      991780 non-null  int64         \n",
            " 60  Total Ounces                                     991780 non-null  category      \n",
            " 61  Form                                             991780 non-null  object        \n",
            " 62  Flavor / Scent                                   991780 non-null  object        \n",
            " 63  Product Type                                     991780 non-null  object        \n",
            " 64  Type Of Meat Substituted                         733238 non-null  object        \n",
            " 65  Type Of Substitute                               733238 non-null  object        \n",
            " 66  Cooked Info                                      991780 non-null  object        \n",
            " 67  Date                                             991780 non-null  datetime64[ns]\n",
            " 68  Region                                           991780 non-null  object        \n",
            " 69  Week                                             991780 non-null  category      \n",
            " 70  Year                                             991780 non-null  category      \n",
            "dtypes: category(3), datetime64[ns](1), float64(35), int64(17), object(15)\n",
            "memory usage: 517.4+ MB\n"
          ]
        }
      ]
    },
    {
      "cell_type": "code",
      "source": [
        "data = data[data['Region'] != 'Total US ']"
      ],
      "metadata": {
        "id": "3TUwGKWDEXZv"
      },
      "execution_count": null,
      "outputs": []
    },
    {
      "cell_type": "code",
      "source": [
        "data['Product Type'].unique()"
      ],
      "metadata": {
        "colab": {
          "base_uri": "https://localhost:8080/"
        },
        "id": "pDvV8ZqbFKVB",
        "outputId": "a5aa4488-f569-4a57-c801-0da0d6440fee"
      },
      "execution_count": null,
      "outputs": [
        {
          "output_type": "execute_result",
          "data": {
            "text/plain": [
              "array(['MEAT SUBSTITUTE', 'FISH SUBSTITUTE', 'SEAFOOD SUBSTITUTE',\n",
              "       'FALAFEL', 'TEMPEH', 'POULTRY SUBSTITUTE',\n",
              "       'PLANT BASED CHICKEN SUBSTITUTE', 'PLANT BASED SUBSTITUTE',\n",
              "       'CHICKEN SUBSTITUTE', 'SOY SUBSTITUTE', 'TOFU', 'TOFU SUBSTITUTE',\n",
              "       'SEITAN', 'PLANT BASED TURKEY SUBSTITUTE', 'BURGER',\n",
              "       'TEMPEH SUBSTITUTE', 'SOY', 'VEGETABLE MEAT SUBSTITUTE'],\n",
              "      dtype=object)"
            ]
          },
          "metadata": {},
          "execution_count": 23
        }
      ]
    },
    {
      "cell_type": "code",
      "source": [
        "category_mapping = {\n",
        "    # General Meat Substitutes\n",
        "    'MEAT SUBSTITUTE': 'PLANT BASED MEAT SUBSTITUTE',\n",
        "    'PLANT BASED SUBSTITUTE': 'PLANT BASED MEAT SUBSTITUTE',\n",
        "    'VEGETABLE MEAT SUBSTITUTE': 'PLANT BASED MEAT SUBSTITUTE',\n",
        "\n",
        "    # Poultry Substitutes\n",
        "    'POULTRY SUBSTITUTE': 'POULTRY SUBSTITUTE',\n",
        "    'CHICKEN SUBSTITUTE': 'POULTRY SUBSTITUTE',\n",
        "    'PLANT BASED CHICKEN SUBSTITUTE': 'POULTRY SUBSTITUTE',\n",
        "    'PLANT BASED TURKEY SUBSTITUTE': 'POULTRY SUBSTITUTE',\n",
        "\n",
        "    # Seafood Substitutes\n",
        "    'FISH SUBSTITUTE': 'SEAFOOD SUBSTITUTE',\n",
        "    'SEAFOOD SUBSTITUTE': 'SEAFOOD SUBSTITUTE',\n",
        "\n",
        "    # Soy-Based Products\n",
        "    'SOY SUBSTITUTE': 'SOY SUBSTITUTE',\n",
        "    'SOY': 'SOY SUBSTITUTE',\n",
        "\n",
        "    # Tofu and Substitutes\n",
        "    'TOFU': 'TOFU',\n",
        "    'TOFU SUBSTITUTE': 'TOFU',\n",
        "\n",
        "    # Tempeh and Substitutes\n",
        "    'TEMPEH': 'TEMPEH',\n",
        "    'TEMPEH SUBSTITUTE': 'TEMPEH',\n",
        "\n",
        "    # Specific Products\n",
        "    'BURGER': 'BURGER',\n",
        "    'SEITAN': 'SEITAN',\n",
        "    'FALAFEL': 'FALAFEL'\n",
        "}\n",
        "\n",
        "# Apply the mapping to standardize the 'Category' column\n",
        "data['Product Type'] = data['Product Type'].map(category_mapping)"
      ],
      "metadata": {
        "id": "GO7gptIXIoEP"
      },
      "execution_count": null,
      "outputs": []
    },
    {
      "cell_type": "code",
      "source": [
        "data['Product Type'].unique()"
      ],
      "metadata": {
        "colab": {
          "base_uri": "https://localhost:8080/"
        },
        "id": "8xCe3B5yJBgb",
        "outputId": "0d5a933b-e6da-473d-9e87-4956649c7661"
      },
      "execution_count": null,
      "outputs": [
        {
          "output_type": "execute_result",
          "data": {
            "text/plain": [
              "array(['PLANT BASED MEAT SUBSTITUTE', 'SEAFOOD SUBSTITUTE', 'FALAFEL',\n",
              "       'TEMPEH', 'POULTRY SUBSTITUTE', 'SOY SUBSTITUTE', 'TOFU', 'SEITAN',\n",
              "       'BURGER'], dtype=object)"
            ]
          },
          "metadata": {},
          "execution_count": 25
        }
      ]
    },
    {
      "cell_type": "code",
      "source": [
        "import statsmodels.formula.api as smf\n",
        "\n",
        "# Correct the formula\n",
        "formula = 'Q(\"Unit Sales\") ~ Q(\"Product Type\") + Region + Week + Q(\"Price per Unit\") + Year + Week + Q(\"ACV Weighted Distribution\") + I(Q(\"ACV Weighted Distribution\")**2)'\n",
        "\n",
        "# Fit the model\n",
        "model = smf.ols(formula=formula, data=data).fit()\n",
        "\n",
        "# Print the summary of the model\n",
        "print(model.summary())"
      ],
      "metadata": {
        "colab": {
          "base_uri": "https://localhost:8080/"
        },
        "id": "3stzoUVI6olL",
        "outputId": "92523ee3-d50a-46cd-da36-6f881ccbe08d"
      },
      "execution_count": null,
      "outputs": [
        {
          "output_type": "stream",
          "name": "stdout",
          "text": [
            "                            OLS Regression Results                            \n",
            "==============================================================================\n",
            "Dep. Variable:        Q(\"Unit Sales\")   R-squared:                       0.706\n",
            "Model:                            OLS   Adj. R-squared:                  0.706\n",
            "Method:                 Least Squares   F-statistic:                 2.673e+04\n",
            "Date:                Thu, 05 Dec 2024   Prob (F-statistic):               0.00\n",
            "Time:                        05:24:09   Log-Likelihood:            -7.2337e+06\n",
            "No. Observations:              824367   AIC:                         1.447e+07\n",
            "Df Residuals:                  824292   BIC:                         1.447e+07\n",
            "Df Model:                          74                                         \n",
            "Covariance Type:            nonrobust                                         \n",
            "====================================================================================================================\n",
            "                                                       coef    std err          t      P>|t|      [0.025      0.975]\n",
            "--------------------------------------------------------------------------------------------------------------------\n",
            "Intercept                                         1679.7654     44.091     38.097      0.000    1593.348    1766.183\n",
            "Q(\"Product Type\")[T.FALAFEL]                     -1460.6980     56.735    -25.746      0.000   -1571.897   -1349.499\n",
            "Q(\"Product Type\")[T.PLANT BASED MEAT SUBSTITUTE] -1371.7705     41.727    -32.875      0.000   -1453.553   -1289.988\n",
            "Q(\"Product Type\")[T.POULTRY SUBSTITUTE]          -1507.3346     41.881    -35.991      0.000   -1589.419   -1425.250\n",
            "Q(\"Product Type\")[T.SEAFOOD SUBSTITUTE]          -1676.1166     44.217    -37.906      0.000   -1762.781   -1589.452\n",
            "Q(\"Product Type\")[T.SEITAN]                      -1459.5970     48.081    -30.357      0.000   -1553.835   -1365.359\n",
            "Q(\"Product Type\")[T.SOY SUBSTITUTE]              -1454.1720     51.278    -28.359      0.000   -1554.675   -1353.669\n",
            "Q(\"Product Type\")[T.TEMPEH]                      -1271.8436     44.842    -28.363      0.000   -1359.733   -1183.954\n",
            "Q(\"Product Type\")[T.TOFU]                        -1323.7872     43.596    -30.365      0.000   -1409.235   -1238.340\n",
            "Region[T.Great Lakes ]                             161.2036      6.857     23.509      0.000     147.764     174.643\n",
            "Region[T.Mid]                                      237.0154      6.741     35.161      0.000     223.804     250.227\n",
            "Region[T.Northeast ]                               504.2817      6.543     77.077      0.000     491.458     517.105\n",
            "Region[T.Plains ]                                 -230.5161      7.209    -31.978      0.000    -244.645    -216.387\n",
            "Region[T.South Central ]                             4.7784      7.332      0.652      0.515      -9.592      19.149\n",
            "Region[T.Southeast ]                               383.1822      7.197     53.239      0.000     369.076     397.289\n",
            "Region[T.West ]                                   -131.2315      6.996    -18.759      0.000    -144.943    -117.520\n",
            "Week[T.2]                                           13.3291     16.826      0.792      0.428     -19.650      46.308\n",
            "Week[T.3]                                          -78.3940     16.838     -4.656      0.000    -111.396     -45.392\n",
            "Week[T.4]                                          -96.9911     18.056     -5.372      0.000    -132.381     -61.602\n",
            "Week[T.5]                                         -144.1639     18.062     -7.982      0.000    -179.565    -108.763\n",
            "Week[T.6]                                         -157.7992     18.077     -8.729      0.000    -193.229    -122.369\n",
            "Week[T.7]                                         -162.1979     18.088     -8.967      0.000    -197.649    -126.746\n",
            "Week[T.8]                                         -123.5190     18.088     -6.829      0.000    -158.971     -88.067\n",
            "Week[T.9]                                         -102.4827     18.093     -5.664      0.000    -137.945     -67.021\n",
            "Week[T.10]                                         -73.8415     18.102     -4.079      0.000    -109.322     -38.362\n",
            "Week[T.11]                                          36.3094     18.086      2.008      0.045       0.861      71.758\n",
            "Week[T.12]                                          11.0512     18.086      0.611      0.541     -24.397      46.500\n",
            "Week[T.13]                                        -114.4555     18.082     -6.330      0.000    -149.897     -79.014\n",
            "Week[T.14]                                        -100.7910     18.076     -5.576      0.000    -136.220     -65.362\n",
            "Week[T.15]                                        -102.9178     18.047     -5.703      0.000    -138.288     -67.547\n",
            "Week[T.16]                                         -95.8907     18.060     -5.310      0.000    -131.287     -60.495\n",
            "Week[T.17]                                         -83.8500     18.022     -4.653      0.000    -119.172     -48.527\n",
            "Week[T.18]                                         -82.8034     18.020     -4.595      0.000    -118.123     -47.484\n",
            "Week[T.19]                                         -72.1280     18.013     -4.004      0.000    -107.433     -36.823\n",
            "Week[T.20]                                         -63.2423     18.042     -3.505      0.000     -98.604     -27.880\n",
            "Week[T.21]                                           3.5388     18.032      0.196      0.844     -31.803      38.880\n",
            "Week[T.22]                                         -26.6907     18.058     -1.478      0.139     -62.085       8.703\n",
            "Week[T.23]                                         -54.5582     18.058     -3.021      0.003     -89.952     -19.164\n",
            "Week[T.24]                                         -39.3721     18.063     -2.180      0.029     -74.775      -3.969\n",
            "Week[T.25]                                         -52.3633     18.092     -2.894      0.004     -87.823     -16.904\n",
            "Week[T.26]                                          47.4285     18.064      2.626      0.009      12.024      82.833\n",
            "Week[T.27]                                          15.0683     18.070      0.834      0.404     -20.349      50.485\n",
            "Week[T.28]                                         -61.0374     18.104     -3.371      0.001     -96.521     -25.554\n",
            "Week[T.29]                                         -64.2791     18.117     -3.548      0.000     -99.788     -28.771\n",
            "Week[T.30]                                         -91.5771     18.122     -5.053      0.000    -127.095     -56.059\n",
            "Week[T.31]                                         -82.7263     18.119     -4.566      0.000    -118.239     -47.213\n",
            "Week[T.32]                                         -68.7933     18.113     -3.798      0.000    -104.294     -33.292\n",
            "Week[T.33]                                         -74.7126     18.116     -4.124      0.000    -110.219     -39.206\n",
            "Week[T.34]                                         -66.6597     18.126     -3.678      0.000    -102.187     -31.133\n",
            "Week[T.35]                                         -32.6060     18.112     -1.800      0.072     -68.105       2.893\n",
            "Week[T.36]                                         -78.8236     18.111     -4.352      0.000    -114.320     -43.327\n",
            "Week[T.37]                                        -113.7907     18.135     -6.275      0.000    -149.335     -78.247\n",
            "Week[T.38]                                        -134.2295     18.114     -7.410      0.000    -169.732     -98.727\n",
            "Week[T.39]                                        -129.3751     18.115     -7.142      0.000    -164.879     -93.871\n",
            "Week[T.40]                                        -123.6040     18.079     -6.837      0.000    -159.038     -88.170\n",
            "Week[T.41]                                        -139.6510     18.050     -7.737      0.000    -175.029    -104.273\n",
            "Week[T.42]                                        -155.9810     18.062     -8.636      0.000    -191.382    -120.580\n",
            "Week[T.43]                                        -174.3012     18.046     -9.659      0.000    -209.671    -138.931\n",
            "Week[T.44]                                        -167.0104     18.035     -9.260      0.000    -202.359    -131.662\n",
            "Week[T.45]                                        -180.1024     18.033     -9.988      0.000    -215.446    -144.759\n",
            "Week[T.46]                                        -216.1338     18.043    -11.979      0.000    -251.498    -180.770\n",
            "Week[T.47]                                        -277.8631     18.088    -15.362      0.000    -313.315    -242.411\n",
            "Week[T.48]                                        -251.9105     18.065    -13.944      0.000    -287.318    -216.503\n",
            "Week[T.49]                                        -211.5559     18.067    -11.710      0.000    -246.966    -176.146\n",
            "Week[T.50]                                        -229.0786     18.084    -12.667      0.000    -264.523    -193.634\n",
            "Week[T.51]                                        -263.5556     18.104    -14.558      0.000    -299.039    -228.072\n",
            "Week[T.52]                                        -287.8543     18.100    -15.903      0.000    -323.330    -252.379\n",
            "Week[T.53]                                        -255.3001     28.959     -8.816      0.000    -312.059    -198.541\n",
            "Year[T.2021]                                       -89.8584      5.057    -17.770      0.000     -99.769     -79.947\n",
            "Year[T.2022]                                      -199.7020      4.998    -39.955      0.000    -209.498    -189.906\n",
            "Year[T.2023]                                      -277.6196      5.141    -54.003      0.000    -287.695    -267.544\n",
            "Year[T.2024]                                      -380.5642     17.455    -21.803      0.000    -414.775    -346.353\n",
            "Q(\"Price per Unit\")                                 -4.3924      0.755     -5.816      0.000      -5.873      -2.912\n",
            "Q(\"ACV Weighted Distribution\")                      37.2079      0.381     97.565      0.000      36.460      37.955\n",
            "I(Q(\"ACV Weighted Distribution\") ** 2)               3.0100      0.008    388.746      0.000       2.995       3.025\n",
            "==============================================================================\n",
            "Omnibus:                  1957160.015   Durbin-Watson:                   1.545\n",
            "Prob(Omnibus):                  0.000   Jarque-Bera (JB):     114890635824.708\n",
            "Skew:                          23.411   Prob(JB):                         0.00\n",
            "Kurtosis:                    1831.291   Cond. No.                     5.05e+04\n",
            "==============================================================================\n",
            "\n",
            "Notes:\n",
            "[1] Standard Errors assume that the covariance matrix of the errors is correctly specified.\n",
            "[2] The condition number is large, 5.05e+04. This might indicate that there are\n",
            "strong multicollinearity or other numerical problems.\n"
          ]
        }
      ]
    },
    {
      "cell_type": "code",
      "source": [
        "model = smf.ols(\n",
        "    formula=\"Q('Unit Sales') ~ C(Q('Product Type'), Treatment('TOFU')) * C(Region, Treatment('California ')) + C(Week, Treatment(1)) + C(Q('Total Ounces'),Treatment(1)) + C(Year, Treatment(2020)) + Q('Price per Unit') + Q('ACV Weighted Distribution') + I(Q('ACV Weighted Distribution')**2)\",\n",
        "    data=data,\n",
        "    standardize=True\n",
        ").fit()\n",
        "\n",
        "# Print the summary\n",
        "print(model.summary())"
      ],
      "metadata": {
        "colab": {
          "base_uri": "https://localhost:8080/"
        },
        "id": "FiiHvivd_HKG",
        "outputId": "389078c6-33d1-456e-d91d-d71f140cf18c"
      },
      "execution_count": null,
      "outputs": [
        {
          "output_type": "stream",
          "name": "stderr",
          "text": [
            "/usr/local/lib/python3.10/dist-packages/statsmodels/base/model.py:130: ValueWarning:\n",
            "\n",
            "unknown kwargs ['standardize']\n",
            "\n"
          ]
        },
        {
          "output_type": "stream",
          "name": "stdout",
          "text": [
            "                            OLS Regression Results                            \n",
            "==============================================================================\n",
            "Dep. Variable:        Q('Unit Sales')   R-squared:                       0.709\n",
            "Model:                            OLS   Adj. R-squared:                  0.709\n",
            "Method:                 Least Squares   F-statistic:                 1.183e+04\n",
            "Date:                Thu, 05 Dec 2024   Prob (F-statistic):               0.00\n",
            "Time:                        05:24:36   Log-Likelihood:            -7.2289e+06\n",
            "No. Observations:              824367   AIC:                         1.446e+07\n",
            "Df Residuals:                  824196   BIC:                         1.446e+07\n",
            "Df Model:                         170                                         \n",
            "Covariance Type:            nonrobust                                         \n",
            "================================================================================================================================================================================================\n",
            "                                                                                                                                   coef    std err          t      P>|t|      [0.025      0.975]\n",
            "------------------------------------------------------------------------------------------------------------------------------------------------------------------------------------------------\n",
            "Intercept                                                                                                                      130.3311     86.746      1.502      0.133     -39.688     300.351\n",
            "C(Q('Product Type'), Treatment('TOFU'))[T.BURGER]                                                                              394.2706    122.930      3.207      0.001     153.331     635.210\n",
            "C(Q('Product Type'), Treatment('TOFU'))[T.FALAFEL]                                                                            -146.1182    112.767     -1.296      0.195    -367.138      74.901\n",
            "C(Q('Product Type'), Treatment('TOFU'))[T.PLANT BASED MEAT SUBSTITUTE]                                                         -48.6061     32.223     -1.508      0.131    -111.761      14.549\n",
            "C(Q('Product Type'), Treatment('TOFU'))[T.POULTRY SUBSTITUTE]                                                                 -224.5095     33.886     -6.625      0.000    -290.925    -158.094\n",
            "C(Q('Product Type'), Treatment('TOFU'))[T.SEAFOOD SUBSTITUTE]                                                                 -397.2388     49.054     -8.098      0.000    -493.383    -301.095\n",
            "C(Q('Product Type'), Treatment('TOFU'))[T.SEITAN]                                                                             -206.3442     84.714     -2.436      0.015    -372.381     -40.308\n",
            "C(Q('Product Type'), Treatment('TOFU'))[T.SOY SUBSTITUTE]                                                                      -87.1647     70.732     -1.232      0.218    -225.797      51.467\n",
            "C(Q('Product Type'), Treatment('TOFU'))[T.TEMPEH]                                                                             -112.2729     55.056     -2.039      0.041    -220.181      -4.365\n",
            "C(Region, Treatment('California '))[T.Great Lakes ]                                                                             72.8619     45.823      1.590      0.112     -16.950     162.674\n",
            "C(Region, Treatment('California '))[T.Mid]                                                                                     224.1088     48.814      4.591      0.000     128.435     319.783\n",
            "C(Region, Treatment('California '))[T.Northeast ]                                                                              156.6952     43.428      3.608      0.000      71.577     241.813\n",
            "C(Region, Treatment('California '))[T.Plains ]                                                                                -112.4207     56.980     -1.973      0.048    -224.099      -0.743\n",
            "C(Region, Treatment('California '))[T.South Central ]                                                                         -121.1346     58.421     -2.073      0.038    -235.637      -6.632\n",
            "C(Region, Treatment('California '))[T.Southeast ]                                                                              482.1675     55.155      8.742      0.000     374.066     590.269\n",
            "C(Region, Treatment('California '))[T.West ]                                                                                   -38.0345     45.444     -0.837      0.403    -127.103      51.034\n",
            "C(Week, Treatment(1))[T.2]                                                                                                      14.7220     16.731      0.880      0.379     -18.069      47.513\n",
            "C(Week, Treatment(1))[T.3]                                                                                                     -77.0547     16.742     -4.603      0.000    -109.868     -44.241\n",
            "C(Week, Treatment(1))[T.4]                                                                                                     -94.5840     17.953     -5.268      0.000    -129.772     -59.396\n",
            "C(Week, Treatment(1))[T.5]                                                                                                    -141.0991     17.959     -7.857      0.000    -176.298    -105.900\n",
            "C(Week, Treatment(1))[T.6]                                                                                                    -154.0370     17.974     -8.570      0.000    -189.266    -118.808\n",
            "C(Week, Treatment(1))[T.7]                                                                                                    -158.1190     17.985     -8.792      0.000    -193.370    -122.868\n",
            "C(Week, Treatment(1))[T.8]                                                                                                    -119.4367     17.985     -6.641      0.000    -154.688     -84.186\n",
            "C(Week, Treatment(1))[T.9]                                                                                                    -100.1887     17.990     -5.569      0.000    -135.449     -64.928\n",
            "C(Week, Treatment(1))[T.10]                                                                                                    -71.7007     17.999     -3.984      0.000    -106.979     -36.423\n",
            "C(Week, Treatment(1))[T.11]                                                                                                     38.3798     17.984      2.134      0.033       3.133      73.627\n",
            "C(Week, Treatment(1))[T.12]                                                                                                     14.2906     17.984      0.795      0.427     -20.957      49.538\n",
            "C(Week, Treatment(1))[T.13]                                                                                                   -110.1256     17.980     -6.125      0.000    -145.366     -74.885\n",
            "C(Week, Treatment(1))[T.14]                                                                                                    -96.4173     17.974     -5.364      0.000    -131.646     -61.189\n",
            "C(Week, Treatment(1))[T.15]                                                                                                    -98.6501     17.944     -5.498      0.000    -133.820     -63.480\n",
            "C(Week, Treatment(1))[T.16]                                                                                                    -91.9463     17.957     -5.120      0.000    -127.142     -56.750\n",
            "C(Week, Treatment(1))[T.17]                                                                                                    -78.9691     17.920     -4.407      0.000    -114.092     -43.846\n",
            "C(Week, Treatment(1))[T.18]                                                                                                    -78.0851     17.919     -4.358      0.000    -113.205     -42.965\n",
            "C(Week, Treatment(1))[T.19]                                                                                                    -67.4430     17.911     -3.765      0.000    -102.549     -32.337\n",
            "C(Week, Treatment(1))[T.20]                                                                                                    -58.7599     17.940     -3.275      0.001     -93.922     -23.597\n",
            "C(Week, Treatment(1))[T.21]                                                                                                      7.8737     17.930      0.439      0.661     -27.268      43.016\n",
            "C(Week, Treatment(1))[T.22]                                                                                                    -22.1859     17.957     -1.236      0.217     -57.381      13.009\n",
            "C(Week, Treatment(1))[T.23]                                                                                                    -49.8427     17.957     -2.776      0.006     -85.038     -14.648\n",
            "C(Week, Treatment(1))[T.24]                                                                                                    -34.9944     17.962     -1.948      0.051     -70.199       0.210\n",
            "C(Week, Treatment(1))[T.25]                                                                                                    -47.7613     17.990     -2.655      0.008     -83.022     -12.501\n",
            "C(Week, Treatment(1))[T.26]                                                                                                     51.3603     17.962      2.859      0.004      16.155      86.566\n",
            "C(Week, Treatment(1))[T.27]                                                                                                     19.4047     17.969      1.080      0.280     -15.813      54.623\n",
            "C(Week, Treatment(1))[T.28]                                                                                                    -56.6559     18.003     -3.147      0.002     -91.940     -21.371\n",
            "C(Week, Treatment(1))[T.29]                                                                                                    -59.9374     18.016     -3.327      0.001     -95.247     -24.627\n",
            "C(Week, Treatment(1))[T.30]                                                                                                    -86.7579     18.021     -4.814      0.000    -122.078     -51.437\n",
            "C(Week, Treatment(1))[T.31]                                                                                                    -78.0848     18.018     -4.334      0.000    -113.400     -42.770\n",
            "C(Week, Treatment(1))[T.32]                                                                                                    -65.7055     18.012     -3.648      0.000    -101.008     -30.403\n",
            "C(Week, Treatment(1))[T.33]                                                                                                    -70.7335     18.015     -3.926      0.000    -106.042     -35.425\n",
            "C(Week, Treatment(1))[T.34]                                                                                                    -62.4016     18.025     -3.462      0.001     -97.731     -27.073\n",
            "C(Week, Treatment(1))[T.35]                                                                                                    -28.8391     18.011     -1.601      0.109     -64.140       6.461\n",
            "C(Week, Treatment(1))[T.36]                                                                                                    -74.7228     18.010     -4.149      0.000    -110.021     -39.425\n",
            "C(Week, Treatment(1))[T.37]                                                                                                   -109.8816     18.034     -6.093      0.000    -145.228     -74.535\n",
            "C(Week, Treatment(1))[T.38]                                                                                                   -129.9939     18.013     -7.217      0.000    -165.298     -94.689\n",
            "C(Week, Treatment(1))[T.39]                                                                                                   -124.0774     18.014     -6.888      0.000    -159.384     -88.771\n",
            "C(Week, Treatment(1))[T.40]                                                                                                   -119.0066     17.978     -6.620      0.000    -154.243     -83.770\n",
            "C(Week, Treatment(1))[T.41]                                                                                                   -135.0519     17.950     -7.524      0.000    -170.233     -99.871\n",
            "C(Week, Treatment(1))[T.42]                                                                                                   -151.2719     17.961     -8.422      0.000    -186.475    -116.069\n",
            "C(Week, Treatment(1))[T.43]                                                                                                   -168.0851     17.946     -9.366      0.000    -203.259    -132.911\n",
            "C(Week, Treatment(1))[T.44]                                                                                                   -160.8196     17.935     -8.967      0.000    -195.972    -125.667\n",
            "C(Week, Treatment(1))[T.45]                                                                                                   -174.0296     17.933     -9.705      0.000    -209.177    -138.882\n",
            "C(Week, Treatment(1))[T.46]                                                                                                   -209.0626     17.944    -11.651      0.000    -244.232    -173.893\n",
            "C(Week, Treatment(1))[T.47]                                                                                                   -269.5332     17.989    -14.983      0.000    -304.792    -234.275\n",
            "C(Week, Treatment(1))[T.48]                                                                                                   -243.4157     17.967    -13.548      0.000    -278.630    -208.202\n",
            "C(Week, Treatment(1))[T.49]                                                                                                   -203.7224     17.968    -11.338      0.000    -238.939    -168.506\n",
            "C(Week, Treatment(1))[T.50]                                                                                                   -220.8474     17.985    -12.279      0.000    -256.098    -185.597\n",
            "C(Week, Treatment(1))[T.51]                                                                                                   -254.5807     18.006    -14.139      0.000    -289.872    -219.289\n",
            "C(Week, Treatment(1))[T.52]                                                                                                   -279.0254     18.002    -15.500      0.000    -314.308    -243.742\n",
            "C(Week, Treatment(1))[T.53]                                                                                                   -253.2063     28.796     -8.793      0.000    -309.645    -196.768\n",
            "C(Q('Total Ounces'), Treatment(1))[T.3]                                                                                        -37.1057    105.568     -0.351      0.725    -244.015     169.803\n",
            "C(Q('Total Ounces'), Treatment(1))[T.4]                                                                                        172.2025     86.903      1.982      0.048       1.875     342.530\n",
            "C(Q('Total Ounces'), Treatment(1))[T.5]                                                                                        201.9437     83.660      2.414      0.016      37.973     365.915\n",
            "C(Q('Total Ounces'), Treatment(1))[T.6]                                                                                        259.7672     82.546      3.147      0.002      97.980     421.554\n",
            "C(Q('Total Ounces'), Treatment(1))[T.7]                                                                                        326.6266     82.582      3.955      0.000     164.769     488.485\n",
            "C(Q('Total Ounces'), Treatment(1))[T.8]                                                                                        397.7181     82.418      4.826      0.000     236.181     559.255\n",
            "C(Q('Total Ounces'), Treatment(1))[T.9]                                                                                        232.7094     82.829      2.810      0.005      70.367     395.052\n",
            "C(Q('Total Ounces'), Treatment(1))[T.10]                                                                                       192.0928     82.465      2.329      0.020      30.465     353.721\n",
            "C(Q('Total Ounces'), Treatment(1))[T.11]                                                                                       285.2728     82.894      3.441      0.001     122.803     447.742\n",
            "C(Q('Total Ounces'), Treatment(1))[T.12]                                                                                       310.6570     82.570      3.762      0.000     148.823     472.491\n",
            "C(Q('Total Ounces'), Treatment(1))[T.13]                                                                                      -114.8041     83.010     -1.383      0.167    -277.502      47.894\n",
            "C(Q('Total Ounces'), Treatment(1))[T.14]                                                                                       304.0086     82.733      3.675      0.000     141.855     466.162\n",
            "C(Q('Total Ounces'), Treatment(1))[T.15]                                                                                      -177.3668     83.970     -2.112      0.035    -341.944     -12.789\n",
            "C(Q('Total Ounces'), Treatment(1))[T.16]                                                                                       428.1770     82.763      5.174      0.000     265.963     590.391\n",
            "C(Q('Total Ounces'), Treatment(1))[T.17]                                                                                       156.9981     97.768      1.606      0.108     -34.625     348.621\n",
            "C(Q('Total Ounces'), Treatment(1))[T.18]                                                                                      -216.9568     86.172     -2.518      0.012    -385.851     -48.062\n",
            "C(Q('Total Ounces'), Treatment(1))[T.19]                                                                                      -418.1703     84.645     -4.940      0.000    -584.072    -252.269\n",
            "C(Q('Total Ounces'), Treatment(1))[T.20]                                                                                        66.3090     84.607      0.784      0.433     -99.517     232.135\n",
            "C(Q('Total Ounces'), Treatment(1))[T.21]                                                                                      1001.9885     90.952     11.017      0.000     823.726    1180.251\n",
            "C(Q('Total Ounces'), Treatment(1))[T.22]                                                                                       447.5251     90.557      4.942      0.000     270.036     625.015\n",
            "C(Q('Total Ounces'), Treatment(1))[T.24]                                                                                       319.4256     85.160      3.751      0.000     152.515     486.336\n",
            "C(Q('Total Ounces'), Treatment(1))[T.26]                                                                                       273.9338     87.308      3.138      0.002     102.813     445.054\n",
            "C(Q('Total Ounces'), Treatment(1))[T.27]                                                                                       811.4409    120.001      6.762      0.000     576.242    1046.640\n",
            "C(Q('Total Ounces'), Treatment(1))[T.28]                                                                                       563.5019    152.139      3.704      0.000     265.314     861.690\n",
            "C(Q('Total Ounces'), Treatment(1))[T.29]                                                                                       409.7663   1103.798      0.371      0.710   -1753.641    2573.174\n",
            "C(Q('Total Ounces'), Treatment(1))[T.30]                                                                                       234.4999     85.477      2.743      0.006      66.967     402.033\n",
            "C(Q('Total Ounces'), Treatment(1))[T.32]                                                                                       594.0989     84.527      7.029      0.000     428.429     759.769\n",
            "C(Q('Total Ounces'), Treatment(1))[T.34]                                                                                        95.3874    165.398      0.577      0.564    -228.788     419.563\n",
            "C(Q('Total Ounces'), Treatment(1))[T.35]                                                                                       334.9208     94.334      3.550      0.000     150.030     519.812\n",
            "C(Q('Total Ounces'), Treatment(1))[T.36]                                                                                       260.7529     96.839      2.693      0.007      70.952     450.554\n",
            "C(Q('Total Ounces'), Treatment(1))[T.40]                                                                                       834.7280     85.596      9.752      0.000     666.963    1002.493\n",
            "C(Q('Total Ounces'), Treatment(1))[T.41]                                                                                       122.6168    153.987      0.796      0.426    -179.192     424.426\n",
            "C(Q('Total Ounces'), Treatment(1))[T.42]                                                                                       702.4707     95.615      7.347      0.000     515.069     889.872\n",
            "C(Q('Total Ounces'), Treatment(1))[T.43]                                                                                       353.6093    160.185      2.208      0.027      39.652     667.567\n",
            "C(Q('Total Ounces'), Treatment(1))[T.48]                                                                                       345.7329     96.702      3.575      0.000     156.200     535.266\n",
            "C(Q('Total Ounces'), Treatment(1))[T.49]                                                                                       327.1148    182.940      1.788      0.074     -31.441     685.670\n",
            "C(Q('Total Ounces'), Treatment(1))[T.51]                                                                                       569.0650     91.077      6.248      0.000     390.557     747.573\n",
            "C(Q('Total Ounces'), Treatment(1))[T.56]                                                                                       449.6780     96.640      4.653      0.000     260.267     639.089\n",
            "C(Q('Total Ounces'), Treatment(1))[T.58]                                                                                       617.3846    118.338      5.217      0.000     385.446     849.324\n",
            "C(Q('Total Ounces'), Treatment(1))[T.90]                                                                                        65.3700    208.626      0.313      0.754    -343.530     474.270\n",
            "C(Year, Treatment(2020))[T.2021]                                                                                               -92.3871      5.038    -18.337      0.000    -102.262     -82.512\n",
            "C(Year, Treatment(2020))[T.2022]                                                                                              -192.2095      5.012    -38.353      0.000    -202.032    -182.387\n",
            "C(Year, Treatment(2020))[T.2023]                                                                                              -259.6015      5.200    -49.921      0.000    -269.794    -249.409\n",
            "C(Year, Treatment(2020))[T.2024]                                                                                              -355.9004     17.402    -20.452      0.000    -390.008    -321.793\n",
            "C(Q('Product Type'), Treatment('TOFU'))[T.BURGER]:C(Region, Treatment('California '))[T.Great Lakes ]                         3109.6053    171.966     18.083      0.000    2772.558    3446.652\n",
            "C(Q('Product Type'), Treatment('TOFU'))[T.FALAFEL]:C(Region, Treatment('California '))[T.Great Lakes ]                        -131.2245    157.692     -0.832      0.405    -440.295     177.846\n",
            "C(Q('Product Type'), Treatment('TOFU'))[T.PLANT BASED MEAT SUBSTITUTE]:C(Region, Treatment('California '))[T.Great Lakes ]      80.3860     46.473      1.730      0.084     -10.700     171.472\n",
            "C(Q('Product Type'), Treatment('TOFU'))[T.POULTRY SUBSTITUTE]:C(Region, Treatment('California '))[T.Great Lakes ]               81.8412     48.647      1.682      0.093     -13.506     177.188\n",
            "C(Q('Product Type'), Treatment('TOFU'))[T.SEAFOOD SUBSTITUTE]:C(Region, Treatment('California '))[T.Great Lakes ]              -11.6124     73.464     -0.158      0.874    -155.599     132.374\n",
            "C(Q('Product Type'), Treatment('TOFU'))[T.SEITAN]:C(Region, Treatment('California '))[T.Great Lakes ]                           53.7733    112.735      0.477      0.633    -167.183     274.729\n",
            "C(Q('Product Type'), Treatment('TOFU'))[T.SOY SUBSTITUTE]:C(Region, Treatment('California '))[T.Great Lakes ]                  -64.9977    136.354     -0.477      0.634    -332.247     202.252\n",
            "C(Q('Product Type'), Treatment('TOFU'))[T.TEMPEH]:C(Region, Treatment('California '))[T.Great Lakes ]                          -92.1200     79.550     -1.158      0.247    -248.035      63.795\n",
            "C(Q('Product Type'), Treatment('TOFU'))[T.BURGER]:C(Region, Treatment('California '))[T.Mid]                                  1062.4983    172.568      6.157      0.000     724.271    1400.726\n",
            "C(Q('Product Type'), Treatment('TOFU'))[T.FALAFEL]:C(Region, Treatment('California '))[T.Mid]                                 -207.2678    161.494     -1.283      0.199    -523.791     109.256\n",
            "C(Q('Product Type'), Treatment('TOFU'))[T.PLANT BASED MEAT SUBSTITUTE]:C(Region, Treatment('California '))[T.Mid]                7.8289     49.407      0.158      0.874     -89.008     104.666\n",
            "C(Q('Product Type'), Treatment('TOFU'))[T.POULTRY SUBSTITUTE]:C(Region, Treatment('California '))[T.Mid]                        -1.3295     51.393     -0.026      0.979    -102.057      99.398\n",
            "C(Q('Product Type'), Treatment('TOFU'))[T.SEAFOOD SUBSTITUTE]:C(Region, Treatment('California '))[T.Mid]                        84.6804     71.784      1.180      0.238     -56.014     225.375\n",
            "C(Q('Product Type'), Treatment('TOFU'))[T.SEITAN]:C(Region, Treatment('California '))[T.Mid]                                  -159.8066    105.822     -1.510      0.131    -367.214      47.601\n",
            "C(Q('Product Type'), Treatment('TOFU'))[T.SOY SUBSTITUTE]:C(Region, Treatment('California '))[T.Mid]                          -240.6112    123.103     -1.955      0.051    -481.888       0.666\n",
            "C(Q('Product Type'), Treatment('TOFU'))[T.TEMPEH]:C(Region, Treatment('California '))[T.Mid]                                   -17.7113     78.630     -0.225      0.822    -171.823     136.401\n",
            "C(Q('Product Type'), Treatment('TOFU'))[T.BURGER]:C(Region, Treatment('California '))[T.Northeast ]                           3152.5671    171.123     18.423      0.000    2817.172    3487.962\n",
            "C(Q('Product Type'), Treatment('TOFU'))[T.FALAFEL]:C(Region, Treatment('California '))[T.Northeast ]                           -32.5975    148.437     -0.220      0.826    -323.529     258.334\n",
            "C(Q('Product Type'), Treatment('TOFU'))[T.PLANT BASED MEAT SUBSTITUTE]:C(Region, Treatment('California '))[T.Northeast ]       351.8244     44.070      7.983      0.000     265.449     438.200\n",
            "C(Q('Product Type'), Treatment('TOFU'))[T.POULTRY SUBSTITUTE]:C(Region, Treatment('California '))[T.Northeast ]                330.9602     46.179      7.167      0.000     240.451     421.470\n",
            "C(Q('Product Type'), Treatment('TOFU'))[T.SEAFOOD SUBSTITUTE]:C(Region, Treatment('California '))[T.Northeast ]                284.2723     67.374      4.219      0.000     152.221     416.324\n",
            "C(Q('Product Type'), Treatment('TOFU'))[T.SEITAN]:C(Region, Treatment('California '))[T.Northeast ]                            150.9725    103.146      1.464      0.143     -51.190     353.135\n",
            "C(Q('Product Type'), Treatment('TOFU'))[T.SOY SUBSTITUTE]:C(Region, Treatment('California '))[T.Northeast ]                   -181.8113    100.835     -1.803      0.071    -379.444      15.822\n",
            "C(Q('Product Type'), Treatment('TOFU'))[T.TEMPEH]:C(Region, Treatment('California '))[T.Northeast ]                            562.3516     73.963      7.603      0.000     417.386     707.317\n",
            "C(Q('Product Type'), Treatment('TOFU'))[T.BURGER]:C(Region, Treatment('California '))[T.Plains ]                               905.0175    175.696      5.151      0.000     560.660    1249.376\n",
            "C(Q('Product Type'), Treatment('TOFU'))[T.FALAFEL]:C(Region, Treatment('California '))[T.Plains ]                               19.7426    165.842      0.119      0.905    -305.303     344.788\n",
            "C(Q('Product Type'), Treatment('TOFU'))[T.PLANT BASED MEAT SUBSTITUTE]:C(Region, Treatment('California '))[T.Plains ]         -161.3318     57.557     -2.803      0.005    -274.142     -48.522\n",
            "C(Q('Product Type'), Treatment('TOFU'))[T.POULTRY SUBSTITUTE]:C(Region, Treatment('California '))[T.Plains ]                    51.7700     59.472      0.870      0.384     -64.792     168.332\n",
            "C(Q('Product Type'), Treatment('TOFU'))[T.SEAFOOD SUBSTITUTE]:C(Region, Treatment('California '))[T.Plains ]                     0.0303     86.246      0.000      1.000    -169.009     169.069\n",
            "C(Q('Product Type'), Treatment('TOFU'))[T.SEITAN]:C(Region, Treatment('California '))[T.Plains ]                                96.6535    121.979      0.792      0.428    -142.422     335.729\n",
            "C(Q('Product Type'), Treatment('TOFU'))[T.SOY SUBSTITUTE]:C(Region, Treatment('California '))[T.Plains ]                        33.5148    115.298      0.291      0.771    -192.465     259.494\n",
            "C(Q('Product Type'), Treatment('TOFU'))[T.TEMPEH]:C(Region, Treatment('California '))[T.Plains ]                              -203.7175     88.214     -2.309      0.021    -376.615     -30.820\n",
            "C(Q('Product Type'), Treatment('TOFU'))[T.BURGER]:C(Region, Treatment('California '))[T.South Central ]                       -176.2285    176.594     -0.998      0.318    -522.347     169.890\n",
            "C(Q('Product Type'), Treatment('TOFU'))[T.FALAFEL]:C(Region, Treatment('California '))[T.South Central ]                        49.8444    172.634      0.289      0.773    -288.512     388.200\n",
            "C(Q('Product Type'), Treatment('TOFU'))[T.PLANT BASED MEAT SUBSTITUTE]:C(Region, Treatment('California '))[T.South Central ]    96.3503     59.001      1.633      0.102     -19.289     211.990\n",
            "C(Q('Product Type'), Treatment('TOFU'))[T.POULTRY SUBSTITUTE]:C(Region, Treatment('California '))[T.South Central ]            227.2228     60.871      3.733      0.000     107.918     346.528\n",
            "C(Q('Product Type'), Treatment('TOFU'))[T.SEAFOOD SUBSTITUTE]:C(Region, Treatment('California '))[T.South Central ]            175.9221     83.479      2.107      0.035      12.306     339.538\n",
            "C(Q('Product Type'), Treatment('TOFU'))[T.SEITAN]:C(Region, Treatment('California '))[T.South Central ]                        133.7915    126.369      1.059      0.290    -113.887     381.470\n",
            "C(Q('Product Type'), Treatment('TOFU'))[T.SOY SUBSTITUTE]:C(Region, Treatment('California '))[T.South Central ]                146.2030    156.177      0.936      0.349    -159.898     452.304\n",
            "C(Q('Product Type'), Treatment('TOFU'))[T.TEMPEH]:C(Region, Treatment('California '))[T.South Central ]                        129.1893     89.571      1.442      0.149     -46.367     304.745\n",
            "C(Q('Product Type'), Treatment('TOFU'))[T.BURGER]:C(Region, Treatment('California '))[T.Southeast ]                            161.2718    175.986      0.916      0.359    -183.656     506.199\n",
            "C(Q('Product Type'), Treatment('TOFU'))[T.FALAFEL]:C(Region, Treatment('California '))[T.Southeast ]                          -396.5123    167.942     -2.361      0.018    -725.673     -67.352\n",
            "C(Q('Product Type'), Treatment('TOFU'))[T.PLANT BASED MEAT SUBSTITUTE]:C(Region, Treatment('California '))[T.Southeast ]       -94.1953     55.754     -1.689      0.091    -203.471      15.081\n",
            "C(Q('Product Type'), Treatment('TOFU'))[T.POULTRY SUBSTITUTE]:C(Region, Treatment('California '))[T.Southeast ]               -170.0236     57.679     -2.948      0.003    -283.073     -56.974\n",
            "C(Q('Product Type'), Treatment('TOFU'))[T.SEAFOOD SUBSTITUTE]:C(Region, Treatment('California '))[T.Southeast ]                 -1.1950     79.959     -0.015      0.988    -157.911     155.521\n",
            "C(Q('Product Type'), Treatment('TOFU'))[T.SEITAN]:C(Region, Treatment('California '))[T.Southeast ]                           -499.2142    143.853     -3.470      0.001    -781.161    -217.268\n",
            "C(Q('Product Type'), Treatment('TOFU'))[T.SOY SUBSTITUTE]:C(Region, Treatment('California '))[T.Southeast ]                   -426.3627    155.368     -2.744      0.006    -730.879    -121.847\n",
            "C(Q('Product Type'), Treatment('TOFU'))[T.TEMPEH]:C(Region, Treatment('California '))[T.Southeast ]                           -189.9967     93.582     -2.030      0.042    -373.414      -6.580\n",
            "C(Q('Product Type'), Treatment('TOFU'))[T.BURGER]:C(Region, Treatment('California '))[T.West ]                                -309.3087    175.092     -1.767      0.077    -652.484      33.867\n",
            "C(Q('Product Type'), Treatment('TOFU'))[T.FALAFEL]:C(Region, Treatment('California '))[T.West ]                                 29.6008    160.883      0.184      0.854    -285.725     344.926\n",
            "C(Q('Product Type'), Treatment('TOFU'))[T.PLANT BASED MEAT SUBSTITUTE]:C(Region, Treatment('California '))[T.West ]           -107.3251     46.134     -2.326      0.020    -197.747     -16.904\n",
            "C(Q('Product Type'), Treatment('TOFU'))[T.POULTRY SUBSTITUTE]:C(Region, Treatment('California '))[T.West ]                    -112.0743     48.426     -2.314      0.021    -206.988     -17.161\n",
            "C(Q('Product Type'), Treatment('TOFU'))[T.SEAFOOD SUBSTITUTE]:C(Region, Treatment('California '))[T.West ]                    -106.9515     72.897     -1.467      0.142    -249.826      35.924\n",
            "C(Q('Product Type'), Treatment('TOFU'))[T.SEITAN]:C(Region, Treatment('California '))[T.West ]                                  63.3943    118.026      0.537      0.591    -167.932     294.721\n",
            "C(Q('Product Type'), Treatment('TOFU'))[T.SOY SUBSTITUTE]:C(Region, Treatment('California '))[T.West ]                          24.7038    109.426      0.226      0.821    -189.767     239.174\n",
            "C(Q('Product Type'), Treatment('TOFU'))[T.TEMPEH]:C(Region, Treatment('California '))[T.West ]                                 278.5885     79.398      3.509      0.000     122.971     434.206\n",
            "Q('Price per Unit')                                                                                                            -14.5758      1.115    -13.071      0.000     -16.761     -12.390\n",
            "Q('ACV Weighted Distribution')                                                                                                  38.6351      0.389     99.203      0.000      37.872      39.398\n",
            "I(Q('ACV Weighted Distribution') ** 2)                                                                                           3.0027      0.008    382.905      0.000       2.987       3.018\n",
            "==============================================================================\n",
            "Omnibus:                  1964402.860   Durbin-Watson:                   1.551\n",
            "Prob(Omnibus):                  0.000   Jarque-Bera (JB):     118925081416.957\n",
            "Skew:                          23.624   Prob(JB):                         0.00\n",
            "Kurtosis:                    1863.124   Cond. No.                     4.42e+05\n",
            "==============================================================================\n",
            "\n",
            "Notes:\n",
            "[1] Standard Errors assume that the covariance matrix of the errors is correctly specified.\n",
            "[2] The condition number is large, 4.42e+05. This might indicate that there are\n",
            "strong multicollinearity or other numerical problems.\n"
          ]
        }
      ]
    },
    {
      "cell_type": "code",
      "source": [
        "model_summary = model.summary().tables[1].as_html()\n",
        "model_summary = pd.read_html(model_summary, header=0, index_col=0)[0]"
      ],
      "metadata": {
        "colab": {
          "base_uri": "https://localhost:8080/"
        },
        "id": "-vMQszp8Y1kW",
        "outputId": "0086e1df-1482-401a-9833-cc0c12d13429"
      },
      "execution_count": null,
      "outputs": [
        {
          "output_type": "stream",
          "name": "stderr",
          "text": [
            "<ipython-input-28-c264e40cc9e2>:2: FutureWarning:\n",
            "\n",
            "Passing literal html to 'read_html' is deprecated and will be removed in a future version. To read from a literal string, wrap it in a 'StringIO' object.\n",
            "\n"
          ]
        }
      ]
    },
    {
      "cell_type": "code",
      "source": [
        "#Export the results dataframe to an Excel Sheet\n",
        "\n",
        "model_summary.to_excel('/content/drive/MyDrive/complete_regression_results.xlsx',\n",
        "                     \tsheet_name='Data',\n",
        "\t\t\t                na_rep='N/A',\n",
        "                      index = True)"
      ],
      "metadata": {
        "id": "1K2o0EC7YgtC"
      },
      "execution_count": null,
      "outputs": []
    },
    {
      "cell_type": "markdown",
      "source": [],
      "metadata": {
        "id": "0hjALnSyr38c"
      }
    }
  ]
}